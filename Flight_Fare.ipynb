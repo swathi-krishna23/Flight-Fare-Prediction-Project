{
  "nbformat": 4,
  "nbformat_minor": 0,
  "metadata": {
    "colab": {
      "name": "Untitled8.ipynb",
      "provenance": []
    },
    "kernelspec": {
      "name": "python3",
      "display_name": "Python 3"
    }
  },
  "cells": [
    {
      "cell_type": "code",
      "metadata": {
        "id": "RCCTyJB9NXgk"
      },
      "source": [
        "import numpy as np\r\n",
        "import pandas as pd\r\n",
        "import matplotlib.pyplot as plt\r\n",
        "import seaborn as sns"
      ],
      "execution_count": 1,
      "outputs": []
    },
    {
      "cell_type": "code",
      "metadata": {
        "id": "7VUqBoAbPZem"
      },
      "source": [
        "train_data=pd.read_excel(\"Data_Train.xlsx\")"
      ],
      "execution_count": 2,
      "outputs": []
    },
    {
      "cell_type": "code",
      "metadata": {
        "id": "Ng-IZUb7Qyyj"
      },
      "source": [
        "pd.set_option('display.max_columns',None)"
      ],
      "execution_count": 3,
      "outputs": []
    },
    {
      "cell_type": "code",
      "metadata": {
        "colab": {
          "base_uri": "https://localhost:8080/",
          "height": 585
        },
        "id": "PsiiTYRtSBQ-",
        "outputId": "eb8aab0c-e10a-4e35-dbae-92e68a6affff"
      },
      "source": [
        "train_data.head()"
      ],
      "execution_count": 4,
      "outputs": [
        {
          "output_type": "execute_result",
          "data": {
            "text/html": [
              "<div>\n",
              "<style scoped>\n",
              "    .dataframe tbody tr th:only-of-type {\n",
              "        vertical-align: middle;\n",
              "    }\n",
              "\n",
              "    .dataframe tbody tr th {\n",
              "        vertical-align: top;\n",
              "    }\n",
              "\n",
              "    .dataframe thead th {\n",
              "        text-align: right;\n",
              "    }\n",
              "</style>\n",
              "<table border=\"1\" class=\"dataframe\">\n",
              "  <thead>\n",
              "    <tr style=\"text-align: right;\">\n",
              "      <th></th>\n",
              "      <th>Airline</th>\n",
              "      <th>Date_of_Journey</th>\n",
              "      <th>Source</th>\n",
              "      <th>Destination</th>\n",
              "      <th>Route</th>\n",
              "      <th>Dep_Time</th>\n",
              "      <th>Arrival_Time</th>\n",
              "      <th>Duration</th>\n",
              "      <th>Total_Stops</th>\n",
              "      <th>Additional_Info</th>\n",
              "      <th>Price</th>\n",
              "    </tr>\n",
              "  </thead>\n",
              "  <tbody>\n",
              "    <tr>\n",
              "      <th>0</th>\n",
              "      <td>IndiGo</td>\n",
              "      <td>24/03/2019</td>\n",
              "      <td>Banglore</td>\n",
              "      <td>New Delhi</td>\n",
              "      <td>BLR → DEL</td>\n",
              "      <td>22:20</td>\n",
              "      <td>01:10 22 Mar</td>\n",
              "      <td>2h 50m</td>\n",
              "      <td>non-stop</td>\n",
              "      <td>No info</td>\n",
              "      <td>3897</td>\n",
              "    </tr>\n",
              "    <tr>\n",
              "      <th>1</th>\n",
              "      <td>Air India</td>\n",
              "      <td>1/05/2019</td>\n",
              "      <td>Kolkata</td>\n",
              "      <td>Banglore</td>\n",
              "      <td>CCU → IXR → BBI → BLR</td>\n",
              "      <td>05:50</td>\n",
              "      <td>13:15</td>\n",
              "      <td>7h 25m</td>\n",
              "      <td>2 stops</td>\n",
              "      <td>No info</td>\n",
              "      <td>7662</td>\n",
              "    </tr>\n",
              "    <tr>\n",
              "      <th>2</th>\n",
              "      <td>Jet Airways</td>\n",
              "      <td>9/06/2019</td>\n",
              "      <td>Delhi</td>\n",
              "      <td>Cochin</td>\n",
              "      <td>DEL → LKO → BOM → COK</td>\n",
              "      <td>09:25</td>\n",
              "      <td>04:25 10 Jun</td>\n",
              "      <td>19h</td>\n",
              "      <td>2 stops</td>\n",
              "      <td>No info</td>\n",
              "      <td>13882</td>\n",
              "    </tr>\n",
              "    <tr>\n",
              "      <th>3</th>\n",
              "      <td>IndiGo</td>\n",
              "      <td>12/05/2019</td>\n",
              "      <td>Kolkata</td>\n",
              "      <td>Banglore</td>\n",
              "      <td>CCU → NAG → BLR</td>\n",
              "      <td>18:05</td>\n",
              "      <td>23:30</td>\n",
              "      <td>5h 25m</td>\n",
              "      <td>1 stop</td>\n",
              "      <td>No info</td>\n",
              "      <td>6218</td>\n",
              "    </tr>\n",
              "    <tr>\n",
              "      <th>4</th>\n",
              "      <td>IndiGo</td>\n",
              "      <td>01/03/2019</td>\n",
              "      <td>Banglore</td>\n",
              "      <td>New Delhi</td>\n",
              "      <td>BLR → NAG → DEL</td>\n",
              "      <td>16:50</td>\n",
              "      <td>21:35</td>\n",
              "      <td>4h 45m</td>\n",
              "      <td>1 stop</td>\n",
              "      <td>No info</td>\n",
              "      <td>13302</td>\n",
              "    </tr>\n",
              "  </tbody>\n",
              "</table>\n",
              "</div>"
            ],
            "text/plain": [
              "       Airline Date_of_Journey    Source Destination                  Route  \\\n",
              "0       IndiGo      24/03/2019  Banglore   New Delhi              BLR → DEL   \n",
              "1    Air India       1/05/2019   Kolkata    Banglore  CCU → IXR → BBI → BLR   \n",
              "2  Jet Airways       9/06/2019     Delhi      Cochin  DEL → LKO → BOM → COK   \n",
              "3       IndiGo      12/05/2019   Kolkata    Banglore        CCU → NAG → BLR   \n",
              "4       IndiGo      01/03/2019  Banglore   New Delhi        BLR → NAG → DEL   \n",
              "\n",
              "  Dep_Time  Arrival_Time Duration Total_Stops Additional_Info  Price  \n",
              "0    22:20  01:10 22 Mar   2h 50m    non-stop         No info   3897  \n",
              "1    05:50         13:15   7h 25m     2 stops         No info   7662  \n",
              "2    09:25  04:25 10 Jun      19h     2 stops         No info  13882  \n",
              "3    18:05         23:30   5h 25m      1 stop         No info   6218  \n",
              "4    16:50         21:35   4h 45m      1 stop         No info  13302  "
            ]
          },
          "metadata": {
            "tags": []
          },
          "execution_count": 4
        }
      ]
    },
    {
      "cell_type": "code",
      "metadata": {
        "colab": {
          "base_uri": "https://localhost:8080/"
        },
        "id": "Q2XTkh2JSG3o",
        "outputId": "759e4cc0-9493-4d93-f212-93ceb5cdf331"
      },
      "source": [
        "train_data.info()"
      ],
      "execution_count": 5,
      "outputs": [
        {
          "output_type": "stream",
          "text": [
            "<class 'pandas.core.frame.DataFrame'>\n",
            "RangeIndex: 10683 entries, 0 to 10682\n",
            "Data columns (total 11 columns):\n",
            " #   Column           Non-Null Count  Dtype \n",
            "---  ------           --------------  ----- \n",
            " 0   Airline          10683 non-null  object\n",
            " 1   Date_of_Journey  10683 non-null  object\n",
            " 2   Source           10683 non-null  object\n",
            " 3   Destination      10683 non-null  object\n",
            " 4   Route            10682 non-null  object\n",
            " 5   Dep_Time         10683 non-null  object\n",
            " 6   Arrival_Time     10683 non-null  object\n",
            " 7   Duration         10683 non-null  object\n",
            " 8   Total_Stops      10682 non-null  object\n",
            " 9   Additional_Info  10683 non-null  object\n",
            " 10  Price            10683 non-null  int64 \n",
            "dtypes: int64(1), object(10)\n",
            "memory usage: 918.2+ KB\n"
          ],
          "name": "stdout"
        }
      ]
    },
    {
      "cell_type": "code",
      "metadata": {
        "colab": {
          "base_uri": "https://localhost:8080/",
          "height": 284
        },
        "id": "3CU9dDUvSQ7v",
        "outputId": "e1624b86-8c1a-479e-91d8-7781f810c2a2"
      },
      "source": [
        "train_data.describe()"
      ],
      "execution_count": 6,
      "outputs": [
        {
          "output_type": "execute_result",
          "data": {
            "text/html": [
              "<div>\n",
              "<style scoped>\n",
              "    .dataframe tbody tr th:only-of-type {\n",
              "        vertical-align: middle;\n",
              "    }\n",
              "\n",
              "    .dataframe tbody tr th {\n",
              "        vertical-align: top;\n",
              "    }\n",
              "\n",
              "    .dataframe thead th {\n",
              "        text-align: right;\n",
              "    }\n",
              "</style>\n",
              "<table border=\"1\" class=\"dataframe\">\n",
              "  <thead>\n",
              "    <tr style=\"text-align: right;\">\n",
              "      <th></th>\n",
              "      <th>Price</th>\n",
              "    </tr>\n",
              "  </thead>\n",
              "  <tbody>\n",
              "    <tr>\n",
              "      <th>count</th>\n",
              "      <td>10683.000000</td>\n",
              "    </tr>\n",
              "    <tr>\n",
              "      <th>mean</th>\n",
              "      <td>9087.064121</td>\n",
              "    </tr>\n",
              "    <tr>\n",
              "      <th>std</th>\n",
              "      <td>4611.359167</td>\n",
              "    </tr>\n",
              "    <tr>\n",
              "      <th>min</th>\n",
              "      <td>1759.000000</td>\n",
              "    </tr>\n",
              "    <tr>\n",
              "      <th>25%</th>\n",
              "      <td>5277.000000</td>\n",
              "    </tr>\n",
              "    <tr>\n",
              "      <th>50%</th>\n",
              "      <td>8372.000000</td>\n",
              "    </tr>\n",
              "    <tr>\n",
              "      <th>75%</th>\n",
              "      <td>12373.000000</td>\n",
              "    </tr>\n",
              "    <tr>\n",
              "      <th>max</th>\n",
              "      <td>79512.000000</td>\n",
              "    </tr>\n",
              "  </tbody>\n",
              "</table>\n",
              "</div>"
            ],
            "text/plain": [
              "              Price\n",
              "count  10683.000000\n",
              "mean    9087.064121\n",
              "std     4611.359167\n",
              "min     1759.000000\n",
              "25%     5277.000000\n",
              "50%     8372.000000\n",
              "75%    12373.000000\n",
              "max    79512.000000"
            ]
          },
          "metadata": {
            "tags": []
          },
          "execution_count": 6
        }
      ]
    },
    {
      "cell_type": "code",
      "metadata": {
        "colab": {
          "base_uri": "https://localhost:8080/"
        },
        "id": "5YFJkdEGSUuf",
        "outputId": "06c6b8af-fe68-436e-b640-1926e8c5dc97"
      },
      "source": [
        "train_data.isnull().sum()"
      ],
      "execution_count": 7,
      "outputs": [
        {
          "output_type": "execute_result",
          "data": {
            "text/plain": [
              "Airline            0\n",
              "Date_of_Journey    0\n",
              "Source             0\n",
              "Destination        0\n",
              "Route              1\n",
              "Dep_Time           0\n",
              "Arrival_Time       0\n",
              "Duration           0\n",
              "Total_Stops        1\n",
              "Additional_Info    0\n",
              "Price              0\n",
              "dtype: int64"
            ]
          },
          "metadata": {
            "tags": []
          },
          "execution_count": 7
        }
      ]
    },
    {
      "cell_type": "code",
      "metadata": {
        "colab": {
          "base_uri": "https://localhost:8080/"
        },
        "id": "c9R2BcVrUlU9",
        "outputId": "ec893c8e-cb1b-4c1e-bf28-d8b496f65d21"
      },
      "source": [
        "train_data.shape"
      ],
      "execution_count": 8,
      "outputs": [
        {
          "output_type": "execute_result",
          "data": {
            "text/plain": [
              "(10683, 11)"
            ]
          },
          "metadata": {
            "tags": []
          },
          "execution_count": 8
        }
      ]
    },
    {
      "cell_type": "code",
      "metadata": {
        "id": "NsfhEXPJSyHp"
      },
      "source": [
        "train_data.dropna(inplace=True)"
      ],
      "execution_count": 9,
      "outputs": []
    },
    {
      "cell_type": "code",
      "metadata": {
        "colab": {
          "base_uri": "https://localhost:8080/"
        },
        "id": "CWMR44nkUXYR",
        "outputId": "e7654b52-3104-4913-933f-a8e02ba50b62"
      },
      "source": [
        "train_data.shape"
      ],
      "execution_count": 10,
      "outputs": [
        {
          "output_type": "execute_result",
          "data": {
            "text/plain": [
              "(10682, 11)"
            ]
          },
          "metadata": {
            "tags": []
          },
          "execution_count": 10
        }
      ]
    },
    {
      "cell_type": "code",
      "metadata": {
        "colab": {
          "base_uri": "https://localhost:8080/"
        },
        "id": "HQy05udRUdek",
        "outputId": "684d3118-a906-4c99-b3c1-730635bc200c"
      },
      "source": [
        "train_data.isnull().sum()"
      ],
      "execution_count": 11,
      "outputs": [
        {
          "output_type": "execute_result",
          "data": {
            "text/plain": [
              "Airline            0\n",
              "Date_of_Journey    0\n",
              "Source             0\n",
              "Destination        0\n",
              "Route              0\n",
              "Dep_Time           0\n",
              "Arrival_Time       0\n",
              "Duration           0\n",
              "Total_Stops        0\n",
              "Additional_Info    0\n",
              "Price              0\n",
              "dtype: int64"
            ]
          },
          "metadata": {
            "tags": []
          },
          "execution_count": 11
        }
      ]
    },
    {
      "cell_type": "code",
      "metadata": {
        "id": "btVH7bGxVx_M"
      },
      "source": [
        "train_data['Journey-Date']=pd.to_datetime(train_data['Date_of_Journey'],format=\"%d/%m/%Y\").dt.day\r\n",
        "train_data['Journey-Month']=pd.to_datetime(train_data['Date_of_Journey'],format=\"%d/%m/%Y\").dt.month\r\n",
        "#only one year data taken so no need to extract"
      ],
      "execution_count": 12,
      "outputs": []
    },
    {
      "cell_type": "code",
      "metadata": {
        "colab": {
          "base_uri": "https://localhost:8080/",
          "height": 602
        },
        "id": "FnLOfUT1ca-R",
        "outputId": "7dc1579a-ad70-44c1-986e-c2f806f8da56"
      },
      "source": [
        "train_data.head()"
      ],
      "execution_count": 13,
      "outputs": [
        {
          "output_type": "execute_result",
          "data": {
            "text/html": [
              "<div>\n",
              "<style scoped>\n",
              "    .dataframe tbody tr th:only-of-type {\n",
              "        vertical-align: middle;\n",
              "    }\n",
              "\n",
              "    .dataframe tbody tr th {\n",
              "        vertical-align: top;\n",
              "    }\n",
              "\n",
              "    .dataframe thead th {\n",
              "        text-align: right;\n",
              "    }\n",
              "</style>\n",
              "<table border=\"1\" class=\"dataframe\">\n",
              "  <thead>\n",
              "    <tr style=\"text-align: right;\">\n",
              "      <th></th>\n",
              "      <th>Airline</th>\n",
              "      <th>Date_of_Journey</th>\n",
              "      <th>Source</th>\n",
              "      <th>Destination</th>\n",
              "      <th>Route</th>\n",
              "      <th>Dep_Time</th>\n",
              "      <th>Arrival_Time</th>\n",
              "      <th>Duration</th>\n",
              "      <th>Total_Stops</th>\n",
              "      <th>Additional_Info</th>\n",
              "      <th>Price</th>\n",
              "      <th>Journey-Date</th>\n",
              "      <th>Journey-Month</th>\n",
              "    </tr>\n",
              "  </thead>\n",
              "  <tbody>\n",
              "    <tr>\n",
              "      <th>0</th>\n",
              "      <td>IndiGo</td>\n",
              "      <td>24/03/2019</td>\n",
              "      <td>Banglore</td>\n",
              "      <td>New Delhi</td>\n",
              "      <td>BLR → DEL</td>\n",
              "      <td>22:20</td>\n",
              "      <td>01:10 22 Mar</td>\n",
              "      <td>2h 50m</td>\n",
              "      <td>non-stop</td>\n",
              "      <td>No info</td>\n",
              "      <td>3897</td>\n",
              "      <td>24</td>\n",
              "      <td>3</td>\n",
              "    </tr>\n",
              "    <tr>\n",
              "      <th>1</th>\n",
              "      <td>Air India</td>\n",
              "      <td>1/05/2019</td>\n",
              "      <td>Kolkata</td>\n",
              "      <td>Banglore</td>\n",
              "      <td>CCU → IXR → BBI → BLR</td>\n",
              "      <td>05:50</td>\n",
              "      <td>13:15</td>\n",
              "      <td>7h 25m</td>\n",
              "      <td>2 stops</td>\n",
              "      <td>No info</td>\n",
              "      <td>7662</td>\n",
              "      <td>1</td>\n",
              "      <td>5</td>\n",
              "    </tr>\n",
              "    <tr>\n",
              "      <th>2</th>\n",
              "      <td>Jet Airways</td>\n",
              "      <td>9/06/2019</td>\n",
              "      <td>Delhi</td>\n",
              "      <td>Cochin</td>\n",
              "      <td>DEL → LKO → BOM → COK</td>\n",
              "      <td>09:25</td>\n",
              "      <td>04:25 10 Jun</td>\n",
              "      <td>19h</td>\n",
              "      <td>2 stops</td>\n",
              "      <td>No info</td>\n",
              "      <td>13882</td>\n",
              "      <td>9</td>\n",
              "      <td>6</td>\n",
              "    </tr>\n",
              "    <tr>\n",
              "      <th>3</th>\n",
              "      <td>IndiGo</td>\n",
              "      <td>12/05/2019</td>\n",
              "      <td>Kolkata</td>\n",
              "      <td>Banglore</td>\n",
              "      <td>CCU → NAG → BLR</td>\n",
              "      <td>18:05</td>\n",
              "      <td>23:30</td>\n",
              "      <td>5h 25m</td>\n",
              "      <td>1 stop</td>\n",
              "      <td>No info</td>\n",
              "      <td>6218</td>\n",
              "      <td>12</td>\n",
              "      <td>5</td>\n",
              "    </tr>\n",
              "    <tr>\n",
              "      <th>4</th>\n",
              "      <td>IndiGo</td>\n",
              "      <td>01/03/2019</td>\n",
              "      <td>Banglore</td>\n",
              "      <td>New Delhi</td>\n",
              "      <td>BLR → NAG → DEL</td>\n",
              "      <td>16:50</td>\n",
              "      <td>21:35</td>\n",
              "      <td>4h 45m</td>\n",
              "      <td>1 stop</td>\n",
              "      <td>No info</td>\n",
              "      <td>13302</td>\n",
              "      <td>1</td>\n",
              "      <td>3</td>\n",
              "    </tr>\n",
              "  </tbody>\n",
              "</table>\n",
              "</div>"
            ],
            "text/plain": [
              "       Airline Date_of_Journey    Source Destination                  Route  \\\n",
              "0       IndiGo      24/03/2019  Banglore   New Delhi              BLR → DEL   \n",
              "1    Air India       1/05/2019   Kolkata    Banglore  CCU → IXR → BBI → BLR   \n",
              "2  Jet Airways       9/06/2019     Delhi      Cochin  DEL → LKO → BOM → COK   \n",
              "3       IndiGo      12/05/2019   Kolkata    Banglore        CCU → NAG → BLR   \n",
              "4       IndiGo      01/03/2019  Banglore   New Delhi        BLR → NAG → DEL   \n",
              "\n",
              "  Dep_Time  Arrival_Time Duration Total_Stops Additional_Info  Price  \\\n",
              "0    22:20  01:10 22 Mar   2h 50m    non-stop         No info   3897   \n",
              "1    05:50         13:15   7h 25m     2 stops         No info   7662   \n",
              "2    09:25  04:25 10 Jun      19h     2 stops         No info  13882   \n",
              "3    18:05         23:30   5h 25m      1 stop         No info   6218   \n",
              "4    16:50         21:35   4h 45m      1 stop         No info  13302   \n",
              "\n",
              "   Journey-Date  Journey-Month  \n",
              "0            24              3  \n",
              "1             1              5  \n",
              "2             9              6  \n",
              "3            12              5  \n",
              "4             1              3  "
            ]
          },
          "metadata": {
            "tags": []
          },
          "execution_count": 13
        }
      ]
    },
    {
      "cell_type": "code",
      "metadata": {
        "id": "dNBa5jivcc_s"
      },
      "source": [
        "train_data.drop('Date_of_Journey',axis=1,inplace=True)"
      ],
      "execution_count": 14,
      "outputs": []
    },
    {
      "cell_type": "code",
      "metadata": {
        "colab": {
          "base_uri": "https://localhost:8080/"
        },
        "id": "qpCzIAnRdgOu",
        "outputId": "8bfe4a44-73dc-4599-bd35-68cac37dba8e"
      },
      "source": [
        "train_data.shape"
      ],
      "execution_count": 15,
      "outputs": [
        {
          "output_type": "execute_result",
          "data": {
            "text/plain": [
              "(10682, 12)"
            ]
          },
          "metadata": {
            "tags": []
          },
          "execution_count": 15
        }
      ]
    },
    {
      "cell_type": "code",
      "metadata": {
        "id": "tLo-zxd0doe5"
      },
      "source": [
        "train_data['Dep_hour']=pd.to_datetime(train_data['Dep_Time']).dt.hour\r\n",
        "train_data['Dep_min']=pd.to_datetime(train_data['Dep_Time']).dt.minute\r\n"
      ],
      "execution_count": 16,
      "outputs": []
    },
    {
      "cell_type": "code",
      "metadata": {
        "colab": {
          "base_uri": "https://localhost:8080/",
          "height": 602
        },
        "id": "gonTl-DBevrR",
        "outputId": "c38df594-bc3e-45dc-8daf-fe1e29e7a88d"
      },
      "source": [
        "train_data.head()"
      ],
      "execution_count": 17,
      "outputs": [
        {
          "output_type": "execute_result",
          "data": {
            "text/html": [
              "<div>\n",
              "<style scoped>\n",
              "    .dataframe tbody tr th:only-of-type {\n",
              "        vertical-align: middle;\n",
              "    }\n",
              "\n",
              "    .dataframe tbody tr th {\n",
              "        vertical-align: top;\n",
              "    }\n",
              "\n",
              "    .dataframe thead th {\n",
              "        text-align: right;\n",
              "    }\n",
              "</style>\n",
              "<table border=\"1\" class=\"dataframe\">\n",
              "  <thead>\n",
              "    <tr style=\"text-align: right;\">\n",
              "      <th></th>\n",
              "      <th>Airline</th>\n",
              "      <th>Source</th>\n",
              "      <th>Destination</th>\n",
              "      <th>Route</th>\n",
              "      <th>Dep_Time</th>\n",
              "      <th>Arrival_Time</th>\n",
              "      <th>Duration</th>\n",
              "      <th>Total_Stops</th>\n",
              "      <th>Additional_Info</th>\n",
              "      <th>Price</th>\n",
              "      <th>Journey-Date</th>\n",
              "      <th>Journey-Month</th>\n",
              "      <th>Dep_hour</th>\n",
              "      <th>Dep_min</th>\n",
              "    </tr>\n",
              "  </thead>\n",
              "  <tbody>\n",
              "    <tr>\n",
              "      <th>0</th>\n",
              "      <td>IndiGo</td>\n",
              "      <td>Banglore</td>\n",
              "      <td>New Delhi</td>\n",
              "      <td>BLR → DEL</td>\n",
              "      <td>22:20</td>\n",
              "      <td>01:10 22 Mar</td>\n",
              "      <td>2h 50m</td>\n",
              "      <td>non-stop</td>\n",
              "      <td>No info</td>\n",
              "      <td>3897</td>\n",
              "      <td>24</td>\n",
              "      <td>3</td>\n",
              "      <td>22</td>\n",
              "      <td>20</td>\n",
              "    </tr>\n",
              "    <tr>\n",
              "      <th>1</th>\n",
              "      <td>Air India</td>\n",
              "      <td>Kolkata</td>\n",
              "      <td>Banglore</td>\n",
              "      <td>CCU → IXR → BBI → BLR</td>\n",
              "      <td>05:50</td>\n",
              "      <td>13:15</td>\n",
              "      <td>7h 25m</td>\n",
              "      <td>2 stops</td>\n",
              "      <td>No info</td>\n",
              "      <td>7662</td>\n",
              "      <td>1</td>\n",
              "      <td>5</td>\n",
              "      <td>5</td>\n",
              "      <td>50</td>\n",
              "    </tr>\n",
              "    <tr>\n",
              "      <th>2</th>\n",
              "      <td>Jet Airways</td>\n",
              "      <td>Delhi</td>\n",
              "      <td>Cochin</td>\n",
              "      <td>DEL → LKO → BOM → COK</td>\n",
              "      <td>09:25</td>\n",
              "      <td>04:25 10 Jun</td>\n",
              "      <td>19h</td>\n",
              "      <td>2 stops</td>\n",
              "      <td>No info</td>\n",
              "      <td>13882</td>\n",
              "      <td>9</td>\n",
              "      <td>6</td>\n",
              "      <td>9</td>\n",
              "      <td>25</td>\n",
              "    </tr>\n",
              "    <tr>\n",
              "      <th>3</th>\n",
              "      <td>IndiGo</td>\n",
              "      <td>Kolkata</td>\n",
              "      <td>Banglore</td>\n",
              "      <td>CCU → NAG → BLR</td>\n",
              "      <td>18:05</td>\n",
              "      <td>23:30</td>\n",
              "      <td>5h 25m</td>\n",
              "      <td>1 stop</td>\n",
              "      <td>No info</td>\n",
              "      <td>6218</td>\n",
              "      <td>12</td>\n",
              "      <td>5</td>\n",
              "      <td>18</td>\n",
              "      <td>5</td>\n",
              "    </tr>\n",
              "    <tr>\n",
              "      <th>4</th>\n",
              "      <td>IndiGo</td>\n",
              "      <td>Banglore</td>\n",
              "      <td>New Delhi</td>\n",
              "      <td>BLR → NAG → DEL</td>\n",
              "      <td>16:50</td>\n",
              "      <td>21:35</td>\n",
              "      <td>4h 45m</td>\n",
              "      <td>1 stop</td>\n",
              "      <td>No info</td>\n",
              "      <td>13302</td>\n",
              "      <td>1</td>\n",
              "      <td>3</td>\n",
              "      <td>16</td>\n",
              "      <td>50</td>\n",
              "    </tr>\n",
              "  </tbody>\n",
              "</table>\n",
              "</div>"
            ],
            "text/plain": [
              "       Airline    Source Destination                  Route Dep_Time  \\\n",
              "0       IndiGo  Banglore   New Delhi              BLR → DEL    22:20   \n",
              "1    Air India   Kolkata    Banglore  CCU → IXR → BBI → BLR    05:50   \n",
              "2  Jet Airways     Delhi      Cochin  DEL → LKO → BOM → COK    09:25   \n",
              "3       IndiGo   Kolkata    Banglore        CCU → NAG → BLR    18:05   \n",
              "4       IndiGo  Banglore   New Delhi        BLR → NAG → DEL    16:50   \n",
              "\n",
              "   Arrival_Time Duration Total_Stops Additional_Info  Price  Journey-Date  \\\n",
              "0  01:10 22 Mar   2h 50m    non-stop         No info   3897            24   \n",
              "1         13:15   7h 25m     2 stops         No info   7662             1   \n",
              "2  04:25 10 Jun      19h     2 stops         No info  13882             9   \n",
              "3         23:30   5h 25m      1 stop         No info   6218            12   \n",
              "4         21:35   4h 45m      1 stop         No info  13302             1   \n",
              "\n",
              "   Journey-Month  Dep_hour  Dep_min  \n",
              "0              3        22       20  \n",
              "1              5         5       50  \n",
              "2              6         9       25  \n",
              "3              5        18        5  \n",
              "4              3        16       50  "
            ]
          },
          "metadata": {
            "tags": []
          },
          "execution_count": 17
        }
      ]
    },
    {
      "cell_type": "code",
      "metadata": {
        "colab": {
          "base_uri": "https://localhost:8080/",
          "height": 602
        },
        "id": "wZuaZxLmeyIU",
        "outputId": "2c037ee6-a1f2-48c1-fe46-53ceae5a9298"
      },
      "source": [
        "train_data.drop(\"Dep_Time\",axis=1,inplace=True)\r\n",
        "train_data.head()"
      ],
      "execution_count": 18,
      "outputs": [
        {
          "output_type": "execute_result",
          "data": {
            "text/html": [
              "<div>\n",
              "<style scoped>\n",
              "    .dataframe tbody tr th:only-of-type {\n",
              "        vertical-align: middle;\n",
              "    }\n",
              "\n",
              "    .dataframe tbody tr th {\n",
              "        vertical-align: top;\n",
              "    }\n",
              "\n",
              "    .dataframe thead th {\n",
              "        text-align: right;\n",
              "    }\n",
              "</style>\n",
              "<table border=\"1\" class=\"dataframe\">\n",
              "  <thead>\n",
              "    <tr style=\"text-align: right;\">\n",
              "      <th></th>\n",
              "      <th>Airline</th>\n",
              "      <th>Source</th>\n",
              "      <th>Destination</th>\n",
              "      <th>Route</th>\n",
              "      <th>Arrival_Time</th>\n",
              "      <th>Duration</th>\n",
              "      <th>Total_Stops</th>\n",
              "      <th>Additional_Info</th>\n",
              "      <th>Price</th>\n",
              "      <th>Journey-Date</th>\n",
              "      <th>Journey-Month</th>\n",
              "      <th>Dep_hour</th>\n",
              "      <th>Dep_min</th>\n",
              "    </tr>\n",
              "  </thead>\n",
              "  <tbody>\n",
              "    <tr>\n",
              "      <th>0</th>\n",
              "      <td>IndiGo</td>\n",
              "      <td>Banglore</td>\n",
              "      <td>New Delhi</td>\n",
              "      <td>BLR → DEL</td>\n",
              "      <td>01:10 22 Mar</td>\n",
              "      <td>2h 50m</td>\n",
              "      <td>non-stop</td>\n",
              "      <td>No info</td>\n",
              "      <td>3897</td>\n",
              "      <td>24</td>\n",
              "      <td>3</td>\n",
              "      <td>22</td>\n",
              "      <td>20</td>\n",
              "    </tr>\n",
              "    <tr>\n",
              "      <th>1</th>\n",
              "      <td>Air India</td>\n",
              "      <td>Kolkata</td>\n",
              "      <td>Banglore</td>\n",
              "      <td>CCU → IXR → BBI → BLR</td>\n",
              "      <td>13:15</td>\n",
              "      <td>7h 25m</td>\n",
              "      <td>2 stops</td>\n",
              "      <td>No info</td>\n",
              "      <td>7662</td>\n",
              "      <td>1</td>\n",
              "      <td>5</td>\n",
              "      <td>5</td>\n",
              "      <td>50</td>\n",
              "    </tr>\n",
              "    <tr>\n",
              "      <th>2</th>\n",
              "      <td>Jet Airways</td>\n",
              "      <td>Delhi</td>\n",
              "      <td>Cochin</td>\n",
              "      <td>DEL → LKO → BOM → COK</td>\n",
              "      <td>04:25 10 Jun</td>\n",
              "      <td>19h</td>\n",
              "      <td>2 stops</td>\n",
              "      <td>No info</td>\n",
              "      <td>13882</td>\n",
              "      <td>9</td>\n",
              "      <td>6</td>\n",
              "      <td>9</td>\n",
              "      <td>25</td>\n",
              "    </tr>\n",
              "    <tr>\n",
              "      <th>3</th>\n",
              "      <td>IndiGo</td>\n",
              "      <td>Kolkata</td>\n",
              "      <td>Banglore</td>\n",
              "      <td>CCU → NAG → BLR</td>\n",
              "      <td>23:30</td>\n",
              "      <td>5h 25m</td>\n",
              "      <td>1 stop</td>\n",
              "      <td>No info</td>\n",
              "      <td>6218</td>\n",
              "      <td>12</td>\n",
              "      <td>5</td>\n",
              "      <td>18</td>\n",
              "      <td>5</td>\n",
              "    </tr>\n",
              "    <tr>\n",
              "      <th>4</th>\n",
              "      <td>IndiGo</td>\n",
              "      <td>Banglore</td>\n",
              "      <td>New Delhi</td>\n",
              "      <td>BLR → NAG → DEL</td>\n",
              "      <td>21:35</td>\n",
              "      <td>4h 45m</td>\n",
              "      <td>1 stop</td>\n",
              "      <td>No info</td>\n",
              "      <td>13302</td>\n",
              "      <td>1</td>\n",
              "      <td>3</td>\n",
              "      <td>16</td>\n",
              "      <td>50</td>\n",
              "    </tr>\n",
              "  </tbody>\n",
              "</table>\n",
              "</div>"
            ],
            "text/plain": [
              "       Airline    Source Destination                  Route  Arrival_Time  \\\n",
              "0       IndiGo  Banglore   New Delhi              BLR → DEL  01:10 22 Mar   \n",
              "1    Air India   Kolkata    Banglore  CCU → IXR → BBI → BLR         13:15   \n",
              "2  Jet Airways     Delhi      Cochin  DEL → LKO → BOM → COK  04:25 10 Jun   \n",
              "3       IndiGo   Kolkata    Banglore        CCU → NAG → BLR         23:30   \n",
              "4       IndiGo  Banglore   New Delhi        BLR → NAG → DEL         21:35   \n",
              "\n",
              "  Duration Total_Stops Additional_Info  Price  Journey-Date  Journey-Month  \\\n",
              "0   2h 50m    non-stop         No info   3897            24              3   \n",
              "1   7h 25m     2 stops         No info   7662             1              5   \n",
              "2      19h     2 stops         No info  13882             9              6   \n",
              "3   5h 25m      1 stop         No info   6218            12              5   \n",
              "4   4h 45m      1 stop         No info  13302             1              3   \n",
              "\n",
              "   Dep_hour  Dep_min  \n",
              "0        22       20  \n",
              "1         5       50  \n",
              "2         9       25  \n",
              "3        18        5  \n",
              "4        16       50  "
            ]
          },
          "metadata": {
            "tags": []
          },
          "execution_count": 18
        }
      ]
    },
    {
      "cell_type": "code",
      "metadata": {
        "id": "5Xtd73IGe_FO"
      },
      "source": [
        "train_data['Arrival_hour']=pd.to_datetime(train_data['Arrival_Time']).dt.hour\r\n",
        "train_data['Arrival_minute']=pd.to_datetime(train_data['Arrival_Time']).dt.minute"
      ],
      "execution_count": 19,
      "outputs": []
    },
    {
      "cell_type": "code",
      "metadata": {
        "colab": {
          "base_uri": "https://localhost:8080/",
          "height": 602
        },
        "id": "6dRrYOW-gMAd",
        "outputId": "280742a4-7f6f-48c1-f8ef-3acab85d980a"
      },
      "source": [
        "train_data.head()"
      ],
      "execution_count": 20,
      "outputs": [
        {
          "output_type": "execute_result",
          "data": {
            "text/html": [
              "<div>\n",
              "<style scoped>\n",
              "    .dataframe tbody tr th:only-of-type {\n",
              "        vertical-align: middle;\n",
              "    }\n",
              "\n",
              "    .dataframe tbody tr th {\n",
              "        vertical-align: top;\n",
              "    }\n",
              "\n",
              "    .dataframe thead th {\n",
              "        text-align: right;\n",
              "    }\n",
              "</style>\n",
              "<table border=\"1\" class=\"dataframe\">\n",
              "  <thead>\n",
              "    <tr style=\"text-align: right;\">\n",
              "      <th></th>\n",
              "      <th>Airline</th>\n",
              "      <th>Source</th>\n",
              "      <th>Destination</th>\n",
              "      <th>Route</th>\n",
              "      <th>Arrival_Time</th>\n",
              "      <th>Duration</th>\n",
              "      <th>Total_Stops</th>\n",
              "      <th>Additional_Info</th>\n",
              "      <th>Price</th>\n",
              "      <th>Journey-Date</th>\n",
              "      <th>Journey-Month</th>\n",
              "      <th>Dep_hour</th>\n",
              "      <th>Dep_min</th>\n",
              "      <th>Arrival_hour</th>\n",
              "      <th>Arrival_minute</th>\n",
              "    </tr>\n",
              "  </thead>\n",
              "  <tbody>\n",
              "    <tr>\n",
              "      <th>0</th>\n",
              "      <td>IndiGo</td>\n",
              "      <td>Banglore</td>\n",
              "      <td>New Delhi</td>\n",
              "      <td>BLR → DEL</td>\n",
              "      <td>01:10 22 Mar</td>\n",
              "      <td>2h 50m</td>\n",
              "      <td>non-stop</td>\n",
              "      <td>No info</td>\n",
              "      <td>3897</td>\n",
              "      <td>24</td>\n",
              "      <td>3</td>\n",
              "      <td>22</td>\n",
              "      <td>20</td>\n",
              "      <td>1</td>\n",
              "      <td>10</td>\n",
              "    </tr>\n",
              "    <tr>\n",
              "      <th>1</th>\n",
              "      <td>Air India</td>\n",
              "      <td>Kolkata</td>\n",
              "      <td>Banglore</td>\n",
              "      <td>CCU → IXR → BBI → BLR</td>\n",
              "      <td>13:15</td>\n",
              "      <td>7h 25m</td>\n",
              "      <td>2 stops</td>\n",
              "      <td>No info</td>\n",
              "      <td>7662</td>\n",
              "      <td>1</td>\n",
              "      <td>5</td>\n",
              "      <td>5</td>\n",
              "      <td>50</td>\n",
              "      <td>13</td>\n",
              "      <td>15</td>\n",
              "    </tr>\n",
              "    <tr>\n",
              "      <th>2</th>\n",
              "      <td>Jet Airways</td>\n",
              "      <td>Delhi</td>\n",
              "      <td>Cochin</td>\n",
              "      <td>DEL → LKO → BOM → COK</td>\n",
              "      <td>04:25 10 Jun</td>\n",
              "      <td>19h</td>\n",
              "      <td>2 stops</td>\n",
              "      <td>No info</td>\n",
              "      <td>13882</td>\n",
              "      <td>9</td>\n",
              "      <td>6</td>\n",
              "      <td>9</td>\n",
              "      <td>25</td>\n",
              "      <td>4</td>\n",
              "      <td>25</td>\n",
              "    </tr>\n",
              "    <tr>\n",
              "      <th>3</th>\n",
              "      <td>IndiGo</td>\n",
              "      <td>Kolkata</td>\n",
              "      <td>Banglore</td>\n",
              "      <td>CCU → NAG → BLR</td>\n",
              "      <td>23:30</td>\n",
              "      <td>5h 25m</td>\n",
              "      <td>1 stop</td>\n",
              "      <td>No info</td>\n",
              "      <td>6218</td>\n",
              "      <td>12</td>\n",
              "      <td>5</td>\n",
              "      <td>18</td>\n",
              "      <td>5</td>\n",
              "      <td>23</td>\n",
              "      <td>30</td>\n",
              "    </tr>\n",
              "    <tr>\n",
              "      <th>4</th>\n",
              "      <td>IndiGo</td>\n",
              "      <td>Banglore</td>\n",
              "      <td>New Delhi</td>\n",
              "      <td>BLR → NAG → DEL</td>\n",
              "      <td>21:35</td>\n",
              "      <td>4h 45m</td>\n",
              "      <td>1 stop</td>\n",
              "      <td>No info</td>\n",
              "      <td>13302</td>\n",
              "      <td>1</td>\n",
              "      <td>3</td>\n",
              "      <td>16</td>\n",
              "      <td>50</td>\n",
              "      <td>21</td>\n",
              "      <td>35</td>\n",
              "    </tr>\n",
              "  </tbody>\n",
              "</table>\n",
              "</div>"
            ],
            "text/plain": [
              "       Airline    Source Destination                  Route  Arrival_Time  \\\n",
              "0       IndiGo  Banglore   New Delhi              BLR → DEL  01:10 22 Mar   \n",
              "1    Air India   Kolkata    Banglore  CCU → IXR → BBI → BLR         13:15   \n",
              "2  Jet Airways     Delhi      Cochin  DEL → LKO → BOM → COK  04:25 10 Jun   \n",
              "3       IndiGo   Kolkata    Banglore        CCU → NAG → BLR         23:30   \n",
              "4       IndiGo  Banglore   New Delhi        BLR → NAG → DEL         21:35   \n",
              "\n",
              "  Duration Total_Stops Additional_Info  Price  Journey-Date  Journey-Month  \\\n",
              "0   2h 50m    non-stop         No info   3897            24              3   \n",
              "1   7h 25m     2 stops         No info   7662             1              5   \n",
              "2      19h     2 stops         No info  13882             9              6   \n",
              "3   5h 25m      1 stop         No info   6218            12              5   \n",
              "4   4h 45m      1 stop         No info  13302             1              3   \n",
              "\n",
              "   Dep_hour  Dep_min  Arrival_hour  Arrival_minute  \n",
              "0        22       20             1              10  \n",
              "1         5       50            13              15  \n",
              "2         9       25             4              25  \n",
              "3        18        5            23              30  \n",
              "4        16       50            21              35  "
            ]
          },
          "metadata": {
            "tags": []
          },
          "execution_count": 20
        }
      ]
    },
    {
      "cell_type": "code",
      "metadata": {
        "colab": {
          "base_uri": "https://localhost:8080/",
          "height": 602
        },
        "id": "25lCVz72gOe9",
        "outputId": "3bf43fda-a898-4e4b-cd86-21a44b9c0f65"
      },
      "source": [
        "train_data.drop(\"Arrival_Time\",axis=1,inplace=True)\r\n",
        "train_data.head()"
      ],
      "execution_count": 21,
      "outputs": [
        {
          "output_type": "execute_result",
          "data": {
            "text/html": [
              "<div>\n",
              "<style scoped>\n",
              "    .dataframe tbody tr th:only-of-type {\n",
              "        vertical-align: middle;\n",
              "    }\n",
              "\n",
              "    .dataframe tbody tr th {\n",
              "        vertical-align: top;\n",
              "    }\n",
              "\n",
              "    .dataframe thead th {\n",
              "        text-align: right;\n",
              "    }\n",
              "</style>\n",
              "<table border=\"1\" class=\"dataframe\">\n",
              "  <thead>\n",
              "    <tr style=\"text-align: right;\">\n",
              "      <th></th>\n",
              "      <th>Airline</th>\n",
              "      <th>Source</th>\n",
              "      <th>Destination</th>\n",
              "      <th>Route</th>\n",
              "      <th>Duration</th>\n",
              "      <th>Total_Stops</th>\n",
              "      <th>Additional_Info</th>\n",
              "      <th>Price</th>\n",
              "      <th>Journey-Date</th>\n",
              "      <th>Journey-Month</th>\n",
              "      <th>Dep_hour</th>\n",
              "      <th>Dep_min</th>\n",
              "      <th>Arrival_hour</th>\n",
              "      <th>Arrival_minute</th>\n",
              "    </tr>\n",
              "  </thead>\n",
              "  <tbody>\n",
              "    <tr>\n",
              "      <th>0</th>\n",
              "      <td>IndiGo</td>\n",
              "      <td>Banglore</td>\n",
              "      <td>New Delhi</td>\n",
              "      <td>BLR → DEL</td>\n",
              "      <td>2h 50m</td>\n",
              "      <td>non-stop</td>\n",
              "      <td>No info</td>\n",
              "      <td>3897</td>\n",
              "      <td>24</td>\n",
              "      <td>3</td>\n",
              "      <td>22</td>\n",
              "      <td>20</td>\n",
              "      <td>1</td>\n",
              "      <td>10</td>\n",
              "    </tr>\n",
              "    <tr>\n",
              "      <th>1</th>\n",
              "      <td>Air India</td>\n",
              "      <td>Kolkata</td>\n",
              "      <td>Banglore</td>\n",
              "      <td>CCU → IXR → BBI → BLR</td>\n",
              "      <td>7h 25m</td>\n",
              "      <td>2 stops</td>\n",
              "      <td>No info</td>\n",
              "      <td>7662</td>\n",
              "      <td>1</td>\n",
              "      <td>5</td>\n",
              "      <td>5</td>\n",
              "      <td>50</td>\n",
              "      <td>13</td>\n",
              "      <td>15</td>\n",
              "    </tr>\n",
              "    <tr>\n",
              "      <th>2</th>\n",
              "      <td>Jet Airways</td>\n",
              "      <td>Delhi</td>\n",
              "      <td>Cochin</td>\n",
              "      <td>DEL → LKO → BOM → COK</td>\n",
              "      <td>19h</td>\n",
              "      <td>2 stops</td>\n",
              "      <td>No info</td>\n",
              "      <td>13882</td>\n",
              "      <td>9</td>\n",
              "      <td>6</td>\n",
              "      <td>9</td>\n",
              "      <td>25</td>\n",
              "      <td>4</td>\n",
              "      <td>25</td>\n",
              "    </tr>\n",
              "    <tr>\n",
              "      <th>3</th>\n",
              "      <td>IndiGo</td>\n",
              "      <td>Kolkata</td>\n",
              "      <td>Banglore</td>\n",
              "      <td>CCU → NAG → BLR</td>\n",
              "      <td>5h 25m</td>\n",
              "      <td>1 stop</td>\n",
              "      <td>No info</td>\n",
              "      <td>6218</td>\n",
              "      <td>12</td>\n",
              "      <td>5</td>\n",
              "      <td>18</td>\n",
              "      <td>5</td>\n",
              "      <td>23</td>\n",
              "      <td>30</td>\n",
              "    </tr>\n",
              "    <tr>\n",
              "      <th>4</th>\n",
              "      <td>IndiGo</td>\n",
              "      <td>Banglore</td>\n",
              "      <td>New Delhi</td>\n",
              "      <td>BLR → NAG → DEL</td>\n",
              "      <td>4h 45m</td>\n",
              "      <td>1 stop</td>\n",
              "      <td>No info</td>\n",
              "      <td>13302</td>\n",
              "      <td>1</td>\n",
              "      <td>3</td>\n",
              "      <td>16</td>\n",
              "      <td>50</td>\n",
              "      <td>21</td>\n",
              "      <td>35</td>\n",
              "    </tr>\n",
              "  </tbody>\n",
              "</table>\n",
              "</div>"
            ],
            "text/plain": [
              "       Airline    Source Destination                  Route Duration  \\\n",
              "0       IndiGo  Banglore   New Delhi              BLR → DEL   2h 50m   \n",
              "1    Air India   Kolkata    Banglore  CCU → IXR → BBI → BLR   7h 25m   \n",
              "2  Jet Airways     Delhi      Cochin  DEL → LKO → BOM → COK      19h   \n",
              "3       IndiGo   Kolkata    Banglore        CCU → NAG → BLR   5h 25m   \n",
              "4       IndiGo  Banglore   New Delhi        BLR → NAG → DEL   4h 45m   \n",
              "\n",
              "  Total_Stops Additional_Info  Price  Journey-Date  Journey-Month  Dep_hour  \\\n",
              "0    non-stop         No info   3897            24              3        22   \n",
              "1     2 stops         No info   7662             1              5         5   \n",
              "2     2 stops         No info  13882             9              6         9   \n",
              "3      1 stop         No info   6218            12              5        18   \n",
              "4      1 stop         No info  13302             1              3        16   \n",
              "\n",
              "   Dep_min  Arrival_hour  Arrival_minute  \n",
              "0       20             1              10  \n",
              "1       50            13              15  \n",
              "2       25             4              25  \n",
              "3        5            23              30  \n",
              "4       50            21              35  "
            ]
          },
          "metadata": {
            "tags": []
          },
          "execution_count": 21
        }
      ]
    },
    {
      "cell_type": "code",
      "metadata": {
        "colab": {
          "base_uri": "https://localhost:8080/"
        },
        "id": "0F6jzYoWgbqv",
        "outputId": "72c5c277-425e-49fb-d360-86e1648c294e"
      },
      "source": [
        "duration=list(train_data['Duration'])\r\n",
        "for i in range(len(duration)):\r\n",
        "  if len(duration[i].split())!=2:\r\n",
        "    if 'h' in duration[i]:\r\n",
        "      duration[i]=duration[i].strip()+ \" 0m\"\r\n",
        "    else:\r\n",
        "      duration[i]=\"0h \" + duration[i]\r\n",
        "print(duration)\r\n",
        "duration_hours=[]\r\n",
        "duration_minutes=[]\r\n",
        "\r\n",
        "for i in range(len(duration)):\r\n",
        "  duration_hours.append(int(duration[i].split(sep='h')[0]))\r\n",
        "  duration_minutes.append(int(duration[i].split(sep='m')[0].split()[-1]))"
      ],
      "execution_count": 22,
      "outputs": [
        {
          "output_type": "stream",
          "text": [
            "['2h 50m', '7h 25m', '19h 0m', '5h 25m', '4h 45m', '2h 25m', '15h 30m', '21h 5m', '25h 30m', '7h 50m', '13h 15m', '2h 35m', '2h 15m', '12h 10m', '2h 35m', '26h 35m', '4h 30m', '22h 35m', '23h 0m', '20h 35m', '5h 10m', '15h 20m', '2h 50m', '2h 55m', '13h 20m', '15h 10m', '5h 45m', '5h 55m', '2h 50m', '2h 15m', '2h 15m', '13h 25m', '2h 50m', '22h 0m', '5h 30m', '10h 25m', '5h 15m', '2h 30m', '6h 15m', '11h 55m', '11h 5m', '8h 30m', '22h 5m', '2h 45m', '12h 0m', '2h 50m', '2h 50m', '2h 15m', '16h 5m', '19h 55m', '3h 15m', '25h 20m', '2h 50m', '3h 0m', '2h 50m', '16h 15m', '15h 5m', '2h 15m', '6h 30m', '25h 5m', '12h 25m', '27h 20m', '10h 15m', '10h 30m', '2h 15m', '10h 25m', '2h 50m', '1h 30m', '13h 20m', '2h 15m', '1h 25m', '26h 30m', '7h 20m', '13h 30m', '5h 0m', '2h 45m', '2h 50m', '1h 30m', '19h 5m', '2h 15m', '14h 50m', '2h 40m', '22h 10m', '9h 35m', '10h 0m', '21h 20m', '5h 25m', '18h 45m', '12h 20m', '18h 0m', '9h 15m', '11h 5m', '17h 30m', '13h 20m', '2h 35m', '2h 25m', '2h 40m', '3h 0m', '1h 25m', '16h 35m', '12h 20m', '12h 15m', '7h 30m', '24h 0m', '2h 45m', '8h 55m', '7h 10m', '14h 30m', '30h 20m', '19h 55m', '15h 0m', '2h 55m', '12h 45m', '10h 10m', '5h 55m', '15h 25m', '16h 5m', '10h 10m', '2h 40m', '11h 55m', '2h 40m', '1h 25m', '14h 5m', '20h 15m', '2h 25m', '23h 10m', '18h 10m', '16h 0m', '2h 50m', '2h 20m', '8h 0m', '16h 55m', '3h 10m', '2h 45m', '14h 0m', '23h 50m', '21h 40m', '21h 15m', '2h 45m', '10h 50m', '8h 0m', '8h 15m', '5h 25m', '8h 35m', '11h 50m', '27h 35m', '8h 25m', '20h 55m', '4h 50m', '8h 10m', '2h 20m', '24h 25m', '2h 50m', '12h 20m', '12h 15m', '23h 35m', '16h 35m', '2h 50m', '25h 45m', '26h 10m', '28h 50m', '2h 45m', '25h 15m', '9h 20m', '4h 30m', '15h 25m', '1h 30m', '2h 40m', '9h 10m', '2h 45m', '22h 35m', '3h 5m', '11h 30m', '9h 30m', '12h 10m', '17h 35m', '5h 5m', '25h 50m', '20h 0m', '13h 0m', '18h 25m', '1h 30m', '9h 30m', '16h 0m', '2h 20m', '4h 30m', '5h 45m', '24h 10m', '2h 35m', '2h 45m', '4h 55m', '25h 35m', '6h 20m', '3h 5m', '18h 40m', '2h 15m', '12h 10m', '19h 25m', '2h 50m', '8h 25m', '9h 15m', '2h 50m', '3h 15m', '2h 50m', '12h 20m', '2h 55m', '9h 35m', '2h 35m', '9h 30m', '29h 20m', '2h 55m', '5h 15m', '9h 5m', '10h 45m', '4h 55m', '1h 30m', '11h 40m', '2h 45m', '2h 55m', '10h 0m', '2h 45m', '10h 15m', '1h 25m', '9h 15m', '22h 55m', '28h 50m', '37h 25m', '2h 50m', '1h 30m', '1h 30m', '25h 40m', '2h 35m', '6h 15m', '17h 30m', '5h 45m', '2h 35m', '25h 30m', '13h 55m', '2h 55m', '10h 15m', '8h 40m', '5h 30m', '12h 0m', '2h 15m', '2h 15m', '2h 50m', '9h 10m', '10h 25m', '2h 20m', '4h 30m', '3h 10m', '23h 30m', '27h 20m', '12h 35m', '24h 15m', '1h 20m', '2h 45m', '3h 0m', '11h 0m', '13h 30m', '2h 50m', '2h 55m', '2h 45m', '11h 15m', '14h 35m', '13h 55m', '14h 5m', '15h 5m', '2h 15m', '15h 0m', '12h 55m', '9h 0m', '12h 15m', '7h 40m', '27h 20m', '1h 25m', '1h 20m', '5h 30m', '11h 45m', '3h 15m', '24h 55m', '27h 20m', '2h 55m', '17h 5m', '2h 40m', '8h 0m', '3h 0m', '27h 35m', '7h 30m', '22h 55m', '8h 35m', '29h 55m', '22h 15m', '1h 20m', '2h 40m', '3h 0m', '12h 10m', '2h 35m', '11h 45m', '2h 35m', '1h 30m', '2h 40m', '2h 35m', '22h 55m', '14h 40m', '15h 25m', '7h 15m', '20h 10m', '20h 45m', '2h 30m', '23h 50m', '27h 0m', '5h 30m', '11h 50m', '2h 15m', '24h 30m', '2h 20m', '6h 30m', '20h 25m', '2h 35m', '2h 55m', '5h 35m', '2h 30m', '14h 45m', '12h 20m', '25h 30m', '5h 35m', '11h 45m', '2h 55m', '5h 40m', '4h 5m', '8h 0m', '2h 45m', '2h 40m', '2h 55m', '15h 55m', '23h 10m', '7h 20m', '2h 50m', '7h 30m', '3h 0m', '7h 45m', '25h 20m', '10h 25m', '30h 20m', '2h 35m', '9h 0m', '15h 10m', '28h 20m', '3h 0m', '2h 45m', '4h 55m', '2h 40m', '22h 10m', '10h 10m', '2h 50m', '4h 20m', '11h 0m', '3h 0m', '22h 35m', '3h 5m', '2h 40m', '2h 50m', '21h 5m', '11h 50m', '25h 35m', '15h 25m', '2h 25m', '3h 40m', '2h 55m', '3h 10m', '11h 50m', '2h 50m', '2h 50m', '1h 30m', '11h 30m', '8h 50m', '20h 15m', '20h 10m', '16h 5m', '12h 35m', '17h 5m', '3h 0m', '15h 30m', '11h 30m', '2h 20m', '23h 45m', '1h 30m', '2h 35m', '24h 45m', '21h 35m', '5h 30m', '12h 15m', '8h 5m', '5h 0m', '2h 50m', '6h 25m', '2h 20m', '2h 45m', '12h 45m', '15h 50m', '27h 0m', '26h 25m', '2h 55m', '24h 50m', '8h 40m', '25h 45m', '2h 50m', '6h 15m', '10h 30m', '26h 0m', '17h 5m', '21h 20m', '5h 35m', '2h 50m', '25h 50m', '12h 10m', '17h 5m', '8h 30m', '23h 5m', '9h 20m', '7h 55m', '1h 30m', '2h 50m', '2h 15m', '10h 0m', '2h 35m', '7h 45m', '2h 55m', '26h 20m', '2h 40m', '11h 0m', '19h 25m', '2h 55m', '2h 45m', '23h 15m', '9h 0m', '3h 10m', '6h 25m', '8h 40m', '2h 50m', '12h 20m', '5h 20m', '4h 0m', '9h 45m', '2h 55m', '26h 20m', '2h 15m', '9h 45m', '24h 55m', '11h 55m', '8h 20m', '17h 25m', '2h 50m', '7h 5m', '21h 15m', '5h 0m', '2h 25m', '5h 15m', '15h 10m', '11h 45m', '3h 0m', '4h 55m', '2h 45m', '2h 30m', '9h 45m', '2h 40m', '6h 30m', '5h 30m', '2h 40m', '34h 5m', '15h 25m', '9h 30m', '6h 5m', '2h 40m', '5h 50m', '2h 45m', '27h 20m', '3h 0m', '5h 15m', '16h 0m', '7h 0m', '8h 40m', '9h 0m', '2h 20m', '2h 20m', '6h 20m', '4h 25m', '2h 20m', '11h 5m', '16h 55m', '13h 45m', '25h 45m', '13h 55m', '5h 15m', '19h 15m', '7h 30m', '9h 0m', '24h 0m', '18h 10m', '2h 55m', '1h 30m', '21h 20m', '6h 15m', '14h 30m', '1h 20m', '12h 55m', '2h 25m', '22h 30m', '22h 55m', '5h 25m', '1h 25m', '7h 15m', '12h 20m', '20h 10m', '21h 15m', '2h 15m', '10h 30m', '14h 5m', '2h 50m', '16h 25m', '5h 15m', '13h 50m', '2h 15m', '7h 15m', '27h 5m', '27h 35m', '5h 0m', '2h 50m', '2h 50m', '15h 20m', '5h 20m', '10h 10m', '27h 35m', '9h 35m', '28h 10m', '14h 0m', '2h 35m', '2h 55m', '2h 35m', '4h 40m', '2h 30m', '11h 15m', '7h 55m', '8h 50m', '1h 25m', '15h 40m', '2h 35m', '2h 55m', '13h 25m', '4h 35m', '18h 30m', '2h 15m', '38h 15m', '3h 5m', '25h 50m', '3h 10m', '2h 50m', '11h 30m', '6h 35m', '27h 35m', '2h 35m', '7h 30m', '3h 15m', '9h 35m', '12h 30m', '11h 20m', '3h 0m', '2h 35m', '1h 30m', '26h 10m', '4h 55m', '2h 45m', '8h 40m', '7h 5m', '2h 45m', '24h 50m', '2h 20m', '11h 0m', '9h 0m', '2h 55m', '3h 5m', '2h 35m', '13h 0m', '1h 25m', '7h 35m', '2h 40m', '12h 55m', '29h 20m', '5h 0m', '8h 40m', '3h 0m', '3h 0m', '2h 45m', '12h 10m', '2h 20m', '7h 55m', '29h 35m', '26h 55m', '12h 45m', '7h 35m', '2h 30m', '11h 45m', '23h 40m', '13h 50m', '12h 50m', '9h 50m', '2h 30m', '21h 55m', '26h 10m', '2h 55m', '20h 15m', '20h 10m', '10h 55m', '2h 30m', '21h 10m', '2h 35m', '20h 40m', '2h 50m', '6h 30m', '30h 0m', '13h 10m', '2h 55m', '18h 0m', '8h 0m', '8h 45m', '12h 30m', '13h 20m', '6h 10m', '7h 30m', '19h 15m', '2h 35m', '12h 0m', '3h 0m', '2h 50m', '1h 25m', '23h 5m', '2h 50m', '22h 5m', '2h 15m', '5h 45m', '2h 50m', '9h 30m', '8h 55m', '17h 45m', '2h 50m', '21h 45m', '12h 35m', '1h 30m', '2h 15m', '3h 55m', '2h 45m', '7h 30m', '17h 20m', '1h 30m', '1h 30m', '30h 30m', '5h 0m', '11h 15m', '2h 50m', '19h 5m', '6h 35m', '7h 30m', '2h 15m', '2h 45m', '12h 45m', '2h 50m', '26h 35m', '12h 55m', '1h 30m', '8h 40m', '14h 0m', '23h 30m', '29h 55m', '22h 10m', '4h 50m', '2h 45m', '13h 30m', '13h 20m', '2h 20m', '11h 55m', '5h 10m', '11h 45m', '13h 50m', '3h 0m', '6h 10m', '2h 20m', '10h 45m', '2h 15m', '2h 55m', '1h 30m', '7h 35m', '26h 35m', '4h 45m', '21h 25m', '8h 35m', '8h 30m', '2h 15m', '12h 40m', '8h 25m', '25h 40m', '2h 45m', '29h 20m', '2h 40m', '2h 50m', '2h 20m', '7h 15m', '20h 15m', '11h 45m', '2h 35m', '13h 30m', '1h 30m', '24h 35m', '20h 35m', '2h 50m', '4h 35m', '2h 20m', '11h 45m', '1h 30m', '12h 50m', '24h 30m', '11h 30m', '4h 0m', '11h 0m', '5h 25m', '2h 35m', '5h 10m', '10h 10m', '26h 55m', '7h 15m', '8h 10m', '2h 55m', '5h 15m', '2h 20m', '1h 25m', '4h 50m', '2h 20m', '2h 20m', '13h 15m', '19h 10m', '22h 40m', '14h 50m', '15h 10m', '7h 5m', '1h 25m', '2h 55m', '8h 0m', '2h 45m', '14h 55m', '1h 30m', '16h 15m', '2h 50m', '5h 0m', '22h 15m', '5h 30m', '8h 35m', '15h 25m', '21h 0m', '13h 30m', '2h 50m', '6h 45m', '1h 30m', '8h 40m', '1h 30m', '2h 50m', '2h 35m', '16h 5m', '23h 50m', '27h 5m', '16h 15m', '15h 25m', '2h 50m', '8h 35m', '13h 50m', '2h 40m', '2h 25m', '3h 10m', '2h 55m', '28h 40m', '2h 50m', '2h 35m', '9h 40m', '16h 40m', '6h 20m', '27h 0m', '14h 35m', '12h 10m', '7h 35m', '2h 20m', '19h 10m', '20h 0m', '3h 0m', '5h 10m', '2h 40m', '29h 35m', '4h 55m', '3h 0m', '12h 30m', '12h 35m', '26h 20m', '13h 15m', '2h 50m', '12h 45m', '16h 20m', '2h 40m', '8h 15m', '12h 0m', '2h 50m', '11h 0m', '2h 20m', '13h 50m', '8h 10m', '12h 10m', '2h 40m', '2h 45m', '2h 50m', '24h 0m', '3h 0m', '12h 35m', '25h 50m', '2h 55m', '17h 5m', '29h 20m', '8h 55m', '3h 5m', '9h 0m', '10h 25m', '16h 45m', '2h 45m', '26h 20m', '13h 15m', '10h 30m', '7h 35m', '11h 0m', '2h 50m', '25h 45m', '6h 25m', '1h 25m', '20h 10m', '11h 55m', '2h 50m', '5h 0m', '27h 0m', '2h 50m', '1h 15m', '10h 15m', '24h 50m', '2h 50m', '20h 0m', '5h 30m', '2h 45m', '6h 55m', '2h 45m', '5h 15m', '6h 15m', '2h 50m', '19h 25m', '2h 55m', '11h 25m', '14h 5m', '2h 45m', '3h 15m', '14h 20m', '12h 30m', '5h 20m', '26h 20m', '3h 5m', '1h 30m', '7h 5m', '6h 10m', '8h 0m', '12h 5m', '12h 55m', '9h 35m', '15h 10m', '11h 40m', '2h 55m', '4h 30m', '2h 40m', '2h 30m', '24h 10m', '28h 20m', '1h 25m', '10h 10m', '11h 30m', '2h 50m', '13h 45m', '6h 25m', '12h 55m', '4h 25m', '13h 30m', '24h 5m', '16h 5m', '8h 20m', '3h 40m', '9h 30m', '28h 15m', '13h 20m', '17h 50m', '20h 20m', '28h 5m', '15h 25m', '12h 5m', '10h 20m', '12h 25m', '7h 35m', '2h 50m', '4h 35m', '11h 15m', '2h 35m', '26h 0m', '2h 25m', '2h 35m', '14h 15m', '2h 35m', '22h 5m', '6h 35m', '8h 30m', '18h 45m', '35h 15m', '2h 15m', '2h 30m', '2h 20m', '2h 30m', '7h 35m', '35h 35m', '26h 30m', '11h 30m', '26h 40m', '3h 0m', '1h 30m', '2h 55m', '14h 15m', '16h 55m', '12h 20m', '29h 35m', '20h 20m', '8h 25m', '13h 50m', '10h 0m', '19h 25m', '28h 0m', '2h 50m', '17h 20m', '2h 45m', '2h 55m', '13h 25m', '12h 55m', '9h 45m', '21h 25m', '15h 40m', '2h 20m', '14h 25m', '2h 50m', '6h 35m', '22h 10m', '14h 25m', '2h 30m', '23h 35m', '13h 5m', '1h 30m', '5h 5m', '1h 20m', '22h 55m', '1h 30m', '2h 35m', '37h 20m', '2h 50m', '2h 50m', '36h 10m', '9h 15m', '1h 25m', '5h 5m', '2h 15m', '15h 10m', '25h 55m', '5h 40m', '7h 30m', '17h 45m', '2h 20m', '8h 15m', '3h 40m', '5h 55m', '2h 30m', '17h 30m', '13h 50m', '2h 15m', '21h 35m', '9h 30m', '8h 40m', '10h 25m', '35h 5m', '14h 15m', '3h 0m', '25h 50m', '2h 30m', '8h 40m', '10h 0m', '11h 30m', '7h 30m', '7h 0m', '2h 15m', '7h 5m', '8h 0m', '5h 25m', '23h 35m', '6h 35m', '3h 0m', '19h 5m', '2h 35m', '4h 30m', '1h 30m', '2h 40m', '26h 40m', '12h 25m', '14h 25m', '2h 50m', '3h 5m', '1h 30m', '8h 0m', '19h 45m', '2h 45m', '9h 20m', '3h 0m', '26h 55m', '21h 15m', '2h 50m', '2h 50m', '16h 55m', '1h 30m', '25h 45m', '1h 30m', '9h 15m', '11h 5m', '6h 20m', '28h 50m', '27h 55m', '12h 15m', '22h 55m', '2h 35m', '2h 50m', '1h 20m', '26h 0m', '8h 45m', '18h 10m', '14h 55m', '7h 30m', '19h 10m', '7h 15m', '11h 40m', '8h 40m', '11h 0m', '14h 25m', '4h 35m', '7h 40m', '11h 45m', '3h 0m', '1h 30m', '10h 30m', '2h 35m', '5h 35m', '21h 15m', '11h 45m', '20h 0m', '5h 45m', '1h 30m', '2h 35m', '47h 0m', '3h 15m', '21h 15m', '13h 20m', '2h 45m', '2h 55m', '5h 20m', '21h 20m', '5h 30m', '3h 0m', '2h 35m', '12h 35m', '26h 20m', '2h 55m', '6h 35m', '2h 30m', '23h 10m', '12h 55m', '26h 30m', '10h 35m', '1h 35m', '17h 5m', '1h 30m', '2h 45m', '28h 40m', '2h 15m', '1h 30m', '2h 40m', '7h 35m', '14h 25m', '25h 20m', '9h 50m', '16h 10m', '2h 40m', '5h 30m', '16h 45m', '2h 50m', '11h 30m', '9h 45m', '12h 55m', '10h 0m', '10h 55m', '7h 40m', '15h 0m', '2h 20m', '1h 30m', '38h 20m', '2h 45m', '21h 5m', '2h 55m', '2h 50m', '25h 55m', '2h 50m', '1h 20m', '16h 25m', '2h 55m', '13h 0m', '7h 20m', '2h 50m', '5h 15m', '17h 25m', '11h 45m', '22h 5m', '3h 10m', '2h 45m', '5h 20m', '9h 50m', '7h 5m', '20h 45m', '14h 0m', '6h 0m', '4h 30m', '14h 50m', '27h 35m', '24h 0m', '17h 5m', '16h 50m', '2h 50m', '7h 20m', '6h 55m', '2h 40m', '26h 55m', '14h 10m', '2h 20m', '11h 45m', '1h 25m', '15h 30m', '19h 55m', '11h 0m', '2h 50m', '2h 15m', '2h 45m', '10h 0m', '2h 15m', '6h 20m', '7h 15m', '5h 30m', '2h 25m', '1h 30m', '13h 20m', '2h 45m', '4h 30m', '5h 45m', '23h 20m', '16h 40m', '5h 0m', '14h 25m', '13h 20m', '12h 30m', '5h 25m', '27h 35m', '2h 35m', '17h 40m', '21h 40m', '13h 20m', '2h 30m', '9h 35m', '2h 55m', '11h 35m', '2h 35m', '1h 25m', '4h 55m', '7h 30m', '16h 0m', '24h 10m', '3h 15m', '12h 35m', '12h 5m', '12h 10m', '7h 45m', '30h 30m', '7h 15m', '14h 25m', '2h 30m', '6h 25m', '15h 0m', '18h 20m', '19h 55m', '2h 55m', '13h 15m', '8h 45m', '1h 30m', '14h 35m', '2h 50m', '4h 30m', '13h 25m', '12h 45m', '2h 30m', '24h 10m', '5h 25m', '16h 45m', '26h 25m', '5h 20m', '10h 25m', '2h 30m', '1h 30m', '2h 45m', '13h 30m', '6h 40m', '13h 25m', '8h 10m', '15h 30m', '10h 0m', '2h 15m', '3h 0m', '6h 35m', '27h 20m', '5h 0m', '2h 15m', '2h 50m', '7h 5m', '14h 0m', '5h 45m', '2h 40m', '9h 50m', '1h 25m', '5h 20m', '15h 30m', '21h 20m', '7h 15m', '5h 50m', '14h 35m', '7h 55m', '6h 35m', '25h 45m', '10h 30m', '30h 55m', '22h 55m', '15h 10m', '25h 20m', '8h 5m', '15h 40m', '11h 50m', '2h 40m', '21h 35m', '5h 20m', '2h 55m', '2h 50m', '14h 20m', '11h 0m', '12h 40m', '24h 40m', '2h 45m', '10h 15m', '11h 0m', '7h 35m', '12h 30m', '2h 15m', '16h 15m', '3h 0m', '22h 0m', '14h 25m', '26h 35m', '3h 10m', '6h 30m', '2h 50m', '7h 30m', '22h 55m', '5h 30m', '5h 55m', '8h 10m', '6h 40m', '8h 45m', '2h 45m', '8h 40m', '2h 35m', '2h 15m', '26h 55m', '2h 45m', '16h 0m', '16h 50m', '5h 5m', '10h 35m', '12h 0m', '1h 15m', '11h 45m', '21h 10m', '2h 30m', '2h 25m', '2h 50m', '27h 20m', '10h 30m', '2h 55m', '3h 5m', '7h 30m', '29h 50m', '1h 20m', '12h 25m', '11h 50m', '15h 55m', '8h 10m', '35h 5m', '21h 35m', '4h 50m', '20h 20m', '1h 15m', '5h 10m', '3h 0m', '2h 55m', '7h 5m', '4h 30m', '1h 30m', '7h 20m', '1h 30m', '2h 45m', '18h 20m', '2h 45m', '2h 20m', '1h 30m', '23h 40m', '2h 45m', '2h 50m', '8h 45m', '7h 55m', '6h 35m', '23h 35m', '21h 10m', '2h 50m', '14h 35m', '37h 20m', '6h 15m', '26h 0m', '14h 5m', '7h 30m', '16h 45m', '7h 40m', '28h 25m', '5h 0m', '8h 55m', '23h 20m', '14h 15m', '4h 50m', '2h 45m', '22h 55m', '5h 45m', '29h 35m', '2h 35m', '2h 50m', '17h 15m', '2h 35m', '8h 30m', '10h 0m', '8h 15m', '6h 10m', '13h 0m', '3h 15m', '19h 25m', '8h 0m', '2h 35m', '2h 30m', '6h 20m', '2h 15m', '2h 25m', '19h 55m', '3h 0m', '4h 30m', '12h 30m', '7h 45m', '2h 35m', '25h 35m', '6h 10m', '2h 30m', '9h 20m', '18h 45m', '5h 15m', '7h 45m', '14h 30m', '2h 15m', '19h 55m', '5h 25m', '16h 50m', '2h 50m', '4h 35m', '12h 25m', '9h 30m', '2h 35m', '2h 55m', '1h 25m', '2h 45m', '2h 50m', '5h 5m', '10h 15m', '8h 30m', '2h 30m', '4h 55m', '8h 25m', '4h 35m', '3h 5m', '10h 25m', '1h 15m', '13h 15m', '22h 55m', '5h 55m', '2h 55m', '2h 45m', '2h 55m', '2h 30m', '26h 30m', '25h 55m', '1h 20m', '2h 40m', '1h 35m', '2h 20m', '2h 40m', '4h 35m', '3h 5m', '15h 10m', '2h 55m', '9h 5m', '15h 25m', '4h 40m', '9h 35m', '4h 35m', '30h 55m', '2h 55m', '37h 20m', '26h 0m', '20h 10m', '25h 20m', '11h 5m', '23h 50m', '10h 0m', '2h 35m', '20h 35m', '14h 50m', '2h 20m', '9h 50m', '7h 30m', '7h 15m', '22h 45m', '2h 50m', '20h 10m', '2h 50m', '22h 55m', '25h 25m', '5h 5m', '2h 45m', '12h 0m', '11h 5m', '21h 50m', '9h 0m', '13h 30m', '8h 25m', '8h 30m', '10h 0m', '1h 30m', '2h 20m', '1h 30m', '3h 5m', '23h 45m', '1h 30m', '6h 5m', '9h 20m', '20h 10m', '19h 45m', '13h 55m', '2h 15m', '7h 20m', '3h 10m', '3h 15m', '2h 50m', '7h 15m', '2h 55m', '7h 35m', '2h 55m', '28h 20m', '8h 40m', '9h 5m', '15h 20m', '37h 20m', '2h 55m', '11h 45m', '2h 50m', '15h 10m', '10h 15m', '16h 40m', '2h 20m', '2h 45m', '9h 5m', '2h 20m', '23h 50m', '8h 0m', '33h 15m', '14h 45m', '27h 20m', '2h 25m', '1h 30m', '7h 5m', '1h 30m', '4h 50m', '6h 35m', '10h 15m', '11h 30m', '21h 15m', '16h 15m', '25h 50m', '24h 30m', '2h 20m', '15h 10m', '14h 5m', '12h 35m', '10h 20m', '13h 20m', '2h 45m', '3h 0m', '2h 50m', '21h 40m', '2h 40m', '2h 50m', '9h 10m', '8h 25m', '28h 25m', '8h 10m', '12h 30m', '2h 50m', '1h 30m', '13h 30m', '2h 20m', '11h 40m', '6h 35m', '2h 50m', '5h 15m', '2h 15m', '11h 0m', '37h 25m', '2h 50m', '21h 10m', '2h 45m', '6h 25m', '15h 10m', '7h 45m', '4h 55m', '5h 15m', '3h 10m', '22h 35m', '30h 15m', '5h 15m', '2h 35m', '21h 40m', '28h 25m', '12h 45m', '1h 30m', '14h 30m', '2h 35m', '25h 55m', '2h 35m', '9h 15m', '3h 35m', '9h 10m', '7h 20m', '14h 25m', '12h 30m', '27h 5m', '1h 30m', '13h 30m', '13h 20m', '12h 55m', '23h 45m', '27h 40m', '4h 35m', '3h 0m', '9h 15m', '7h 20m', '1h 30m', '22h 0m', '2h 45m', '22h 55m', '4h 50m', '12h 45m', '8h 40m', '2h 45m', '16h 55m', '9h 10m', '8h 30m', '20h 25m', '8h 25m', '7h 15m', '9h 50m', '16h 10m', '13h 55m', '8h 0m', '21h 15m', '3h 10m', '26h 35m', '28h 50m', '2h 45m', '1h 30m', '27h 0m', '4h 35m', '23h 40m', '2h 45m', '2h 30m', '3h 0m', '3h 0m', '2h 50m', '2h 50m', '5h 35m', '3h 0m', '20h 10m', '19h 5m', '28h 20m', '29h 55m', '25h 45m', '2h 15m', '2h 55m', '18h 10m', '8h 55m', '19h 0m', '2h 50m', '2h 50m', '2h 45m', '15h 10m', '29h 20m', '1h 30m', '2h 15m', '15h 40m', '24h 40m', '13h 55m', '2h 50m', '23h 20m', '9h 0m', '2h 50m', '6h 10m', '15h 0m', '15h 5m', '1h 30m', '2h 30m', '12h 20m', '7h 40m', '14h 25m', '38h 15m', '12h 10m', '2h 50m', '9h 35m', '2h 40m', '6h 10m', '6h 30m', '25h 50m', '30h 25m', '3h 0m', '13h 50m', '17h 30m', '2h 30m', '2h 35m', '2h 20m', '13h 15m', '9h 50m', '2h 55m', '12h 25m', '24h 35m', '5h 30m', '15h 10m', '23h 40m', '2h 35m', '10h 0m', '13h 50m', '14h 35m', '7h 35m', '13h 30m', '13h 30m', '8h 15m', '12h 40m', '14h 55m', '27h 35m', '14h 35m', '9h 30m', '15h 10m', '2h 35m', '3h 5m', '4h 55m', '4h 50m', '2h 55m', '1h 30m', '10h 30m', '12h 30m', '6h 0m', '2h 50m', '2h 55m', '7h 35m', '2h 55m', '2h 35m', '29h 35m', '7h 30m', '2h 35m', '3h 15m', '16h 20m', '18h 50m', '28h 20m', '23h 15m', '22h 5m', '2h 35m', '1h 30m', '2h 35m', '4h 45m', '28h 50m', '27h 45m', '17h 5m', '6h 20m', '16h 5m', '9h 10m', '22h 45m', '2h 35m', '5h 0m', '15h 15m', '13h 20m', '17h 5m', '17h 45m', '5h 25m', '5h 20m', '14h 25m', '2h 20m', '15h 55m', '22h 55m', '2h 55m', '1h 30m', '15h 30m', '3h 0m', '26h 0m', '2h 50m', '6h 55m', '23h 35m', '2h 30m', '10h 10m', '11h 30m', '27h 0m', '6h 35m', '2h 50m', '8h 20m', '3h 5m', '20h 20m', '2h 20m', '2h 45m', '7h 35m', '2h 40m', '12h 55m', '11h 15m', '2h 30m', '2h 50m', '4h 50m', '18h 20m', '8h 55m', '13h 0m', '10h 40m', '13h 15m', '13h 20m', '2h 35m', '2h 55m', '12h 30m', '7h 5m', '6h 10m', '2h 45m', '2h 50m', '14h 45m', '5h 45m', '2h 15m', '8h 55m', '1h 25m', '33h 15m', '6h 45m', '23h 30m', '2h 45m', '26h 15m', '7h 30m', '1h 30m', '36h 25m', '28h 5m', '12h 20m', '6h 25m', '17h 5m', '1h 30m', '10h 10m', '8h 40m', '13h 30m', '17h 5m', '5h 15m', '5h 0m', '14h 35m', '38h 15m', '11h 15m', '7h 20m', '21h 40m', '2h 40m', '3h 15m', '13h 30m', '2h 50m', '8h 40m', '6h 35m', '23h 45m', '5h 40m', '2h 55m', '24h 35m', '8h 40m', '2h 55m', '2h 50m', '25h 30m', '8h 15m', '12h 20m', '14h 5m', '8h 40m', '2h 45m', '3h 15m', '24h 35m', '16h 55m', '14h 35m', '2h 50m', '14h 5m', '9h 45m', '11h 0m', '10h 20m', '2h 20m', '23h 40m', '12h 15m', '5h 35m', '27h 35m', '3h 15m', '23h 5m', '9h 30m', '1h 25m', '2h 55m', '17h 15m', '22h 30m', '11h 45m', '2h 45m', '28h 50m', '29h 20m', '12h 0m', '1h 25m', '26h 50m', '1h 30m', '2h 50m', '2h 30m', '16h 5m', '10h 55m', '15h 45m', '14h 25m', '23h 40m', '19h 40m', '10h 25m', '2h 35m', '24h 50m', '14h 0m', '9h 5m', '20h 0m', '3h 0m', '22h 25m', '2h 50m', '9h 5m', '19h 35m', '26h 35m', '20h 10m', '1h 30m', '2h 45m', '26h 55m', '15h 10m', '2h 25m', '13h 0m', '10h 30m', '2h 45m', '3h 15m', '22h 35m', '2h 55m', '24h 45m', '11h 55m', '23h 0m', '26h 55m', '7h 40m', '2h 50m', '8h 20m', '9h 20m', '2h 30m', '10h 10m', '9h 0m', '7h 30m', '7h 40m', '23h 10m', '5h 30m', '2h 45m', '2h 55m', '16h 15m', '4h 30m', '6h 15m', '7h 5m', '3h 0m', '2h 20m', '24h 55m', '6h 10m', '12h 55m', '11h 25m', '13h 30m', '2h 50m', '16h 45m', '15h 20m', '6h 15m', '3h 0m', '12h 15m', '17h 5m', '2h 35m', '22h 10m', '9h 30m', '2h 55m', '9h 50m', '2h 30m', '23h 15m', '13h 50m', '15h 10m', '13h 0m', '15h 0m', '6h 35m', '22h 30m', '14h 40m', '28h 50m', '24h 0m', '11h 45m', '15h 40m', '13h 45m', '1h 25m', '2h 45m', '24h 45m', '15h 30m', '1h 30m', '1h 30m', '7h 40m', '4h 30m', '6h 40m', '26h 55m', '2h 50m', '20h 15m', '25h 45m', '2h 45m', '29h 55m', '10h 15m', '2h 45m', '2h 55m', '3h 0m', '3h 0m', '10h 35m', '8h 40m', '7h 45m', '14h 35m', '4h 30m', '11h 30m', '19h 40m', '7h 15m', '9h 30m', '29h 20m', '10h 25m', '24h 35m', '27h 0m', '2h 35m', '2h 20m', '7h 15m', '14h 0m', '2h 45m', '25h 55m', '1h 25m', '23h 30m', '2h 50m', '13h 30m', '28h 50m', '2h 25m', '26h 35m', '8h 0m', '3h 0m', '1h 30m', '14h 55m', '1h 30m', '8h 0m', '1h 30m', '3h 0m', '12h 0m', '11h 5m', '26h 10m', '7h 55m', '8h 15m', '3h 0m', '2h 55m', '12h 15m', '4h 40m', '13h 45m', '15h 30m', '2h 50m', '6h 45m', '6h 10m', '12h 5m', '10h 30m', '21h 25m', '26h 40m', '21h 35m', '3h 10m', '11h 20m', '9h 30m', '16h 45m', '12h 30m', '9h 35m', '25h 0m', '10h 15m', '8h 40m', '8h 40m', '12h 30m', '1h 30m', '24h 55m', '19h 45m', '11h 5m', '2h 30m', '26h 50m', '7h 35m', '10h 30m', '24h 40m', '22h 30m', '11h 35m', '25h 55m', '5h 20m', '15h 25m', '21h 15m', '25h 30m', '2h 20m', '6h 35m', '2h 50m', '7h 35m', '1h 30m', '11h 0m', '3h 0m', '20h 25m', '2h 35m', '2h 50m', '18h 45m', '12h 35m', '1h 20m', '24h 35m', '1h 20m', '7h 15m', '16h 45m', '7h 25m', '26h 45m', '11h 45m', '21h 40m', '28h 0m', '8h 0m', '10h 15m', '15h 10m', '1h 30m', '2h 55m', '20h 20m', '14h 0m', '7h 35m', '2h 30m', '14h 35m', '8h 40m', '9h 50m', '11h 25m', '2h 55m', '3h 0m', '20h 0m', '28h 20m', '3h 15m', '8h 25m', '1h 15m', '12h 35m', '2h 50m', '6h 35m', '28h 50m', '1h 30m', '20h 0m', '23h 50m', '2h 50m', '13h 30m', '22h 55m', '11h 0m', '22h 45m', '21h 15m', '14h 50m', '11h 0m', '5h 5m', '1h 30m', '2h 20m', '1h 30m', '9h 0m', '3h 15m', '2h 45m', '6h 35m', '25h 25m', '7h 40m', '2h 30m', '13h 0m', '12h 0m', '7h 15m', '2h 50m', '2h 45m', '2h 40m', '6h 55m', '6h 5m', '19h 55m', '7h 0m', '23h 45m', '4h 50m', '5h 30m', '9h 5m', '24h 55m', '23h 50m', '6h 10m', '24h 15m', '2h 40m', '2h 25m', '3h 15m', '5h 30m', '1h 30m', '3h 0m', '13h 30m', '10h 55m', '12h 0m', '14h 0m', '24h 50m', '12h 40m', '2h 45m', '1h 30m', '4h 55m', '30h 55m', '2h 55m', '1h 30m', '2h 50m', '7h 35m', '3h 10m', '2h 45m', '24h 15m', '4h 30m', '9h 30m', '22h 5m', '29h 20m', '7h 30m', '5h 0m', '3h 0m', '1h 25m', '2h 40m', '2h 35m', '4h 45m', '7h 30m', '1h 25m', '23h 10m', '16h 50m', '1h 25m', '2h 45m', '3h 0m', '3h 0m', '9h 0m', '23h 10m', '38h 0m', '9h 50m', '6h 10m', '9h 30m', '12h 30m', '3h 15m', '4h 15m', '23h 40m', '3h 0m', '13h 30m', '2h 20m', '25h 10m', '2h 30m', '5h 5m', '5h 40m', '5h 50m', '9h 0m', '2h 25m', '7h 10m', '18h 15m', '1h 30m', '24h 50m', '2h 45m', '4h 25m', '11h 45m', '7h 30m', '6h 15m', '1h 30m', '1h 25m', '2h 50m', '28h 20m', '2h 20m', '13h 55m', '5h 5m', '10h 30m', '12h 20m', '1h 25m', '16h 10m', '2h 45m', '18h 45m', '4h 20m', '5h 15m', '2h 45m', '9h 30m', '1h 30m', '10h 35m', '10h 45m', '9h 5m', '2h 20m', '8h 0m', '20h 40m', '3h 0m', '13h 45m', '3h 5m', '5h 15m', '13h 30m', '8h 25m', '19h 25m', '13h 30m', '14h 35m', '20h 25m', '12h 10m', '15h 25m', '7h 50m', '15h 15m', '2h 55m', '6h 50m', '24h 10m', '23h 55m', '23h 35m', '14h 0m', '28h 50m', '3h 10m', '27h 35m', '7h 30m', '4h 55m', '11h 35m', '15h 10m', '23h 55m', '18h 20m', '22h 5m', '1h 30m', '22h 15m', '2h 55m', '24h 10m', '22h 0m', '7h 15m', '5h 15m', '23h 50m', '5h 20m', '14h 25m', '8h 0m', '17h 20m', '2h 55m', '2h 50m', '13h 55m', '10h 30m', '2h 50m', '2h 50m', '2h 50m', '13h 25m', '2h 45m', '12h 25m', '8h 15m', '27h 45m', '17h 55m', '2h 55m', '3h 40m', '15h 15m', '2h 45m', '12h 5m', '22h 0m', '12h 15m', '2h 20m', '10h 40m', '23h 25m', '6h 10m', '3h 0m', '7h 35m', '28h 0m', '5h 25m', '7h 15m', '12h 30m', '9h 0m', '15h 25m', '2h 35m', '8h 25m', '7h 15m', '15h 20m', '9h 50m', '1h 30m', '16h 45m', '2h 45m', '15h 20m', '2h 35m', '14h 30m', '2h 50m', '9h 10m', '18h 20m', '22h 55m', '1h 30m', '2h 45m', '15h 30m', '15h 20m', '3h 0m', '7h 40m', '10h 35m', '10h 45m', '10h 15m', '17h 10m', '12h 30m', '8h 0m', '11h 5m', '2h 55m', '1h 30m', '10h 55m', '2h 30m', '24h 20m', '2h 55m', '1h 30m', '13h 15m', '4h 40m', '13h 0m', '16h 0m', '17h 25m', '12h 10m', '9h 30m', '10h 0m', '1h 20m', '8h 0m', '5h 55m', '23h 40m', '24h 55m', '7h 30m', '26h 55m', '12h 10m', '6h 40m', '14h 20m', '5h 35m', '1h 30m', '2h 50m', '18h 30m', '9h 20m', '18h 10m', '2h 55m', '2h 50m', '8h 50m', '13h 20m', '29h 50m', '23h 50m', '5h 55m', '10h 25m', '10h 40m', '2h 50m', '7h 20m', '12h 15m', '9h 30m', '2h 35m', '13h 20m', '9h 30m', '10h 0m', '10h 30m', '28h 30m', '5h 35m', '3h 5m', '24h 40m', '13h 30m', '5h 50m', '12h 35m', '19h 40m', '27h 35m', '4h 35m', '10h 25m', '2h 40m', '1h 30m', '6h 30m', '2h 35m', '12h 10m', '2h 35m', '11h 5m', '9h 35m', '2h 35m', '1h 30m', '11h 0m', '6h 35m', '3h 15m', '26h 10m', '7h 40m', '27h 10m', '12h 30m', '12h 45m', '9h 40m', '26h 10m', '17h 35m', '24h 40m', '13h 10m', '15h 20m', '2h 35m', '11h 5m', '19h 20m', '2h 50m', '12h 0m', '23h 0m', '1h 30m', '8h 0m', '2h 50m', '4h 50m', '2h 50m', '2h 35m', '3h 0m', '2h 50m', '2h 20m', '17h 5m', '2h 50m', '1h 25m', '9h 50m', '1h 30m', '13h 20m', '15h 40m', '27h 0m', '3h 0m', '23h 55m', '9h 50m', '13h 20m', '8h 45m', '4h 55m', '7h 45m', '11h 5m', '2h 35m', '1h 30m', '12h 0m', '2h 50m', '15h 25m', '13h 15m', '1h 30m', '22h 5m', '11h 45m', '7h 30m', '15h 35m', '11h 0m', '9h 15m', '2h 30m', '22h 0m', '2h 40m', '14h 30m', '2h 50m', '2h 45m', '8h 0m', '2h 55m', '2h 35m', '25h 30m', '2h 35m', '7h 30m', '1h 30m', '2h 15m', '1h 30m', '7h 20m', '23h 35m', '9h 35m', '22h 55m', '3h 0m', '5h 0m', '27h 0m', '2h 35m', '20h 20m', '14h 55m', '19h 40m', '27h 20m', '5h 0m', '23h 25m', '14h 5m', '5h 35m', '1h 30m', '1h 25m', '17h 20m', '2h 30m', '25h 0m', '20h 25m', '2h 55m', '1h 25m', '7h 30m', '22h 55m', '9h 10m', '14h 45m', '2h 30m', '12h 25m', '2h 50m', '10h 50m', '17h 15m', '2h 20m', '5h 30m', '11h 30m', '2h 55m', '10h 40m', '14h 20m', '2h 50m', '1h 30m', '10h 0m', '2h 50m', '27h 20m', '23h 50m', '14h 35m', '17h 35m', '2h 45m', '2h 30m', '10h 25m', '8h 55m', '6h 5m', '13h 15m', '22h 30m', '2h 35m', '25h 30m', '2h 55m', '11h 55m', '2h 40m', '22h 30m', '2h 30m', '7h 40m', '2h 30m', '27h 5m', '8h 0m', '18h 20m', '6h 35m', '2h 55m', '11h 15m', '9h 25m', '26h 20m', '26h 55m', '24h 55m', '1h 30m', '10h 55m', '10h 55m', '2h 45m', '2h 25m', '8h 0m', '9h 35m', '29h 20m', '5h 30m', '22h 0m', '2h 15m', '12h 40m', '37h 25m', '23h 40m', '22h 15m', '17h 30m', '3h 0m', '10h 0m', '12h 10m', '9h 10m', '3h 15m', '12h 5m', '9h 35m', '14h 20m', '19h 15m', '15h 15m', '15h 20m', '21h 30m', '2h 30m', '2h 15m', '34h 25m', '1h 35m', '12h 15m', '12h 10m', '16h 55m', '22h 5m', '25h 45m', '7h 20m', '18h 35m', '12h 20m', '2h 45m', '15h 10m', '11h 25m', '26h 50m', '18h 10m', '7h 35m', '2h 25m', '21h 20m', '23h 30m', '2h 50m', '20h 0m', '2h 35m', '5h 35m', '12h 20m', '23h 30m', '16h 0m', '25h 50m', '2h 35m', '11h 30m', '3h 10m', '12h 40m', '2h 55m', '2h 45m', '26h 55m', '2h 50m', '23h 15m', '4h 55m', '29h 40m', '5h 20m', '3h 0m', '26h 20m', '13h 20m', '13h 30m', '2h 25m', '2h 35m', '2h 40m', '21h 10m', '6h 15m', '8h 5m', '26h 10m', '12h 45m', '2h 55m', '29h 35m', '2h 45m', '26h 5m', '2h 45m', '13h 0m', '2h 45m', '14h 25m', '2h 35m', '7h 30m', '2h 30m', '9h 25m', '2h 40m', '9h 10m', '8h 15m', '10h 50m', '11h 25m', '2h 55m', '29h 20m', '37h 20m', '10h 55m', '8h 10m', '20h 0m', '2h 45m', '29h 5m', '12h 5m', '9h 50m', '2h 50m', '2h 20m', '2h 50m', '9h 10m', '15h 45m', '38h 15m', '2h 50m', '12h 30m', '2h 45m', '22h 55m', '24h 0m', '27h 0m', '23h 50m', '23h 15m', '2h 35m', '14h 50m', '16h 50m', '27h 25m', '2h 35m', '20h 10m', '2h 50m', '5h 35m', '18h 20m', '7h 0m', '5h 30m', '18h 0m', '2h 20m', '13h 15m', '22h 55m', '27h 20m', '21h 35m', '27h 35m', '1h 25m', '21h 55m', '2h 50m', '2h 20m', '15h 55m', '12h 20m', '8h 0m', '11h 15m', '3h 15m', '16h 5m', '26h 20m', '2h 50m', '6h 5m', '3h 40m', '7h 55m', '1h 30m', '5h 35m', '28h 20m', '19h 5m', '13h 50m', '25h 40m', '27h 40m', '2h 55m', '21h 10m', '5h 25m', '2h 20m', '7h 40m', '8h 25m', '2h 30m', '1h 20m', '19h 25m', '2h 50m', '3h 0m', '6h 35m', '16h 35m', '21h 15m', '2h 55m', '38h 0m', '11h 15m', '22h 5m', '6h 30m', '1h 30m', '20h 45m', '1h 30m', '6h 40m', '5h 5m', '7h 5m', '11h 55m', '1h 30m', '14h 50m', '8h 40m', '27h 10m', '2h 20m', '2h 55m', '9h 50m', '2h 45m', '14h 5m', '12h 0m', '9h 30m', '2h 50m', '11h 45m', '6h 0m', '11h 55m', '12h 10m', '2h 50m', '10h 25m', '12h 45m', '21h 5m', '9h 30m', '8h 40m', '9h 15m', '21h 55m', '23h 50m', '9h 0m', '23h 15m', '9h 15m', '5h 35m', '2h 15m', '9h 30m', '8h 40m', '2h 45m', '25h 20m', '2h 50m', '3h 0m', '3h 0m', '2h 45m', '16h 35m', '26h 20m', '16h 15m', '6h 5m', '16h 10m', '2h 25m', '2h 50m', '11h 30m', '2h 50m', '23h 40m', '27h 0m', '3h 15m', '11h 30m', '2h 30m', '2h 45m', '10h 0m', '5h 15m', '23h 5m', '2h 50m', '12h 20m', '9h 45m', '8h 35m', '2h 45m', '1h 30m', '18h 25m', '2h 45m', '2h 30m', '6h 35m', '13h 30m', '11h 5m', '26h 10m', '5h 45m', '7h 35m', '6h 45m', '2h 45m', '12h 40m', '7h 15m', '11h 40m', '2h 15m', '12h 45m', '2h 50m', '1h 25m', '18h 0m', '2h 45m', '12h 55m', '15h 0m', '1h 15m', '24h 40m', '1h 30m', '13h 30m', '2h 55m', '2h 25m', '20h 10m', '12h 10m', '12h 15m', '24h 30m', '8h 30m', '1h 30m', '3h 15m', '2h 35m', '2h 30m', '13h 20m', '15h 35m', '5h 0m', '2h 50m', '2h 35m', '12h 0m', '2h 50m', '14h 20m', '9h 5m', '12h 25m', '25h 0m', '12h 10m', '12h 0m', '12h 5m', '12h 45m', '2h 35m', '2h 25m', '22h 55m', '5h 10m', '9h 45m', '3h 5m', '10h 0m', '10h 20m', '26h 10m', '12h 5m', '23h 10m', '2h 35m', '17h 5m', '2h 50m', '16h 30m', '11h 25m', '10h 0m', '13h 20m', '7h 30m', '16h 5m', '8h 20m', '27h 0m', '8h 25m', '2h 35m', '11h 30m', '2h 55m', '2h 55m', '2h 50m', '25h 50m', '1h 30m', '27h 5m', '24h 40m', '12h 30m', '26h 10m', '3h 5m', '3h 15m', '2h 55m', '21h 15m', '17h 25m', '21h 55m', '25h 20m', '14h 25m', '16h 50m', '3h 15m', '12h 15m', '1h 30m', '3h 0m', '2h 55m', '2h 30m', '24h 45m', '2h 20m', '8h 25m', '14h 50m', '2h 35m', '1h 25m', '2h 35m', '14h 5m', '25h 15m', '20h 20m', '8h 20m', '29h 20m', '9h 45m', '1h 20m', '27h 0m', '15h 40m', '5h 30m', '7h 30m', '2h 35m', '19h 25m', '2h 50m', '14h 35m', '8h 40m', '15h 25m', '28h 20m', '1h 30m', '13h 25m', '23h 30m', '10h 35m', '1h 25m', '18h 30m', '24h 50m', '5h 40m', '1h 30m', '15h 0m', '27h 20m', '12h 40m', '23h 0m', '2h 45m', '2h 45m', '2h 45m', '2h 50m', '6h 30m', '2h 45m', '2h 55m', '23h 55m', '25h 25m', '2h 50m', '14h 30m', '7h 15m', '22h 45m', '26h 55m', '2h 45m', '4h 45m', '10h 20m', '7h 45m', '7h 15m', '22h 30m', '7h 45m', '1h 20m', '2h 35m', '7h 55m', '12h 20m', '13h 0m', '17h 45m', '17h 5m', '2h 40m', '2h 45m', '5h 35m', '5h 40m', '9h 30m', '2h 15m', '17h 5m', '8h 25m', '16h 35m', '15h 10m', '26h 5m', '2h 55m', '5h 30m', '3h 5m', '1h 30m', '11h 10m', '2h 30m', '8h 10m', '24h 55m', '2h 40m', '12h 10m', '21h 35m', '34h 25m', '2h 55m', '14h 55m', '3h 0m', '6h 15m', '23h 30m', '2h 55m', '10h 25m', '2h 50m', '4h 40m', '6h 5m', '2h 25m', '14h 25m', '2h 45m', '27h 40m', '10h 0m', '22h 45m', '14h 20m', '15h 25m', '15h 0m', '16h 5m', '2h 55m', '15h 40m', '21h 15m', '1h 35m', '2h 45m', '6h 0m', '13h 20m', '4h 55m', '2h 40m', '9h 30m', '1h 20m', '3h 0m', '24h 35m', '2h 35m', '12h 10m', '15h 10m', '2h 40m', '1h 30m', '24h 55m', '7h 35m', '18h 45m', '6h 5m', '11h 5m', '9h 40m', '13h 30m', '14h 25m', '6h 25m', '2h 50m', '5h 55m', '14h 25m', '13h 20m', '6h 30m', '22h 35m', '11h 0m', '7h 45m', '2h 50m', '2h 20m', '6h 20m', '2h 30m', '10h 0m', '12h 5m', '2h 40m', '7h 45m', '17h 5m', '8h 40m', '2h 20m', '7h 20m', '18h 0m', '13h 20m', '11h 45m', '2h 40m', '12h 30m', '12h 35m', '3h 0m', '10h 15m', '2h 50m', '7h 55m', '10h 15m', '15h 30m', '3h 5m', '2h 25m', '2h 35m', '11h 30m', '13h 25m', '2h 35m', '14h 30m', '23h 25m', '2h 25m', '5h 30m', '17h 25m', '7h 50m', '26h 50m', '16h 45m', '2h 45m', '28h 5m', '14h 20m', '9h 45m', '2h 20m', '14h 25m', '3h 15m', '3h 0m', '5h 5m', '8h 5m', '10h 0m', '1h 30m', '20h 10m', '14h 25m', '26h 0m', '19h 0m', '18h 25m', '15h 30m', '5h 30m', '9h 30m', '14h 35m', '21h 25m', '9h 25m', '14h 25m', '5h 55m', '1h 30m', '2h 45m', '20h 45m', '13h 30m', '28h 55m', '4h 30m', '29h 5m', '12h 45m', '5h 5m', '18h 20m', '22h 35m', '4h 25m', '9h 40m', '10h 0m', '16h 50m', '5h 40m', '2h 50m', '2h 30m', '11h 30m', '10h 30m', '15h 20m', '9h 50m', '13h 20m', '23h 10m', '2h 20m', '25h 5m', '2h 35m', '2h 55m', '13h 10m', '2h 20m', '8h 35m', '14h 20m', '8h 0m', '2h 50m', '29h 10m', '1h 25m', '2h 55m', '5h 25m', '2h 50m', '2h 50m', '2h 20m', '8h 55m', '5h 15m', '11h 25m', '2h 55m', '2h 50m', '8h 30m', '3h 40m', '23h 45m', '13h 30m', '1h 30m', '26h 35m', '22h 55m', '34h 0m', '8h 0m', '14h 25m', '15h 25m', '2h 35m', '9h 25m', '2h 35m', '2h 50m', '2h 50m', '28h 25m', '1h 30m', '25h 5m', '14h 30m', '22h 30m', '7h 5m', '1h 30m', '18h 15m', '7h 15m', '17h 30m', '8h 55m', '2h 50m', '20h 35m', '20h 0m', '8h 10m', '17h 5m', '9h 15m', '2h 25m', '8h 25m', '13h 30m', '2h 50m', '6h 0m', '18h 25m', '14h 5m', '22h 30m', '25h 30m', '1h 30m', '2h 25m', '15h 35m', '2h 20m', '26h 15m', '3h 5m', '2h 35m', '13h 0m', '18h 45m', '3h 0m', '11h 25m', '11h 45m', '1h 30m', '22h 5m', '27h 45m', '15h 40m', '2h 30m', '24h 35m', '1h 30m', '5h 10m', '5h 25m', '13h 20m', '8h 35m', '1h 25m', '3h 0m', '10h 30m', '3h 0m', '2h 30m', '12h 5m', '22h 10m', '22h 10m', '3h 15m', '6h 20m', '24h 30m', '4h 15m', '6h 35m', '14h 50m', '2h 50m', '8h 25m', '2h 35m', '12h 0m', '18h 45m', '25h 25m', '8h 30m', '2h 55m', '20h 0m', '24h 45m', '8h 40m', '6h 5m', '10h 55m', '14h 5m', '18h 50m', '2h 30m', '7h 40m', '7h 15m', '3h 5m', '10h 25m', '2h 50m', '9h 10m', '11h 40m', '13h 50m', '2h 15m', '2h 30m', '5h 40m', '16h 15m', '2h 55m', '2h 45m', '9h 0m', '14h 25m', '15h 20m', '9h 30m', '2h 30m', '25h 50m', '30h 20m', '2h 55m', '1h 30m', '15h 40m', '20h 25m', '22h 5m', '3h 5m', '20h 15m', '21h 40m', '7h 35m', '6h 35m', '3h 0m', '23h 40m', '1h 30m', '9h 5m', '5h 25m', '9h 5m', '1h 30m', '21h 10m', '2h 30m', '24h 45m', '2h 45m', '16h 0m', '21h 40m', '2h 45m', '7h 5m', '15h 5m', '7h 20m', '2h 40m', '2h 35m', '25h 45m', '2h 20m', '2h 25m', '2h 45m', '27h 45m', '16h 15m', '2h 35m', '28h 50m', '9h 50m', '5h 15m', '25h 45m', '21h 20m', '2h 20m', '17h 5m', '10h 55m', '9h 10m', '16h 35m', '22h 5m', '2h 45m', '2h 40m', '8h 10m', '26h 0m', '12h 55m', '1h 25m', '2h 55m', '10h 55m', '2h 30m', '9h 25m', '13h 0m', '29h 20m', '11h 0m', '2h 55m', '11h 20m', '8h 20m', '27h 20m', '30h 40m', '25h 15m', '8h 35m', '15h 10m', '2h 20m', '1h 30m', '15h 5m', '7h 40m', '29h 5m', '12h 15m', '23h 50m', '28h 50m', '7h 35m', '10h 30m', '2h 50m', '21h 25m', '16h 5m', '3h 0m', '13h 45m', '9h 20m', '27h 20m', '12h 0m', '2h 55m', '12h 15m', '2h 55m', '24h 0m', '2h 45m', '2h 55m', '4h 55m', '7h 20m', '4h 55m', '23h 35m', '7h 15m', '1h 30m', '2h 30m', '4h 35m', '16h 20m', '2h 50m', '28h 55m', '15h 5m', '3h 0m', '2h 55m', '27h 10m', '2h 45m', '1h 25m', '5h 45m', '12h 15m', '3h 35m', '7h 30m', '15h 25m', '25h 20m', '2h 50m', '4h 50m', '16h 55m', '15h 25m', '10h 25m', '6h 15m', '8h 0m', '7h 5m', '1h 30m', '5h 55m', '9h 30m', '8h 40m', '18h 20m', '19h 40m', '22h 10m', '12h 45m', '23h 15m', '11h 0m', '2h 55m', '1h 30m', '15h 25m', '2h 15m', '2h 35m', '2h 45m', '21h 30m', '22h 55m', '18h 10m', '2h 20m', '14h 5m', '2h 45m', '25h 50m', '2h 30m', '2h 30m', '2h 50m', '14h 30m', '8h 55m', '2h 40m', '2h 25m', '2h 50m', '6h 25m', '10h 20m', '15h 40m', '11h 25m', '15h 10m', '23h 35m', '2h 20m', '2h 40m', '20h 20m', '8h 30m', '2h 15m', '6h 15m', '26h 50m', '30h 45m', '5h 0m', '27h 20m', '6h 25m', '2h 45m', '2h 50m', '5h 15m', '22h 55m', '14h 45m', '16h 45m', '18h 25m', '16h 35m', '2h 35m', '7h 50m', '12h 40m', '1h 25m', '19h 45m', '16h 55m', '2h 50m', '14h 15m', '27h 35m', '1h 30m', '22h 55m', '12h 20m', '2h 45m', '8h 40m', '2h 35m', '22h 5m', '24h 0m', '36h 10m', '14h 0m', '16h 50m', '27h 5m', '7h 15m', '20h 55m', '5h 0m', '7h 0m', '2h 30m', '5h 15m', '10h 50m', '5h 15m', '20h 55m', '8h 40m', '2h 15m', '12h 0m', '6h 15m', '8h 40m', '14h 10m', '32h 55m', '2h 50m', '6h 25m', '2h 30m', '2h 30m', '10h 40m', '19h 55m', '8h 40m', '11h 0m', '10h 5m', '4h 55m', '30h 55m', '11h 25m', '26h 35m', '3h 5m', '14h 35m', '2h 25m', '4h 50m', '3h 0m', '11h 30m', '35h 20m', '2h 40m', '28h 50m', '2h 35m', '2h 55m', '17h 25m', '14h 50m', '10h 30m', '5h 35m', '1h 30m', '2h 30m', '8h 55m', '1h 30m', '4h 30m', '12h 15m', '9h 30m', '14h 25m', '27h 20m', '26h 55m', '13h 30m', '12h 5m', '2h 30m', '22h 55m', '15h 40m', '5h 0m', '14h 5m', '2h 55m', '23h 15m', '21h 15m', '2h 55m', '2h 55m', '25h 50m', '5h 25m', '3h 0m', '3h 0m', '2h 40m', '17h 20m', '3h 10m', '8h 30m', '12h 5m', '8h 20m', '15h 0m', '13h 10m', '8h 30m', '26h 55m', '1h 30m', '25h 0m', '2h 55m', '9h 0m', '26h 20m', '1h 20m', '13h 30m', '9h 30m', '2h 30m', '1h 30m', '17h 45m', '11h 25m', '23h 35m', '2h 50m', '2h 55m', '2h 25m', '3h 15m', '5h 55m', '6h 10m', '18h 20m', '26h 10m', '21h 35m', '21h 15m', '23h 20m', '5h 30m', '3h 15m', '5h 55m', '13h 25m', '2h 35m', '26h 35m', '13h 15m', '2h 15m', '2h 30m', '2h 35m', '7h 40m', '2h 40m', '1h 30m', '2h 35m', '23h 30m', '6h 10m', '5h 30m', '1h 30m', '3h 10m', '13h 55m', '2h 50m', '7h 35m', '7h 55m', '2h 25m', '1h 30m', '9h 0m', '14h 35m', '11h 15m', '3h 0m', '2h 35m', '23h 40m', '4h 40m', '21h 15m', '23h 5m', '2h 55m', '8h 45m', '19h 55m', '2h 45m', '12h 35m', '2h 45m', '16h 10m', '30h 30m', '4h 40m', '27h 35m', '12h 45m', '11h 5m', '3h 0m', '11h 30m', '2h 50m', '20h 0m', '10h 10m', '2h 30m', '13h 10m', '2h 45m', '6h 40m', '27h 0m', '23h 45m', '5h 20m', '12h 30m', '27h 35m', '7h 35m', '11h 45m', '13h 30m', '3h 0m', '27h 40m', '7h 30m', '9h 30m', '13h 30m', '3h 5m', '20h 10m', '10h 15m', '9h 15m', '14h 25m', '8h 25m', '14h 50m', '2h 40m', '8h 30m', '2h 50m', '2h 45m', '23h 15m', '16h 50m', '2h 30m', '1h 25m', '6h 35m', '14h 25m', '12h 25m', '2h 20m', '1h 30m', '10h 40m', '1h 30m', '27h 10m', '12h 25m', '8h 50m', '2h 50m', '24h 0m', '20h 55m', '6h 5m', '12h 15m', '2h 30m', '2h 35m', '12h 30m', '12h 35m', '16h 5m', '21h 15m', '2h 20m', '2h 30m', '12h 15m', '23h 50m', '2h 50m', '23h 10m', '8h 5m', '10h 40m', '2h 30m', '7h 15m', '1h 30m', '10h 30m', '23h 15m', '2h 30m', '5h 0m', '25h 5m', '9h 45m', '2h 25m', '15h 25m', '13h 30m', '20h 15m', '15h 30m', '15h 0m', '21h 30m', '7h 5m', '2h 55m', '28h 20m', '2h 30m', '18h 10m', '21h 15m', '11h 5m', '10h 40m', '10h 0m', '4h 50m', '5h 30m', '13h 20m', '9h 30m', '26h 45m', '9h 15m', '1h 15m', '7h 35m', '1h 30m', '2h 50m', '5h 10m', '1h 30m', '2h 55m', '16h 45m', '2h 20m', '19h 55m', '3h 5m', '2h 55m', '2h 55m', '26h 0m', '2h 55m', '15h 25m', '11h 5m', '1h 30m', '16h 15m', '6h 20m', '26h 55m', '20h 45m', '24h 45m', '5h 45m', '9h 45m', '2h 40m', '5h 35m', '2h 45m', '3h 0m', '2h 35m', '24h 35m', '2h 35m', '2h 40m', '20h 20m', '2h 35m', '3h 0m', '6h 15m', '2h 20m', '2h 20m', '10h 40m', '8h 30m', '1h 30m', '15h 50m', '2h 30m', '12h 0m', '1h 30m', '21h 35m', '2h 45m', '26h 15m', '2h 50m', '1h 25m', '3h 0m', '2h 30m', '7h 30m', '2h 20m', '10h 30m', '2h 50m', '2h 45m', '14h 0m', '2h 50m', '1h 30m', '27h 35m', '6h 35m', '11h 40m', '2h 55m', '11h 50m', '9h 50m', '26h 50m', '2h 45m', '4h 55m', '2h 45m', '13h 10m', '27h 10m', '2h 45m', '15h 50m', '8h 25m', '2h 20m', '14h 5m', '2h 50m', '16h 20m', '25h 10m', '2h 50m', '38h 20m', '11h 5m', '2h 55m', '19h 55m', '15h 45m', '9h 15m', '2h 35m', '4h 55m', '13h 15m', '26h 0m', '18h 30m', '9h 0m', '27h 35m', '19h 15m', '11h 45m', '22h 55m', '8h 10m', '6h 55m', '12h 45m', '2h 35m', '2h 50m', '10h 15m', '3h 0m', '12h 30m', '4h 50m', '38h 0m', '13h 20m', '12h 45m', '26h 35m', '16h 40m', '2h 50m', '4h 15m', '2h 45m', '1h 30m', '2h 35m', '7h 30m', '29h 20m', '23h 0m', '2h 45m', '12h 10m', '7h 5m', '2h 40m', '15h 40m', '7h 45m', '5h 45m', '2h 30m', '10h 10m', '12h 10m', '1h 30m', '2h 50m', '12h 15m', '1h 30m', '9h 10m', '22h 5m', '10h 0m', '6h 15m', '2h 55m', '2h 35m', '9h 50m', '23h 50m', '5h 45m', '8h 15m', '10h 25m', '14h 15m', '13h 20m', '2h 45m', '34h 0m', '7h 5m', '8h 55m', '15h 30m', '11h 50m', '1h 30m', '9h 15m', '15h 30m', '3h 0m', '7h 30m', '2h 35m', '2h 35m', '14h 30m', '6h 15m', '10h 30m', '2h 50m', '7h 5m', '13h 10m', '13h 15m', '7h 15m', '26h 0m', '11h 0m', '24h 45m', '2h 35m', '27h 35m', '14h 25m', '20h 10m', '2h 45m', '12h 20m', '2h 15m', '8h 50m', '26h 10m', '2h 45m', '1h 25m', '10h 0m', '1h 30m', '5h 15m', '2h 50m', '20h 20m', '6h 35m', '12h 35m', '2h 35m', '2h 20m', '11h 45m', '2h 50m', '2h 20m', '1h 30m', '2h 20m', '1h 30m', '22h 5m', '7h 15m', '9h 15m', '27h 10m', '12h 45m', '4h 30m', '2h 55m', '14h 30m', '12h 10m', '22h 25m', '9h 10m', '10h 0m', '1h 30m', '2h 30m', '5h 30m', '12h 45m', '15h 10m', '23h 20m', '2h 20m', '8h 0m', '11h 15m', '19h 0m', '10h 0m', '2h 35m', '5h 15m', '8h 5m', '2h 15m', '11h 30m', '33h 15m', '1h 30m', '13h 5m', '2h 55m', '2h 55m', '2h 35m', '22h 55m', '21h 5m', '5h 10m', '13h 30m', '12h 15m', '2h 40m', '19h 35m', '28h 50m', '2h 35m', '18h 20m', '24h 10m', '2h 50m', '26h 50m', '2h 15m', '2h 55m', '24h 30m', '14h 10m', '22h 45m', '16h 35m', '5h 20m', '8h 30m', '9h 50m', '8h 40m', '21h 40m', '7h 30m', '13h 45m', '1h 30m', '38h 15m', '1h 30m', '16h 5m', '15h 10m', '20h 10m', '10h 55m', '5h 40m', '2h 45m', '2h 45m', '18h 20m', '13h 50m', '7h 35m', '23h 15m', '13h 20m', '23h 20m', '19h 25m', '13h 30m', '2h 30m', '23h 15m', '2h 20m', '1h 15m', '3h 10m', '11h 30m', '4h 50m', '22h 0m', '20h 15m', '11h 15m', '12h 45m', '12h 30m', '11h 30m', '17h 15m', '5h 0m', '1h 30m', '7h 35m', '2h 55m', '7h 25m', '5h 55m', '15h 45m', '11h 30m', '9h 45m', '12h 30m', '5h 0m', '22h 0m', '22h 5m', '16h 55m', '1h 25m', '2h 45m', '10h 0m', '1h 20m', '14h 25m', '18h 0m', '4h 55m', '7h 30m', '7h 55m', '2h 30m', '9h 45m', '2h 45m', '7h 5m', '9h 30m', '1h 30m', '15h 0m', '17h 5m', '24h 20m', '12h 30m', '24h 40m', '3h 5m', '2h 25m', '2h 45m', '7h 30m', '1h 30m', '4h 55m', '2h 45m', '8h 40m', '28h 50m', '7h 15m', '20h 15m', '2h 50m', '12h 45m', '30h 40m', '4h 5m', '10h 15m', '38h 15m', '21h 35m', '15h 25m', '2h 20m', '5h 20m', '2h 50m', '22h 45m', '2h 50m', '25h 50m', '6h 30m', '2h 25m', '14h 35m', '2h 55m', '12h 40m', '2h 15m', '9h 35m', '17h 20m', '11h 50m', '2h 55m', '1h 25m', '16h 55m', '2h 20m', '2h 55m', '9h 30m', '2h 40m', '7h 15m', '4h 55m', '19h 10m', '10h 45m', '22h 15m', '13h 20m', '10h 35m', '7h 15m', '18h 25m', '15h 40m', '7h 35m', '2h 40m', '16h 45m', '5h 35m', '11h 0m', '2h 45m', '7h 55m', '9h 30m', '5h 45m', '29h 20m', '1h 30m', '7h 5m', '4h 40m', '1h 25m', '26h 55m', '26h 30m', '1h 30m', '2h 45m', '3h 0m', '3h 0m', '2h 50m', '30h 30m', '2h 50m', '20h 45m', '22h 30m', '2h 50m', '26h 0m', '16h 25m', '9h 20m', '7h 5m', '24h 35m', '2h 20m', '22h 10m', '7h 35m', '26h 0m', '16h 5m', '38h 0m', '13h 15m', '10h 40m', '2h 50m', '16h 10m', '13h 20m', '6h 30m', '1h 30m', '10h 25m', '12h 45m', '32h 5m', '8h 15m', '3h 0m', '18h 45m', '29h 20m', '31h 40m', '2h 50m', '2h 55m', '28h 50m', '1h 15m', '18h 20m', '12h 15m', '2h 25m', '3h 0m', '33h 15m', '2h 50m', '14h 0m', '7h 50m', '7h 35m', '21h 15m', '2h 50m', '2h 40m', '25h 5m', '7h 35m', '7h 30m', '9h 15m', '2h 35m', '1h 30m', '8h 0m', '2h 30m', '15h 20m', '5h 50m', '2h 25m', '26h 10m', '2h 40m', '21h 20m', '2h 50m', '3h 0m', '4h 50m', '7h 45m', '10h 45m', '3h 0m', '9h 50m', '10h 0m', '6h 55m', '18h 30m', '2h 40m', '20h 10m', '2h 25m', '23h 15m', '11h 15m', '5h 30m', '10h 15m', '22h 55m', '1h 30m', '9h 0m', '16h 20m', '12h 15m', '6h 20m', '7h 20m', '1h 30m', '15h 15m', '1h 20m', '5h 30m', '9h 35m', '8h 55m', '2h 50m', '12h 20m', '23h 50m', '16h 55m', '2h 55m', '16h 5m', '23h 15m', '14h 25m', '1h 30m', '13h 20m', '3h 5m', '28h 50m', '14h 40m', '2h 45m', '5h 50m', '9h 5m', '1h 30m', '23h 30m', '8h 40m', '14h 20m', '2h 15m', '2h 45m', '5h 20m', '3h 0m', '5h 20m', '2h 50m', '2h 15m', '2h 55m', '8h 0m', '25h 40m', '23h 45m', '22h 35m', '8h 40m', '23h 40m', '7h 50m', '4h 50m', '2h 55m', '30h 40m', '14h 55m', '27h 20m', '23h 35m', '9h 0m', '20h 55m', '20h 10m', '14h 25m', '7h 35m', '7h 0m', '2h 55m', '1h 30m', '1h 25m', '9h 50m', '7h 20m', '14h 30m', '9h 50m', '2h 35m', '8h 0m', '2h 30m', '5h 20m', '2h 25m', '14h 55m', '25h 45m', '23h 50m', '10h 30m', '2h 55m', '6h 15m', '16h 10m', '23h 0m', '23h 20m', '7h 30m', '1h 30m', '14h 0m', '7h 5m', '2h 55m', '12h 15m', '2h 45m', '20h 15m', '27h 5m', '20h 15m', '2h 45m', '11h 45m', '1h 25m', '2h 45m', '3h 0m', '11h 0m', '24h 55m', '26h 35m', '23h 40m', '23h 35m', '25h 45m', '2h 45m', '1h 25m', '19h 15m', '15h 30m', '24h 30m', '13h 20m', '7h 35m', '2h 45m', '2h 50m', '10h 10m', '30h 30m', '2h 50m', '8h 25m', '1h 30m', '12h 25m', '24h 55m', '2h 35m', '21h 15m', '22h 55m', '2h 35m', '3h 0m', '8h 55m', '22h 30m', '1h 30m', '9h 5m', '21h 25m', '2h 40m', '13h 30m', '6h 25m', '20h 55m', '10h 10m', '26h 30m', '10h 15m', '7h 20m', '10h 45m', '7h 5m', '2h 20m', '12h 0m', '20h 20m', '11h 0m', '13h 50m', '9h 0m', '7h 50m', '16h 5m', '9h 0m', '12h 40m', '3h 5m', '1h 30m', '11h 15m', '12h 25m', '12h 20m', '2h 25m', '15h 35m', '2h 50m', '5h 5m', '6h 35m', '7h 5m', '2h 50m', '13h 30m', '2h 50m', '3h 0m', '33h 15m', '23h 10m', '2h 55m', '6h 30m', '2h 30m', '2h 55m', '10h 45m', '23h 40m', '2h 35m', '9h 0m', '1h 30m', '1h 35m', '11h 45m', '2h 55m', '15h 30m', '27h 35m', '2h 50m', '5h 15m', '14h 35m', '2h 40m', '7h 30m', '2h 50m', '1h 30m', '6h 35m', '2h 35m', '11h 40m', '2h 50m', '2h 45m', '5h 0m', '7h 15m', '8h 35m', '3h 0m', '17h 5m', '11h 0m', '3h 10m', '5h 20m', '9h 0m', '6h 30m', '15h 25m', '2h 45m', '6h 30m', '16h 5m', '12h 15m', '25h 30m', '12h 35m', '27h 45m', '6h 15m', '2h 55m', '6h 10m', '2h 40m', '7h 30m', '5h 20m', '22h 25m', '26h 30m', '3h 0m', '2h 40m', '7h 45m', '25h 5m', '9h 20m', '3h 5m', '9h 45m', '25h 35m', '2h 40m', '5h 15m', '24h 55m', '1h 30m', '2h 50m', '2h 15m', '26h 55m', '2h 15m', '24h 30m', '10h 15m', '5h 25m', '10h 20m', '7h 5m', '3h 0m', '23h 5m', '24h 50m', '12h 45m', '22h 10m', '8h 10m', '2h 30m', '9h 20m', '6h 5m', '24h 35m', '3h 0m', '11h 15m', '8h 25m', '2h 40m', '20h 20m', '1h 30m', '30h 20m', '15h 30m', '2h 45m', '7h 0m', '3h 5m', '7h 35m', '2h 50m', '13h 55m', '23h 45m', '2h 45m', '10h 15m', '10h 5m', '12h 45m', '2h 35m', '2h 50m', '14h 45m', '7h 20m', '23h 10m', '2h 20m', '5h 30m', '13h 45m', '2h 20m', '1h 30m', '2h 20m', '2h 55m', '12h 45m', '2h 20m', '24h 45m', '38h 0m', '4h 55m', '11h 45m', '11h 45m', '3h 10m', '2h 50m', '2h 35m', '6h 35m', '1h 20m', '2h 15m', '23h 40m', '5h 0m', '2h 40m', '23h 40m', '12h 10m', '7h 35m', '29h 20m', '2h 55m', '13h 20m', '12h 25m', '1h 20m', '28h 15m', '5h 20m', '1h 20m', '7h 5m', '1h 30m', '23h 20m', '2h 50m', '11h 30m', '2h 45m', '2h 35m', '7h 5m', '3h 15m', '2h 45m', '14h 30m', '28h 20m', '2h 50m', '2h 30m', '9h 50m', '6h 20m', '7h 0m', '2h 35m', '2h 40m', '8h 40m', '2h 40m', '10h 25m', '2h 25m', '13h 55m', '2h 35m', '2h 30m', '2h 30m', '25h 20m', '13h 0m', '5h 10m', '13h 20m', '4h 55m', '10h 35m', '18h 20m', '16h 5m', '7h 30m', '25h 5m', '11h 0m', '14h 35m', '1h 25m', '19h 55m', '2h 25m', '2h 55m', '5h 40m', '12h 10m', '11h 45m', '10h 15m', '1h 30m', '11h 35m', '2h 20m', '7h 20m', '6h 25m', '3h 0m', '11h 0m', '14h 30m', '12h 20m', '13h 15m', '11h 0m', '2h 45m', '25h 30m', '12h 0m', '15h 25m', '1h 25m', '7h 15m', '2h 35m', '16h 35m', '2h 55m', '1h 30m', '10h 45m', '7h 45m', '4h 45m', '12h 15m', '19h 25m', '2h 35m', '27h 20m', '2h 20m', '10h 30m', '25h 5m', '11h 15m', '24h 50m', '19h 50m', '2h 15m', '5h 10m', '29h 5m', '26h 0m', '9h 30m', '2h 35m', '2h 15m', '15h 55m', '2h 15m', '16h 5m', '23h 50m', '4h 50m', '16h 45m', '2h 20m', '15h 0m', '14h 5m', '13h 20m', '12h 30m', '7h 15m', '3h 5m', '2h 50m', '2h 55m', '2h 35m', '27h 35m', '1h 20m', '19h 55m', '3h 0m', '1h 30m', '14h 45m', '8h 35m', '19h 25m', '26h 35m', '5h 0m', '4h 50m', '7h 20m', '27h 45m', '3h 0m', '2h 50m', '2h 45m', '8h 35m', '3h 0m', '8h 5m', '2h 50m', '8h 30m', '11h 5m', '4h 30m', '2h 50m', '33h 45m', '2h 50m', '24h 45m', '30h 10m', '27h 5m', '15h 20m', '26h 10m', '21h 15m', '1h 30m', '17h 25m', '16h 45m', '3h 15m', '10h 20m', '10h 20m', '2h 35m', '2h 55m', '9h 35m', '7h 15m', '8h 55m', '2h 55m', '14h 5m', '18h 45m', '2h 35m', '2h 45m', '14h 10m', '1h 30m', '2h 35m', '2h 55m', '7h 20m', '11h 50m', '1h 20m', '7h 30m', '9h 20m', '24h 50m', '21h 15m', '24h 50m', '18h 20m', '2h 20m', '7h 25m', '2h 50m', '38h 0m', '1h 25m', '2h 40m', '3h 5m', '29h 55m', '2h 30m', '8h 0m', '14h 35m', '5h 15m', '1h 30m', '2h 45m', '2h 55m', '15h 55m', '2h 55m', '8h 25m', '7h 0m', '2h 50m', '21h 45m', '3h 5m', '11h 5m', '4h 55m', '23h 35m', '5h 15m', '22h 55m', '3h 15m', '21h 20m', '7h 30m', '1h 25m', '28h 50m', '10h 20m', '16h 40m', '7h 5m', '7h 20m', '2h 55m', '24h 35m', '24h 50m', '7h 35m', '11h 0m', '16h 15m', '14h 50m', '9h 50m', '13h 20m', '8h 25m', '27h 35m', '1h 30m', '2h 50m', '13h 15m', '25h 55m', '2h 35m', '22h 15m', '13h 40m', '10h 25m', '2h 50m', '15h 25m', '2h 50m', '22h 0m', '8h 25m', '25h 55m', '9h 30m', '12h 0m', '9h 45m', '23h 45m', '3h 15m', '15h 0m', '21h 25m', '8h 35m', '25h 20m', '21h 0m', '17h 35m', '1h 30m', '10h 50m', '23h 45m', '11h 25m', '2h 30m', '6h 35m', '2h 40m', '2h 25m', '13h 10m', '26h 35m', '1h 25m', '15h 30m', '14h 15m', '22h 0m', '10h 25m', '10h 25m', '14h 25m', '27h 0m', '8h 35m', '8h 0m', '12h 20m', '26h 35m', '3h 10m', '23h 50m', '25h 15m', '2h 20m', '28h 25m', '21h 30m', '12h 10m', '2h 50m', '22h 35m', '6h 15m', '2h 30m', '10h 55m', '13h 10m', '11h 45m', '9h 25m', '14h 15m', '12h 25m', '13h 30m', '20h 20m', '8h 10m', '16h 45m', '1h 30m', '2h 30m', '12h 10m', '6h 55m', '12h 40m', '3h 40m', '2h 40m', '21h 55m', '9h 50m', '2h 35m', '2h 45m', '1h 25m', '11h 45m', '6h 30m', '12h 5m', '16h 15m', '15h 10m', '19h 30m', '35h 5m', '29h 50m', '9h 40m', '11h 15m', '5h 45m', '21h 45m', '8h 55m', '13h 25m', '5h 30m', '2h 50m', '3h 0m', '9h 30m', '2h 45m', '24h 30m', '2h 50m', '2h 55m', '19h 5m', '2h 50m', '2h 30m', '7h 55m', '2h 50m', '1h 15m', '7h 45m', '3h 0m', '2h 45m', '19h 25m', '24h 10m', '4h 55m', '25h 0m', '2h 15m', '14h 10m', '8h 0m', '7h 50m', '2h 45m', '2h 30m', '16h 15m', '15h 40m', '18h 20m', '16h 15m', '19h 5m', '9h 30m', '5h 0m', '19h 15m', '27h 35m', '14h 35m', '4h 40m', '13h 25m', '7h 35m', '14h 0m', '2h 45m', '18h 25m', '21h 25m', '6h 35m', '11h 0m', '1h 30m', '5h 20m', '3h 0m', '28h 5m', '2h 40m', '2h 15m', '1h 15m', '24h 15m', '9h 20m', '2h 40m', '3h 0m', '3h 0m', '2h 45m', '5h 45m', '15h 0m', '23h 50m', '2h 50m', '16h 5m', '9h 5m', '23h 15m', '21h 15m', '11h 5m', '22h 0m', '2h 45m', '31h 30m', '1h 25m', '19h 55m', '5h 5m', '6h 15m', '5h 55m', '2h 55m', '21h 35m', '15h 10m', '25h 30m', '17h 5m', '2h 35m', '25h 40m', '5h 45m', '3h 5m', '9h 5m', '8h 0m', '5h 50m', '13h 25m', '2h 20m', '9h 30m', '27h 10m', '2h 40m', '20h 10m', '21h 10m', '2h 50m', '24h 0m', '15h 15m', '10h 30m', '4h 50m', '6h 5m', '2h 55m', '21h 35m', '9h 20m', '27h 20m', '2h 35m', '5h 15m', '4h 35m', '7h 30m', '2h 45m', '24h 30m', '7h 15m', '11h 55m', '8h 10m', '15h 40m', '10h 30m', '1h 25m', '10h 35m', '4h 55m', '21h 45m', '24h 5m', '2h 35m', '2h 35m', '10h 55m', '6h 20m', '7h 30m', '2h 45m', '22h 55m', '2h 50m', '2h 55m', '2h 45m', '3h 0m', '11h 40m', '26h 15m', '27h 0m', '11h 5m', '25h 45m', '1h 25m', '21h 25m', '1h 25m', '12h 20m', '5h 30m', '20h 35m', '9h 15m', '6h 30m', '2h 55m', '13h 50m', '22h 45m', '14h 35m', '3h 5m', '2h 20m', '6h 55m', '19h 55m', '18h 45m', '2h 50m', '13h 25m', '2h 55m', '2h 55m', '2h 45m', '5h 45m', '14h 45m', '2h 20m', '18h 20m', '13h 0m', '2h 45m', '8h 0m', '29h 5m', '10h 10m', '2h 35m', '15h 40m', '13h 20m', '2h 50m', '25h 45m', '2h 20m', '13h 0m', '4h 25m', '2h 50m', '22h 10m', '4h 30m', '13h 20m', '20h 20m', '3h 15m', '2h 35m', '2h 35m', '4h 50m', '10h 0m', '2h 50m', '11h 45m', '2h 35m', '2h 40m', '22h 10m', '25h 15m', '8h 55m', '6h 25m', '3h 0m', '19h 25m', '28h 5m', '2h 50m', '2h 50m', '25h 5m', '21h 35m', '21h 35m', '13h 0m', '7h 15m', '15h 55m', '7h 35m', '13h 20m', '2h 50m', '7h 0m', '12h 30m', '10h 50m', '1h 30m', '2h 35m', '2h 45m', '5h 40m', '2h 55m', '12h 25m', '2h 20m', '1h 20m', '20h 15m', '11h 35m', '27h 45m', '26h 10m', '5h 5m', '2h 55m', '23h 35m', '24h 10m', '3h 0m', '7h 0m', '21h 35m', '10h 25m', '15h 55m', '28h 20m', '2h 50m', '7h 20m', '2h 25m', '2h 35m', '3h 5m', '1h 30m', '2h 20m', '8h 40m', '30h 0m', '3h 0m', '25h 40m', '2h 55m', '2h 55m', '20h 10m', '6h 25m', '2h 50m', '27h 45m', '2h 45m', '13h 25m', '3h 40m', '18h 20m', '2h 25m', '11h 25m', '21h 40m', '30h 30m', '11h 0m', '7h 30m', '22h 40m', '1h 30m', '2h 45m', '13h 15m', '13h 55m', '9h 30m', '30h 20m', '1h 15m', '34h 30m', '3h 5m', '13h 45m', '23h 0m', '1h 25m', '14h 55m', '16h 45m', '26h 50m', '13h 20m', '8h 0m', '8h 0m', '21h 20m', '18h 20m', '2h 40m', '9h 35m', '15h 10m', '9h 50m', '20h 25m', '23h 50m', '10h 35m', '13h 20m', '14h 15m', '14h 20m', '24h 35m', '3h 0m', '1h 20m', '8h 0m', '2h 55m', '5h 5m', '7h 20m', '6h 30m', '21h 45m', '13h 20m', '18h 25m', '22h 0m', '25h 30m', '17h 25m', '2h 20m', '1h 30m', '15h 30m', '14h 25m', '2h 55m', '14h 35m', '4h 55m', '7h 35m', '9h 50m', '14h 40m', '8h 30m', '2h 50m', '14h 35m', '2h 35m', '2h 55m', '9h 35m', '13h 0m', '25h 55m', '25h 35m', '2h 15m', '24h 30m', '1h 25m', '10h 0m', '2h 50m', '2h 50m', '1h 30m', '12h 0m', '1h 30m', '21h 20m', '1h 30m', '12h 35m', '16h 45m', '13h 0m', '28h 0m', '2h 50m', '17h 10m', '9h 30m', '10h 20m', '7h 55m', '14h 0m', '2h 20m', '14h 25m', '2h 35m', '23h 30m', '16h 40m', '2h 45m', '2h 50m', '26h 35m', '12h 15m', '10h 20m', '15h 25m', '9h 0m', '2h 50m', '11h 20m', '2h 55m', '7h 40m', '11h 0m', '2h 35m', '5h 50m', '3h 10m', '25h 35m', '6h 15m', '2h 15m', '14h 5m', '2h 55m', '8h 20m', '19h 55m', '21h 25m', '4h 55m', '3h 0m', '3h 0m', '2h 55m', '5h 15m', '23h 0m', '18h 20m', '2h 50m', '2h 55m', '9h 30m', '1h 25m', '7h 45m', '12h 55m', '2h 40m', '2h 35m', '2h 50m', '15h 20m', '2h 55m', '9h 0m', '20h 25m', '13h 0m', '2h 50m', '15h 55m', '12h 45m', '19h 25m', '6h 40m', '24h 10m', '10h 20m', '2h 55m', '11h 5m', '19h 30m', '8h 20m', '7h 5m', '24h 40m', '3h 40m', '23h 0m', '14h 5m', '7h 20m', '1h 25m', '7h 30m', '2h 20m', '16h 0m', '2h 35m', '12h 10m', '1h 30m', '3h 5m', '8h 5m', '2h 55m', '21h 20m', '11h 45m', '1h 30m', '3h 0m', '4h 40m', '15h 20m', '2h 40m', '21h 35m', '25h 25m', '2h 30m', '1h 25m', '8h 40m', '19h 55m', '17h 5m', '1h 30m', '14h 25m', '26h 10m', '2h 30m', '10h 15m', '6h 25m', '11h 15m', '2h 35m', '27h 45m', '7h 35m', '10h 40m', '1h 25m', '2h 55m', '1h 20m', '2h 50m', '2h 45m', '5h 15m', '8h 45m', '18h 45m', '14h 20m', '1h 30m', '2h 30m', '26h 35m', '9h 30m', '7h 30m', '20h 10m', '5h 30m', '12h 45m', '2h 20m', '8h 40m', '7h 5m', '14h 50m', '19h 40m', '1h 30m', '13h 55m', '3h 5m', '5h 20m', '2h 35m', '14h 25m', '5h 0m', '14h 5m', '9h 0m', '2h 20m', '2h 20m', '1h 30m', '2h 50m', '11h 5m', '11h 25m', '2h 40m', '11h 45m', '2h 20m', '9h 0m', '22h 30m', '10h 35m', '11h 45m', '2h 20m', '1h 20m', '7h 15m', '21h 35m', '9h 5m', '11h 15m', '23h 20m', '2h 35m', '13h 30m', '8h 10m', '7h 15m', '2h 50m', '19h 25m', '21h 25m', '12h 20m', '2h 25m', '28h 15m', '2h 50m', '2h 55m', '2h 25m', '20h 55m', '6h 0m', '8h 20m', '3h 0m', '9h 20m', '2h 40m', '4h 15m', '18h 35m', '8h 40m', '2h 55m', '24h 45m', '24h 45m', '2h 20m', '1h 30m', '2h 35m', '23h 0m', '15h 30m', '2h 15m', '3h 5m', '2h 50m', '20h 0m', '17h 5m', '12h 45m', '24h 10m', '1h 30m', '26h 50m', '12h 25m', '9h 30m', '6h 25m', '1h 30m', '16h 15m', '24h 45m', '6h 20m', '21h 40m', '5h 15m', '27h 0m', '19h 40m', '14h 35m', '3h 40m', '2h 50m', '7h 5m', '2h 55m', '10h 0m', '33h 15m', '7h 45m', '2h 45m', '1h 20m', '12h 45m', '4h 30m', '8h 40m', '1h 20m', '1h 25m', '17h 20m', '12h 10m', '13h 30m', '1h 30m', '22h 0m', '25h 0m', '2h 15m', '1h 30m', '23h 30m', '13h 50m', '13h 30m', '2h 35m', '11h 30m', '3h 0m', '2h 55m', '2h 45m', '9h 45m', '6h 40m', '10h 55m', '2h 15m', '27h 10m', '7h 15m', '8h 20m', '15h 40m', '13h 45m', '21h 25m', '1h 30m', '7h 0m', '6h 10m', '14h 55m', '1h 30m', '19h 30m', '2h 55m', '1h 30m', '2h 55m', '12h 40m', '19h 55m', '2h 35m', '21h 35m', '5h 30m', '25h 30m', '26h 20m', '9h 10m', '8h 10m', '2h 25m', '8h 10m', '2h 30m', '23h 30m', '10h 40m', '2h 55m', '9h 50m', '2h 15m', '28h 5m', '17h 50m', '16h 30m', '25h 45m', '22h 45m', '2h 50m', '11h 45m', '1h 30m', '16h 45m', '9h 5m', '5h 30m', '7h 15m', '17h 25m', '13h 30m', '6h 30m', '2h 50m', '2h 55m', '2h 50m', '2h 20m', '2h 30m', '12h 10m', '8h 30m', '2h 50m', '2h 45m', '3h 0m', '16h 0m', '2h 35m', '2h 25m', '23h 35m', '22h 55m', '2h 15m', '3h 15m', '6h 5m', '5h 5m', '2h 20m', '26h 35m', '1h 30m', '2h 45m', '2h 50m', '11h 25m', '18h 50m', '2h 35m', '14h 20m', '2h 45m', '12h 10m', '5h 0m', '11h 0m', '2h 20m', '3h 0m', '19h 40m', '9h 30m', '2h 30m', '2h 50m', '2h 20m', '2h 45m', '16h 55m', '4h 30m', '25h 20m', '22h 0m', '22h 45m', '9h 20m', '2h 55m', '2h 45m', '2h 40m', '2h 35m', '21h 10m', '8h 20m', '23h 30m', '16h 55m', '5h 30m', '2h 25m', '24h 55m', '2h 55m', '27h 5m', '11h 45m', '2h 50m', '21h 15m', '5h 20m', '5h 45m', '11h 15m', '12h 55m', '21h 15m', '9h 30m', '12h 30m', '6h 35m', '3h 0m', '14h 10m', '2h 35m', '2h 35m', '14h 40m', '7h 45m', '2h 50m', '13h 30m', '1h 25m', '25h 45m', '21h 35m', '11h 0m', '7h 30m', '3h 15m', '2h 35m', '5h 50m', '2h 20m', '22h 55m', '11h 40m', '2h 35m', '2h 25m', '24h 0m', '3h 0m', '10h 35m', '36h 10m', '2h 25m', '2h 35m', '11h 30m', '2h 55m', '2h 50m', '8h 55m', '5h 15m', '12h 15m', '26h 40m', '8h 55m', '1h 20m', '23h 5m', '2h 15m', '8h 40m', '2h 30m', '5h 5m', '16h 55m', '15h 15m', '18h 45m', '20h 55m', '10h 0m', '10h 15m', '5h 40m', '28h 20m', '6h 30m', '15h 55m', '10h 40m', '26h 35m', '25h 45m', '5h 55m', '19h 45m', '9h 15m', '2h 40m', '11h 5m', '10h 15m', '2h 30m', '7h 30m', '6h 10m', '8h 30m', '2h 45m', '2h 35m', '4h 55m', '9h 20m', '12h 45m', '24h 50m', '9h 20m', '2h 55m', '2h 30m', '17h 55m', '2h 50m', '2h 30m', '3h 0m', '16h 50m', '1h 30m', '6h 0m', '2h 45m', '14h 15m', '11h 5m', '2h 40m', '20h 10m', '24h 55m', '3h 0m', '9h 50m', '12h 30m', '2h 50m', '9h 35m', '12h 0m', '2h 15m', '2h 50m', '1h 25m', '2h 35m', '9h 50m', '14h 45m', '12h 10m', '23h 45m', '21h 35m', '17h 55m', '2h 40m', '2h 25m', '2h 50m', '5h 30m', '14h 10m', '14h 5m', '14h 5m', '2h 45m', '5h 25m', '3h 40m', '9h 30m', '8h 40m', '9h 10m', '15h 20m', '3h 15m', '9h 50m', '23h 20m', '21h 5m', '10h 30m', '6h 35m', '1h 30m', '5h 15m', '10h 25m', '5h 5m', '9h 0m', '2h 55m', '7h 15m', '15h 30m', '11h 0m', '23h 30m', '15h 0m', '3h 0m', '29h 35m', '4h 25m', '11h 0m', '2h 35m', '8h 20m', '2h 45m', '11h 0m', '1h 30m', '10h 30m', '2h 45m', '13h 30m', '2h 50m', '25h 20m', '22h 5m', '9h 5m', '25h 30m', '13h 30m', '2h 50m', '5h 5m', '6h 15m', '2h 45m', '2h 35m', '5h 20m', '17h 30m', '14h 30m', '6h 15m', '22h 5m', '1h 30m', '3h 0m', '3h 10m', '5h 45m', '9h 15m', '2h 20m', '14h 55m', '2h 50m', '10h 5m', '14h 50m', '7h 15m', '25h 55m', '27h 35m', '3h 15m', '25h 30m', '2h 35m', '2h 45m', '1h 20m', '11h 45m', '9h 0m', '12h 50m', '2h 55m', '6h 15m', '23h 10m', '14h 20m', '10h 15m', '27h 50m', '3h 5m', '2h 30m', '26h 35m', '11h 50m', '7h 20m', '1h 25m', '2h 50m', '2h 15m', '2h 55m', '3h 0m', '16h 50m', '24h 50m', '16h 5m', '2h 20m', '13h 20m', '7h 30m', '18h 20m', '2h 50m', '25h 35m', '1h 35m', '21h 25m', '38h 35m', '2h 55m', '27h 40m', '27h 35m', '11h 15m', '1h 25m', '12h 0m', '1h 30m', '1h 30m', '15h 50m', '37h 25m', '8h 25m', '26h 20m', '10h 25m', '10h 25m', '2h 15m', '8h 55m', '14h 45m', '7h 15m', '12h 35m', '3h 0m', '2h 35m', '2h 55m', '9h 30m', '7h 35m', '2h 25m', '7h 20m', '6h 25m', '26h 10m', '9h 15m', '8h 25m', '11h 0m', '3h 0m', '19h 25m', '5h 25m', '2h 50m', '2h 45m', '8h 20m', '2h 15m', '8h 0m', '2h 40m', '1h 30m', '12h 35m', '1h 15m', '10h 25m', '3h 0m', '23h 55m', '16h 5m', '5h 20m', '24h 35m', '4h 55m', '6h 10m', '1h 30m', '2h 20m', '5h 15m', '7h 5m', '12h 30m', '2h 45m', '6h 15m', '20h 0m', '3h 15m', '8h 0m', '7h 40m', '13h 30m', '22h 45m', '2h 35m', '22h 45m', '10h 15m', '13h 30m', '2h 30m', '5h 15m', '6h 35m', '16h 5m', '3h 0m', '9h 50m', '23h 0m', '2h 50m', '5h 20m', '11h 0m', '14h 50m', '23h 30m', '36h 10m', '20h 55m', '3h 15m', '3h 15m', '9h 20m', '5h 15m', '1h 30m', '7h 30m', '2h 35m', '14h 20m', '21h 20m', '10h 30m', '24h 45m', '3h 15m', '22h 15m', '27h 20m', '6h 0m', '2h 50m', '7h 50m', '5h 0m', '3h 15m', '2h 50m', '2h 40m', '21h 55m', '8h 40m', '1h 30m', '15h 30m', '8h 40m', '6h 20m', '5h 35m', '12h 30m', '2h 50m', '11h 35m', '3h 5m', '26h 30m', '9h 0m', '2h 45m', '13h 20m', '20h 15m', '8h 15m', '1h 25m', '10h 30m', '20h 0m', '22h 25m', '9h 0m', '1h 30m', '5h 20m', '17h 5m', '13h 30m', '13h 25m', '2h 15m', '11h 50m', '2h 30m', '8h 0m', '11h 20m', '13h 30m', '13h 55m', '20h 55m', '10h 40m', '27h 5m', '3h 0m', '18h 50m', '22h 55m', '11h 15m', '2h 40m', '20h 10m', '15h 10m', '25h 55m', '5h 0m', '29h 50m', '7h 35m', '2h 50m', '28h 20m', '21h 40m', '22h 45m', '24h 10m', '7h 5m', '12h 40m', '2h 25m', '2h 45m', '24h 35m', '19h 0m', '2h 40m', '3h 0m', '23h 55m', '11h 5m', '1h 30m', '2h 50m', '2h 40m', '5h 10m', '27h 5m', '14h 0m', '2h 55m', '4h 50m', '10h 0m', '5h 55m', '12h 45m', '15h 15m', '12h 25m', '10h 0m', '3h 0m', '2h 30m', '10h 20m', '27h 5m', '1h 30m', '16h 15m', '13h 50m', '2h 35m', '23h 0m', '3h 5m', '3h 0m', '3h 0m', '2h 30m', '1h 30m', '20h 0m', '2h 40m', '2h 20m', '2h 40m', '8h 30m', '2h 45m', '7h 15m', '2h 25m', '2h 20m', '7h 30m', '4h 25m', '2h 50m', '14h 0m', '2h 55m', '13h 50m', '2h 55m', '20h 25m', '23h 40m', '9h 0m', '7h 15m', '2h 55m', '17h 55m', '8h 15m', '9h 15m', '16h 5m', '2h 45m', '2h 50m', '11h 35m', '5h 20m', '1h 25m', '15h 0m', '2h 35m', '20h 10m', '2h 50m', '2h 35m', '2h 50m', '5h 20m', '38h 15m', '4h 25m', '15h 15m', '12h 45m', '25h 5m', '12h 30m', '9h 35m', '1h 30m', '9h 20m', '11h 50m', '6h 25m', '5h 15m', '7h 30m', '1h 30m', '11h 55m', '7h 20m', '22h 45m', '2h 45m', '11h 30m', '26h 20m', '42h 5m', '13h 20m', '4h 25m', '2h 30m', '13h 50m', '4h 50m', '7h 0m', '3h 15m', '20h 20m', '2h 45m', '2h 20m', '2h 50m', '2h 30m', '3h 5m', '24h 35m', '30h 40m', '13h 20m', '2h 35m', '2h 35m', '7h 50m', '26h 35m', '29h 35m', '5h 30m', '16h 5m', '11h 50m', '12h 30m', '15h 5m', '30h 20m', '2h 50m', '26h 20m', '27h 5m', '28h 0m', '21h 15m', '27h 40m', '26h 10m', '4h 50m', '2h 25m', '1h 25m', '4h 35m', '1h 30m', '4h 50m', '27h 35m', '5h 0m', '17h 20m', '10h 0m', '8h 0m', '3h 5m', '2h 35m', '7h 20m', '23h 30m', '26h 55m', '9h 30m', '23h 35m', '28h 50m', '13h 20m', '16h 5m', '13h 55m', '2h 50m', '6h 30m', '12h 55m', '2h 25m', '2h 55m', '2h 55m', '7h 5m', '2h 30m', '2h 40m', '7h 15m', '12h 0m', '2h 50m', '2h 25m', '2h 30m', '21h 5m', '13h 30m', '15h 20m', '2h 55m', '3h 0m', '15h 10m', '7h 35m', '2h 20m', '2h 20m', '13h 50m', '1h 30m', '15h 55m', '6h 0m', '2h 35m', '22h 25m', '7h 40m', '23h 5m', '2h 20m', '2h 30m', '2h 45m', '21h 35m', '2h 15m', '2h 40m', '6h 15m', '23h 5m', '9h 50m', '3h 0m', '11h 5m', '21h 40m', '10h 30m', '3h 5m', '5h 5m', '2h 25m', '6h 0m', '4h 5m', '38h 35m', '2h 15m', '11h 30m', '16h 35m', '14h 25m', '2h 55m', '3h 0m', '6h 20m', '16h 5m', '5h 45m', '2h 50m', '9h 0m', '12h 45m', '2h 55m', '15h 20m', '7h 15m', '10h 25m', '12h 30m', '2h 30m', '2h 30m', '19h 30m', '2h 50m', '22h 0m', '2h 50m', '29h 55m', '13h 5m', '37h 20m', '13h 15m', '3h 0m', '9h 30m', '30h 45m', '12h 10m', '14h 5m', '4h 40m', '8h 5m', '15h 10m', '5h 45m', '1h 30m', '13h 10m', '2h 30m', '8h 55m', '2h 55m', '2h 55m', '7h 5m', '1h 20m', '18h 0m', '28h 40m', '7h 35m', '10h 40m', '24h 50m', '2h 50m', '22h 10m', '11h 40m', '5h 15m', '11h 25m', '13h 30m', '9h 0m', '6h 35m', '2h 55m', '2h 30m', '12h 30m', '2h 40m', '2h 35m', '5h 45m', '22h 10m', '25h 20m', '2h 15m', '33h 15m', '22h 45m', '8h 0m', '7h 40m', '2h 35m', '13h 20m', '3h 5m', '25h 0m', '21h 35m', '26h 55m', '6h 0m', '9h 0m', '2h 50m', '15h 0m', '12h 25m', '2h 50m', '1h 30m', '14h 10m', '2h 45m', '8h 35m', '21h 15m', '1h 20m', '25h 30m', '25h 50m', '25h 40m', '6h 35m', '3h 0m', '2h 50m', '11h 5m', '2h 50m', '2h 25m', '17h 40m', '3h 0m', '3h 0m', '9h 35m', '5h 30m', '17h 55m', '16h 15m', '2h 50m', '9h 40m', '15h 55m', '1h 25m', '5h 20m', '13h 5m', '22h 55m', '2h 25m', '8h 30m', '23h 40m', '2h 45m', '2h 55m', '7h 30m', '13h 55m', '19h 25m', '15h 10m', '10h 10m', '11h 30m', '2h 50m', '6h 15m', '21h 55m', '11h 45m', '8h 0m', '11h 30m', '18h 20m', '2h 25m', '8h 55m', '2h 30m', '17h 40m', '11h 35m', '5h 15m', '1h 30m', '3h 0m', '9h 0m', '2h 45m', '25h 45m', '3h 0m', '10h 35m', '15h 0m', '2h 45m', '2h 15m', '16h 55m', '25h 45m', '14h 55m', '9h 5m', '14h 5m', '8h 0m', '4h 10m', '10h 30m', '16h 45m', '8h 30m', '3h 40m', '23h 50m', '2h 30m', '21h 50m', '10h 15m', '2h 25m', '6h 40m', '10h 15m', '25h 15m', '2h 50m', '11h 10m', '2h 50m', '13h 20m', '12h 45m', '10h 30m', '2h 40m', '7h 35m', '12h 0m', '26h 10m', '14h 45m', '23h 15m', '5h 30m', '2h 35m', '1h 35m', '10h 10m', '10h 50m', '3h 5m', '2h 20m', '11h 45m', '10h 10m', '11h 40m', '28h 15m', '9h 0m', '24h 45m', '19h 10m', '1h 30m', '26h 35m', '12h 15m', '7h 50m', '12h 45m', '2h 40m', '2h 50m', '2h 30m', '1h 20m', '24h 45m', '7h 30m', '9h 0m', '2h 50m', '8h 0m', '14h 40m', '17h 25m', '14h 45m', '2h 45m', '26h 55m', '12h 10m', '2h 50m', '12h 30m', '6h 30m', '14h 25m', '16h 55m', '3h 15m', '2h 30m', '14h 25m', '1h 30m', '25h 45m', '19h 30m', '22h 55m', '11h 5m', '20h 55m', '6h 35m', '21h 20m', '3h 55m', '2h 50m', '12h 45m', '2h 50m', '6h 35m', '2h 20m', '2h 55m', '2h 20m', '12h 0m', '14h 25m', '2h 15m', '13h 30m', '25h 45m', '2h 50m', '24h 50m', '12h 35m', '11h 50m', '26h 55m', '8h 50m', '19h 25m', '12h 15m', '7h 35m', '19h 30m', '5h 20m', '8h 20m', '2h 45m', '28h 50m', '13h 20m', '23h 45m', '19h 0m', '22h 30m', '2h 35m', '2h 15m', '5h 30m', '2h 35m', '39h 5m', '9h 0m', '12h 30m', '4h 25m', '8h 55m', '12h 0m', '9h 15m', '2h 35m', '16h 0m', '27h 40m', '6h 30m', '12h 10m', '5h 15m', '2h 50m', '12h 45m', '8h 5m', '26h 55m', '19h 25m', '6h 30m', '1h 25m', '11h 45m', '10h 40m', '16h 25m', '2h 50m', '13h 30m', '5h 40m', '3h 50m', '1h 30m', '10h 30m', '2h 45m', '2h 35m', '1h 30m', '12h 35m', '5h 45m', '3h 5m', '2h 55m', '5h 50m', '4h 45m', '2h 55m', '12h 15m', '8h 25m', '27h 35m', '2h 30m', '8h 40m', '2h 55m', '3h 0m', '17h 20m', '2h 35m', '4h 55m', '2h 50m', '16h 15m', '5h 45m', '7h 50m', '2h 50m', '27h 35m', '14h 25m', '27h 45m', '6h 25m', '15h 10m', '3h 35m', '12h 15m', '5h 5m', '4h 55m', '3h 5m', '3h 40m', '22h 15m', '10h 30m', '2h 35m', '12h 55m', '2h 35m', '2h 50m', '7h 45m', '28h 5m', '12h 25m', '2h 45m', '25h 5m', '2h 35m', '13h 0m', '20h 35m', '21h 35m', '9h 50m', '12h 45m', '24h 45m', '1h 30m', '13h 45m', '4h 20m', '22h 30m', '2h 55m', '1h 20m', '14h 25m', '7h 15m', '3h 0m', '3h 10m', '3h 5m', '17h 25m', '14h 45m', '6h 10m', '2h 30m', '2h 55m', '2h 55m', '18h 25m', '22h 30m', '8h 0m', '28h 5m', '13h 45m', '2h 55m', '2h 55m', '2h 20m', '8h 25m', '28h 40m', '24h 55m', '1h 30m', '11h 15m', '5h 5m', '1h 30m', '24h 35m', '26h 50m', '9h 20m', '1h 30m', '24h 45m', '10h 30m', '13h 30m', '5h 45m', '26h 25m', '6h 5m', '11h 30m', '16h 0m', '13h 20m', '22h 55m', '3h 10m', '13h 20m', '9h 50m', '1h 30m', '3h 50m', '7h 50m', '5h 55m', '1h 15m', '4h 55m', '9h 30m', '7h 30m', '2h 15m', '2h 30m', '17h 20m', '14h 0m', '2h 20m', '20h 25m', '1h 30m', '2h 45m', '23h 50m', '12h 5m', '2h 45m', '11h 30m', '9h 30m', '0h 5m', '2h 50m', '38h 35m', '5h 30m', '26h 30m', '2h 55m', '1h 30m', '4h 25m', '1h 25m', '1h 25m', '4h 0m', '2h 55m', '5h 5m', '2h 40m', '8h 25m', '2h 50m', '13h 0m', '9h 30m', '20h 25m', '2h 40m', '30h 0m', '14h 50m', '2h 40m', '2h 50m', '2h 35m', '24h 0m', '13h 20m', '9h 35m', '1h 25m', '9h 45m', '16h 45m', '2h 45m', '11h 0m', '8h 15m', '2h 20m', '4h 25m', '24h 35m', '3h 0m', '21h 40m', '1h 35m', '2h 40m', '16h 15m', '12h 55m', '2h 40m', '11h 45m', '2h 20m', '2h 45m', '2h 50m', '3h 15m', '3h 15m', '2h 45m', '17h 5m', '2h 40m', '3h 15m', '2h 50m', '11h 55m', '14h 10m', '2h 35m', '23h 35m', '11h 45m', '2h 55m', '1h 30m', '7h 5m', '2h 20m', '14h 0m', '1h 25m', '10h 40m', '9h 30m', '25h 45m', '12h 0m', '2h 50m', '2h 50m', '21h 20m', '13h 20m', '6h 35m', '3h 15m', '1h 30m', '5h 35m', '8h 0m', '2h 45m', '2h 55m', '9h 50m', '5h 45m', '25h 45m', '2h 50m', '22h 25m', '11h 55m', '7h 30m', '3h 5m', '2h 35m', '7h 30m', '7h 30m', '14h 5m', '14h 45m', '22h 15m', '6h 15m', '6h 30m', '2h 55m', '2h 30m', '1h 15m', '4h 5m', '8h 25m', '14h 50m', '17h 35m', '3h 0m', '2h 50m', '18h 45m', '2h 35m', '1h 25m', '27h 10m', '2h 35m', '5h 45m', '6h 25m', '9h 30m', '8h 50m', '5h 55m', '5h 5m', '6h 35m', '2h 35m', '2h 55m', '2h 50m', '11h 15m', '7h 55m', '9h 0m', '23h 20m', '13h 55m', '10h 25m', '6h 35m', '7h 20m', '10h 25m', '12h 25m', '14h 20m', '12h 5m', '3h 0m', '3h 0m', '17h 25m', '27h 10m', '8h 55m', '15h 0m', '2h 45m', '2h 50m', '11h 0m', '15h 40m', '4h 0m', '23h 45m', '14h 5m', '14h 25m', '2h 55m', '2h 35m', '11h 45m', '13h 30m', '2h 30m', '12h 30m', '5h 55m', '15h 55m', '2h 50m', '2h 35m', '3h 0m', '8h 40m', '3h 0m', '15h 40m', '7h 20m', '2h 50m', '2h 45m', '8h 25m', '4h 25m', '7h 40m', '20h 35m', '7h 0m', '25h 30m', '2h 40m', '13h 45m', '13h 0m', '3h 0m', '26h 10m', '13h 30m', '10h 15m', '14h 55m', '4h 50m', '14h 55m', '2h 55m', '13h 50m', '2h 15m', '2h 45m', '21h 15m', '16h 30m', '3h 0m', '14h 30m', '16h 0m', '10h 55m', '5h 0m', '1h 25m', '6h 30m', '16h 5m', '23h 10m', '27h 40m', '26h 55m', '25h 55m', '16h 5m', '2h 45m', '2h 55m', '13h 10m', '2h 55m', '13h 0m', '10h 40m', '9h 15m', '10h 30m', '23h 35m', '16h 50m', '13h 40m', '22h 0m', '17h 45m', '10h 20m', '1h 30m', '17h 5m', '21h 35m', '12h 10m', '13h 0m', '1h 20m', '8h 55m', '14h 10m', '2h 25m', '3h 0m', '7h 55m', '2h 20m', '16h 5m', '2h 25m', '9h 15m', '13h 10m', '2h 55m', '2h 35m', '3h 0m', '2h 45m', '4h 0m', '5h 0m', '1h 30m', '19h 5m', '2h 30m', '7h 20m', '4h 30m', '1h 30m', '10h 35m', '2h 15m', '1h 30m', '14h 35m', '3h 0m', '2h 20m', '10h 55m', '7h 55m', '27h 35m', '1h 30m', '12h 40m', '13h 50m', '1h 30m', '3h 15m', '6h 35m', '19h 55m', '2h 50m', '5h 45m', '2h 30m', '10h 20m', '8h 55m', '2h 50m', '2h 20m', '3h 0m', '6h 35m', '15h 0m', '4h 50m', '13h 50m', '26h 5m', '2h 50m', '14h 45m', '6h 55m', '26h 30m', '24h 30m', '10h 25m', '9h 35m', '2h 20m', '2h 50m', '2h 30m', '15h 30m', '16h 10m', '2h 20m', '17h 5m', '18h 45m', '5h 0m', '14h 20m', '8h 25m', '5h 10m', '12h 15m', '9h 15m', '9h 50m', '2h 35m', '20h 15m', '16h 50m', '17h 45m', '2h 45m', '1h 30m', '16h 20m', '2h 50m', '9h 50m', '15h 0m', '15h 10m', '8h 20m', '25h 35m', '2h 15m', '14h 0m', '2h 50m', '24h 55m', '14h 30m', '13h 0m', '1h 15m', '7h 35m', '27h 40m', '2h 50m', '7h 20m', '1h 30m', '2h 55m', '2h 30m', '26h 20m', '2h 40m', '3h 0m', '2h 35m', '25h 55m', '6h 30m', '12h 25m', '5h 15m', '21h 10m', '2h 45m', '3h 0m', '29h 5m', '2h 55m', '15h 30m', '7h 5m', '18h 45m', '2h 15m', '2h 40m', '7h 50m', '27h 40m', '24h 40m', '7h 15m', '12h 25m', '6h 15m', '8h 0m', '6h 10m', '21h 40m', '15h 20m', '9h 45m', '23h 50m', '13h 25m', '14h 5m', '13h 0m', '2h 35m', '3h 15m', '9h 30m', '32h 5m', '2h 30m', '2h 30m', '23h 0m', '15h 30m', '11h 35m', '23h 0m', '2h 35m', '1h 30m', '8h 35m', '2h 55m', '2h 45m', '17h 15m', '2h 50m', '3h 0m', '20h 20m', '15h 40m', '2h 50m', '1h 30m', '2h 15m', '32h 30m', '14h 10m', '9h 35m', '20h 10m', '7h 30m', '4h 5m', '11h 15m', '2h 45m', '2h 35m', '9h 20m', '2h 35m', '8h 10m', '2h 55m', '8h 20m', '2h 35m', '3h 0m', '4h 55m', '5h 0m', '8h 55m', '6h 25m', '5h 0m', '24h 5m', '3h 0m', '2h 30m', '20h 10m', '15h 30m', '1h 30m', '1h 20m', '1h 20m', '2h 35m', '1h 30m', '3h 5m', '2h 55m', '4h 25m', '2h 50m', '38h 0m', '12h 55m', '9h 20m', '11h 25m', '2h 55m', '6h 5m', '2h 35m', '2h 50m', '20h 45m', '7h 5m', '15h 0m', '14h 5m', '23h 15m', '14h 50m', '26h 35m', '9h 0m', '2h 45m', '18h 10m', '2h 15m', '13h 20m', '9h 20m', '26h 45m', '3h 5m', '2h 35m', '2h 30m', '9h 40m', '5h 15m', '2h 40m', '12h 45m', '2h 45m', '19h 55m', '11h 15m', '25h 20m', '2h 50m', '2h 55m', '2h 20m', '15h 10m', '26h 20m', '9h 5m', '2h 50m', '10h 25m', '6h 25m', '15h 5m', '13h 30m', '27h 35m', '4h 25m', '14h 30m', '23h 40m', '24h 0m', '13h 20m', '2h 45m', '1h 30m', '2h 50m', '25h 30m', '11h 50m', '28h 0m', '17h 15m', '10h 0m', '2h 20m', '2h 50m', '12h 45m', '12h 25m', '2h 35m', '8h 20m', '2h 25m', '15h 10m', '5h 30m', '13h 30m', '5h 20m', '10h 40m', '17h 5m', '9h 15m', '11h 25m', '2h 30m', '12h 30m', '28h 50m', '2h 55m', '9h 15m', '24h 55m', '3h 40m', '9h 30m', '11h 0m', '2h 45m', '25h 5m', '23h 35m', '1h 30m', '19h 5m', '3h 15m', '29h 35m', '22h 45m', '28h 20m', '2h 35m', '2h 20m', '2h 30m', '2h 35m', '2h 50m', '24h 0m', '2h 50m', '8h 40m', '2h 50m', '16h 0m', '18h 50m', '22h 0m', '32h 5m', '20h 55m', '4h 50m', '2h 50m', '12h 40m', '23h 50m', '14h 55m', '1h 20m', '17h 5m', '1h 25m', '26h 50m', '2h 35m', '3h 0m', '21h 15m', '35h 15m', '7h 30m', '2h 55m', '2h 50m', '7h 5m', '12h 15m', '2h 50m', '2h 20m', '1h 30m', '22h 30m', '8h 20m', '2h 20m', '6h 25m', '18h 25m', '15h 25m', '21h 20m', '9h 15m', '2h 20m', '6h 15m', '2h 35m', '10h 40m', '13h 55m', '1h 25m', '2h 45m', '2h 25m', '2h 45m', '3h 0m', '2h 30m', '26h 30m', '14h 20m', '13h 25m', '8h 45m', '5h 20m', '5h 5m', '2h 45m', '3h 15m', '26h 50m', '12h 45m', '1h 30m', '2h 35m', '2h 55m', '2h 30m', '9h 20m', '26h 10m', '1h 20m', '7h 15m', '2h 35m', '5h 10m', '6h 15m', '8h 5m', '9h 20m', '7h 30m', '7h 45m', '2h 50m', '5h 45m', '12h 10m', '6h 40m', '2h 50m', '27h 10m', '7h 15m', '5h 40m', '13h 45m', '21h 5m', '7h 5m', '3h 15m', '2h 50m', '19h 10m', '14h 0m', '24h 30m', '2h 35m', '15h 15m', '2h 20m', '2h 50m', '11h 55m', '19h 30m', '8h 55m', '12h 10m', '2h 45m', '24h 25m', '2h 50m', '19h 45m', '9h 15m', '1h 30m', '2h 50m', '2h 40m', '20h 10m', '9h 50m', '18h 45m', '2h 20m', '2h 45m', '5h 35m', '2h 35m', '7h 35m', '7h 20m', '5h 30m', '1h 25m', '2h 45m', '2h 25m', '5h 20m', '31h 55m', '7h 40m', '28h 20m', '7h 25m', '21h 15m', '16h 5m', '2h 40m', '9h 50m', '2h 45m', '21h 40m', '2h 55m', '11h 0m', '21h 25m', '2h 50m', '28h 40m', '14h 20m', '20h 15m', '12h 10m', '10h 25m', '13h 30m', '5h 10m', '9h 0m', '2h 55m', '11h 0m', '30h 20m', '2h 50m', '4h 40m', '27h 35m', '3h 10m', '2h 50m', '28h 20m', '23h 50m', '12h 45m', '22h 0m', '5h 20m', '2h 55m', '8h 55m', '2h 55m', '4h 45m', '8h 5m', '2h 50m', '9h 0m', '2h 50m', '23h 40m', '2h 20m', '2h 30m', '17h 30m', '11h 30m', '2h 40m', '16h 20m', '15h 20m', '1h 25m', '15h 25m', '2h 50m', '3h 0m', '16h 45m', '18h 10m', '11h 15m', '12h 0m', '11h 30m', '3h 0m', '3h 40m', '2h 35m', '21h 15m', '10h 50m', '3h 0m', '16h 15m', '17h 35m', '9h 35m', '9h 0m', '10h 20m', '2h 35m', '17h 15m', '2h 55m', '2h 15m', '19h 25m', '16h 15m', '5h 5m', '2h 35m', '16h 55m', '8h 40m', '21h 35m', '5h 55m', '13h 30m', '9h 30m', '19h 55m', '2h 45m', '23h 50m', '20h 35m', '37h 25m', '2h 30m', '2h 50m', '15h 45m', '14h 5m', '2h 30m', '8h 25m', '7h 5m', '11h 30m', '23h 15m', '5h 45m', '1h 30m', '5h 30m', '2h 35m', '5h 55m', '11h 5m', '11h 40m', '3h 15m', '3h 5m', '24h 0m', '17h 35m', '22h 55m', '2h 40m', '15h 0m', '1h 20m', '4h 40m', '8h 55m', '16h 5m', '24h 30m', '2h 20m', '8h 40m', '4h 55m', '12h 55m', '1h 30m', '12h 30m', '2h 35m', '17h 55m', '24h 35m', '7h 30m', '2h 55m', '21h 15m', '2h 30m', '3h 0m', '37h 20m', '23h 30m', '13h 15m', '2h 55m', '9h 50m', '2h 50m', '1h 30m', '1h 15m', '21h 35m', '2h 50m', '6h 40m', '13h 25m', '10h 15m', '15h 10m', '18h 20m', '2h 15m', '26h 35m', '26h 25m', '6h 15m', '2h 55m', '13h 20m', '2h 50m', '7h 30m', '1h 30m', '15h 25m', '1h 25m', '7h 30m', '22h 55m', '20h 10m', '3h 15m', '11h 45m', '2h 30m', '9h 10m', '2h 45m', '15h 45m', '18h 25m', '11h 25m', '27h 45m', '15h 25m', '1h 30m', '5h 15m', '7h 15m', '9h 15m', '16h 5m', '25h 40m', '23h 30m', '2h 50m', '9h 0m', '3h 0m', '16h 15m', '2h 50m', '29h 20m', '2h 25m', '2h 30m', '16h 5m', '23h 10m', '2h 45m', '6h 20m', '15h 30m', '12h 10m', '1h 30m', '10h 25m', '12h 40m', '8h 35m', '7h 20m', '23h 40m', '1h 25m', '15h 30m', '16h 50m', '2h 50m', '18h 0m', '7h 20m', '17h 55m', '2h 50m', '38h 15m', '16h 45m', '9h 50m', '6h 35m', '13h 45m', '27h 45m', '6h 20m', '5h 45m', '2h 55m', '5h 20m', '1h 30m', '12h 0m', '15h 10m', '5h 5m', '2h 50m', '7h 20m', '14h 25m', '2h 35m', '3h 0m', '2h 55m', '25h 50m', '16h 50m', '2h 35m', '38h 20m', '14h 0m', '16h 10m', '11h 15m', '13h 15m', '1h 30m', '2h 50m', '7h 30m', '9h 25m', '3h 0m', '5h 15m', '24h 25m', '3h 0m', '5h 30m', '8h 55m', '18h 30m', '22h 55m', '2h 15m', '2h 30m', '10h 25m', '18h 25m', '2h 50m', '8h 20m', '27h 0m', '3h 40m', '14h 25m', '2h 50m', '13h 0m', '2h 20m', '16h 40m', '2h 40m', '2h 35m', '1h 30m', '1h 30m', '2h 50m', '2h 35m', '26h 40m', '7h 30m', '2h 15m', '18h 45m', '20h 15m', '2h 40m', '2h 45m', '5h 25m', '12h 0m', '12h 0m', '5h 15m', '2h 55m', '9h 30m', '2h 30m', '19h 15m', '2h 55m', '5h 50m', '8h 15m', '3h 0m', '26h 55m', '2h 25m', '12h 55m', '14h 5m', '14h 25m', '2h 50m', '2h 55m', '10h 10m', '1h 15m', '23h 25m', '3h 5m', '2h 50m', '8h 40m', '11h 30m', '4h 50m', '29h 55m', '7h 5m', '18h 45m', '30h 20m', '8h 10m', '2h 35m', '2h 30m', '5h 10m', '11h 0m', '10h 15m', '28h 10m', '3h 40m', '2h 50m', '1h 20m', '2h 50m', '2h 30m', '12h 15m', '8h 35m', '1h 35m', '27h 0m', '12h 45m', '13h 30m', '1h 30m', '26h 55m', '5h 25m', '1h 25m', '28h 50m', '11h 45m', '4h 35m', '20h 0m', '14h 55m', '2h 35m', '2h 15m', '2h 50m', '28h 20m', '16h 0m', '23h 15m', '2h 40m', '5h 35m', '2h 20m', '30h 20m', '6h 0m', '16h 50m', '7h 0m', '5h 45m', '2h 50m', '33h 20m', '13h 30m', '21h 35m', '16h 50m', '12h 10m', '2h 40m', '16h 10m', '6h 25m', '19h 55m', '6h 30m', '14h 30m', '11h 50m', '10h 30m', '7h 35m', '23h 30m', '2h 50m', '27h 45m', '9h 30m', '7h 20m', '2h 35m', '3h 0m', '7h 30m', '2h 35m', '27h 0m', '12h 0m', '8h 0m', '26h 35m', '9h 15m', '8h 30m', '16h 50m', '28h 10m', '2h 55m', '2h 50m', '12h 30m', '15h 10m', '1h 30m', '8h 35m', '23h 50m', '16h 50m', '9h 30m', '27h 0m', '2h 20m', '9h 30m', '2h 50m', '2h 50m', '2h 55m', '4h 0m', '22h 5m', '3h 0m', '19h 30m', '21h 35m', '2h 45m', '21h 5m', '27h 10m', '2h 30m', '5h 45m', '2h 45m', '2h 50m', '19h 30m', '2h 55m', '3h 10m', '2h 45m', '11h 35m', '1h 25m', '2h 55m', '2h 55m', '11h 0m', '13h 55m', '2h 45m', '6h 35m', '16h 10m', '2h 20m', '22h 55m', '2h 15m', '1h 30m', '2h 50m', '27h 0m', '3h 40m', '23h 45m', '12h 45m', '7h 20m', '24h 55m', '25h 10m', '10h 0m', '5h 55m', '25h 20m', '10h 20m', '6h 40m', '3h 0m', '25h 30m', '23h 0m', '2h 25m', '12h 40m', '20h 45m', '26h 15m', '2h 25m', '7h 55m', '3h 0m', '2h 55m', '11h 45m', '2h 55m', '7h 50m', '1h 30m', '14h 0m', '2h 50m', '13h 15m', '26h 20m', '12h 0m', '37h 25m', '10h 40m', '9h 35m', '5h 30m', '25h 30m', '1h 30m', '2h 20m', '2h 35m', '7h 5m', '9h 15m', '2h 30m', '1h 30m', '1h 20m', '5h 45m', '8h 25m', '6h 0m', '3h 0m', '2h 20m', '2h 55m', '8h 25m', '2h 35m', '7h 5m', '9h 5m', '6h 20m', '2h 55m', '20h 10m', '2h 25m', '10h 15m', '26h 50m', '14h 20m', '10h 20m', '13h 0m', '5h 0m', '27h 30m', '8h 55m', '24h 0m', '26h 55m', '16h 5m', '18h 55m', '28h 15m', '24h 50m', '3h 10m', '7h 20m', '2h 55m', '2h 25m', '2h 30m', '23h 55m', '11h 5m', '6h 15m', '16h 5m', '1h 25m', '20h 25m', '7h 35m', '5h 10m', '23h 10m', '1h 30m', '12h 45m', '8h 40m', '36h 10m', '38h 35m', '21h 25m', '12h 15m', '12h 40m', '8h 0m', '10h 30m', '26h 20m', '13h 25m', '24h 0m', '9h 5m', '8h 55m', '2h 50m', '13h 20m', '24h 0m', '34h 5m', '15h 25m', '23h 15m', '25h 45m', '10h 25m', '10h 0m', '4h 35m', '2h 55m', '27h 35m', '2h 50m', '1h 30m', '3h 15m', '8h 55m', '6h 55m', '12h 10m', '6h 5m', '16h 25m', '5h 15m', '13h 30m', '13h 20m', '2h 55m', '23h 0m', '20h 0m', '25h 55m', '23h 0m', '7h 15m', '23h 20m', '26h 55m', '8h 10m', '12h 45m', '5h 0m', '2h 15m', '10h 15m', '8h 45m', '7h 15m', '5h 55m', '4h 30m', '2h 20m', '11h 20m', '9h 15m', '13h 30m', '3h 0m', '2h 50m', '2h 20m', '2h 50m', '2h 50m', '27h 20m', '5h 5m', '14h 0m', '12h 20m', '26h 40m', '9h 35m', '2h 35m', '1h 25m', '2h 35m', '23h 40m', '28h 5m', '2h 50m', '16h 5m', '3h 15m', '20h 10m', '12h 35m', '3h 0m', '11h 5m', '16h 5m', '22h 30m', '24h 30m', '15h 30m', '12h 15m', '14h 20m', '22h 0m', '22h 40m', '14h 10m', '15h 45m', '2h 20m', '3h 0m', '14h 35m', '24h 50m', '2h 50m', '5h 15m', '4h 50m', '13h 30m', '12h 0m', '2h 30m', '7h 15m', '10h 25m', '5h 15m', '11h 25m', '9h 0m', '25h 45m', '26h 15m', '8h 40m', '2h 50m', '3h 0m', '2h 30m', '2h 35m', '2h 35m', '2h 15m', '12h 25m', '13h 30m', '2h 40m', '7h 20m', '3h 0m', '5h 40m', '2h 25m', '3h 0m', '4h 0m', '2h 35m', '9h 15m', '2h 55m', '3h 0m', '4h 30m', '17h 35m', '13h 15m', '24h 55m', '7h 15m', '2h 30m', '22h 0m', '2h 50m', '11h 30m', '2h 55m', '12h 25m', '2h 20m', '14h 0m', '30h 30m', '21h 20m', '9h 25m', '19h 30m', '29h 20m', '7h 15m', '8h 15m', '2h 55m', '13h 25m', '1h 15m', '24h 15m', '10h 20m', '20h 55m', '5h 15m', '1h 30m', '2h 50m', '9h 0m', '13h 30m', '2h 45m', '14h 25m', '2h 50m', '21h 5m', '18h 45m', '2h 50m', '6h 55m', '6h 35m', '2h 50m', '5h 30m', '13h 20m', '9h 0m', '10h 15m', '13h 20m', '2h 45m', '2h 45m', '13h 45m', '9h 20m', '2h 20m', '2h 40m', '8h 55m', '2h 50m', '2h 15m', '2h 55m', '24h 30m', '23h 10m', '22h 55m', '9h 20m', '23h 10m', '3h 5m', '18h 0m', '10h 15m', '2h 35m', '25h 25m', '16h 15m', '2h 45m', '2h 55m', '27h 35m', '9h 55m', '2h 40m', '1h 30m', '18h 30m', '21h 25m', '1h 20m', '3h 5m', '2h 30m', '3h 0m', '2h 30m', '25h 35m', '13h 25m', '2h 15m', '2h 15m', '7h 55m', '2h 50m', '10h 0m', '1h 30m', '17h 45m', '2h 45m', '3h 0m', '5h 5m', '15h 0m', '11h 30m', '4h 50m', '11h 50m', '2h 20m', '2h 40m', '1h 25m', '2h 55m', '1h 30m', '3h 10m', '2h 20m', '2h 40m', '2h 45m', '1h 30m', '25h 55m', '2h 45m', '17h 5m', '17h 20m', '23h 0m', '19h 5m', '2h 55m', '8h 25m', '2h 35m', '26h 20m', '2h 25m', '9h 30m', '2h 35m', '24h 40m', '18h 25m', '8h 0m', '2h 20m', '2h 45m', '1h 30m', '2h 20m', '16h 0m', '16h 10m', '2h 55m', '4h 30m', '16h 15m', '5h 30m', '2h 20m', '21h 15m', '5h 0m', '24h 30m', '2h 55m', '11h 45m', '5h 55m', '26h 25m', '38h 0m', '13h 55m', '6h 15m', '17h 25m', '2h 20m', '14h 30m', '2h 20m', '1h 25m', '8h 10m', '7h 55m', '23h 10m', '6h 45m', '2h 50m', '2h 30m', '27h 20m', '2h 45m', '3h 0m', '27h 25m', '10h 15m', '6h 5m', '23h 40m', '9h 40m', '23h 40m', '5h 30m', '2h 45m', '9h 30m', '7h 50m', '22h 30m', '25h 35m', '6h 5m', '41h 20m', '26h 0m', '9h 0m', '22h 10m', '7h 50m', '2h 45m', '13h 30m', '6h 5m', '8h 40m', '11h 20m', '2h 45m', '8h 25m', '5h 30m', '13h 30m', '8h 40m', '7h 30m', '6h 15m', '30h 30m', '15h 55m', '26h 55m', '2h 30m', '14h 35m', '26h 50m', '2h 45m', '2h 50m', '1h 25m', '2h 20m', '16h 50m', '2h 50m', '3h 0m', '4h 40m', '2h 45m', '10h 50m', '4h 55m', '1h 25m', '16h 50m', '27h 0m', '6h 0m', '7h 30m', '11h 25m', '24h 50m', '24h 45m', '8h 5m', '9h 30m', '15h 55m', '13h 20m', '1h 30m', '18h 20m', '2h 20m', '2h 45m', '2h 15m', '5h 30m', '12h 20m', '5h 35m', '26h 0m', '2h 20m', '19h 30m', '2h 50m', '11h 0m', '13h 50m', '3h 15m', '3h 0m', '10h 30m', '2h 50m', '26h 50m', '26h 40m', '23h 45m', '4h 40m', '1h 25m', '5h 20m', '32h 30m', '5h 0m', '27h 5m', '7h 55m', '25h 45m', '5h 0m', '27h 35m', '4h 55m', '18h 20m', '14h 30m', '23h 15m', '2h 35m', '9h 30m', '23h 30m', '2h 20m', '10h 20m', '1h 30m', '8h 25m', '15h 25m', '6h 20m', '2h 55m', '3h 5m', '5h 30m', '5h 30m', '22h 45m', '12h 5m', '2h 30m', '16h 5m', '23h 45m', '4h 35m', '26h 0m', '7h 15m', '24h 0m', '16h 5m', '14h 5m', '23h 15m', '10h 0m', '3h 50m', '20h 10m', '2h 40m', '9h 25m', '2h 15m', '2h 45m', '27h 20m', '15h 10m', '2h 35m', '12h 40m', '25h 15m', '18h 20m', '20h 5m', '2h 40m', '5h 45m', '12h 20m', '26h 25m', '5h 45m', '3h 0m', '18h 50m', '27h 10m', '1h 20m', '15h 40m', '6h 30m', '12h 55m', '5h 45m', '6h 55m', '10h 30m', '20h 25m', '20h 10m', '9h 35m', '2h 35m', '1h 25m', '5h 30m', '16h 50m', '2h 45m', '26h 40m', '11h 0m', '13h 30m', '28h 5m', '11h 0m', '2h 50m', '9h 0m', '15h 15m', '2h 50m', '2h 50m', '5h 0m', '3h 0m', '1h 30m', '2h 45m', '5h 30m', '5h 10m', '33h 15m', '7h 35m', '12h 30m', '21h 50m', '18h 45m', '2h 45m', '24h 45m', '2h 50m', '2h 35m', '5h 5m', '2h 45m', '29h 5m', '14h 25m', '13h 15m', '2h 55m', '7h 45m', '16h 5m', '13h 55m', '11h 30m', '23h 55m', '1h 30m', '21h 35m', '19h 40m', '1h 30m', '10h 20m', '2h 20m', '1h 25m', '2h 50m', '4h 40m', '2h 20m', '24h 55m', '2h 40m', '10h 20m', '9h 30m', '26h 0m', '18h 45m', '1h 30m', '2h 15m', '14h 0m', '8h 45m', '23h 50m', '2h 50m', '19h 5m', '18h 45m', '15h 20m', '1h 30m', '10h 20m', '26h 0m', '2h 20m', '8h 0m', '10h 30m', '1h 25m', '2h 20m', '2h 50m', '9h 30m', '5h 15m', '14h 45m', '2h 45m', '10h 20m', '2h 50m', '9h 25m', '26h 35m', '38h 15m', '13h 25m', '7h 35m', '11h 15m', '1h 25m', '2h 50m', '8h 20m', '3h 5m', '23h 40m', '2h 20m', '22h 55m', '23h 40m', '5h 40m', '2h 30m', '20h 55m', '3h 5m', '13h 20m', '2h 20m', '1h 25m', '2h 35m', '3h 40m', '26h 55m', '7h 30m', '11h 0m', '27h 20m', '2h 50m', '38h 0m', '19h 25m', '13h 30m', '3h 0m', '27h 0m', '4h 55m', '6h 0m', '10h 25m', '12h 30m', '3h 0m', '8h 5m', '2h 20m', '13h 20m', '5h 25m', '19h 5m', '2h 45m', '14h 30m', '24h 5m', '1h 30m', '26h 55m', '2h 20m', '23h 40m', '8h 30m', '23h 30m', '8h 0m', '30h 20m', '2h 50m', '23h 30m', '22h 55m', '29h 55m', '5h 15m', '15h 20m', '6h 25m', '10h 40m', '2h 45m', '23h 40m', '16h 0m', '10h 0m', '4h 50m', '5h 5m', '20h 10m', '14h 55m', '30h 30m', '2h 30m', '2h 55m', '1h 25m', '2h 50m', '11h 5m', '5h 5m', '30h 30m', '2h 50m', '13h 25m', '3h 0m', '10h 15m', '20h 55m', '10h 45m', '8h 0m', '12h 10m', '21h 25m', '8h 25m', '9h 10m', '8h 10m', '4h 55m', '21h 15m', '3h 0m', '14h 20m', '2h 35m', '6h 35m', '9h 30m', '10h 20m', '1h 30m', '8h 10m', '2h 45m', '14h 5m', '16h 15m', '21h 20m', '5h 20m', '6h 20m', '6h 25m', '2h 30m', '13h 55m', '2h 35m', '8h 55m', '22h 30m', '13h 30m', '13h 30m', '2h 20m', '3h 5m', '5h 0m', '5h 0m', '10h 25m', '11h 55m', '14h 5m', '18h 45m', '30h 20m', '26h 40m', '6h 20m', '8h 40m', '24h 20m', '2h 55m', '6h 40m', '16h 20m', '2h 45m', '19h 55m', '6h 5m', '3h 0m', '2h 55m', '33h 15m', '2h 35m', '2h 35m', '3h 0m', '2h 30m', '15h 20m', '2h 30m', '18h 15m', '9h 20m', '2h 30m', '2h 20m', '7h 15m', '6h 25m', '27h 20m', '8h 55m', '26h 20m', '13h 30m', '7h 30m', '11h 50m', '4h 25m', '6h 35m', '22h 15m', '1h 30m', '1h 35m', '2h 20m', '14h 25m', '2h 30m', '22h 55m', '2h 20m', '9h 50m', '26h 10m', '18h 0m', '16h 5m', '2h 45m', '14h 55m', '5h 25m', '8h 40m', '2h 45m', '22h 25m', '13h 20m', '3h 15m', '2h 30m', '1h 25m', '6h 20m', '7h 35m', '23h 35m', '2h 20m', '19h 15m', '2h 55m', '9h 35m', '22h 55m', '3h 0m', '2h 30m', '1h 30m', '1h 30m', '30h 30m', '12h 30m', '25h 5m', '6h 0m', '21h 15m', '10h 30m', '2h 20m', '15h 10m', '2h 50m', '7h 5m', '5h 30m', '2h 40m', '7h 40m', '2h 45m', '2h 35m', '2h 35m', '2h 20m', '2h 35m', '1h 30m', '2h 25m', '13h 25m', '1h 30m', '6h 5m', '10h 50m', '18h 20m', '14h 35m', '2h 50m', '11h 5m', '2h 30m', '23h 50m', '26h 55m', '3h 0m', '7h 35m', '31h 50m', '3h 15m', '7h 15m', '15h 10m', '18h 45m', '18h 20m', '25h 55m', '1h 30m', '23h 30m', '5h 0m', '2h 45m', '7h 50m', '38h 20m', '3h 10m', '5h 10m', '8h 0m', '3h 5m', '7h 35m', '9h 50m', '20h 10m', '21h 35m', '2h 20m', '2h 55m', '2h 50m', '4h 40m', '12h 30m', '10h 40m', '22h 45m', '16h 45m', '2h 35m', '24h 55m', '5h 30m', '2h 35m', '26h 35m', '5h 0m', '21h 15m', '1h 30m', '9h 40m', '12h 25m', '2h 50m', '9h 45m', '5h 30m', '9h 50m', '4h 5m', '18h 45m', '2h 50m', '2h 35m', '2h 30m', '10h 5m', '16h 5m', '1h 30m', '5h 0m', '4h 55m', '2h 45m', '2h 45m', '14h 0m', '9h 15m', '12h 0m', '1h 30m', '2h 45m', '21h 25m', '42h 45m', '2h 55m', '2h 45m', '38h 20m', '1h 30m', '1h 30m', '2h 45m', '23h 40m', '2h 55m', '2h 40m', '12h 15m', '8h 15m', '2h 50m', '1h 25m', '11h 0m', '3h 15m', '9h 30m', '4h 55m', '6h 0m', '1h 30m', '10h 10m', '1h 30m', '6h 40m', '2h 35m', '16h 25m', '22h 45m', '7h 50m', '26h 20m', '2h 50m', '19h 30m', '3h 5m', '3h 15m', '2h 20m', '9h 10m', '2h 15m', '6h 0m', '9h 50m', '29h 50m', '6h 25m', '2h 20m', '6h 15m', '2h 40m', '6h 15m', '24h 35m', '5h 45m', '3h 15m', '14h 55m', '3h 40m', '8h 5m', '13h 25m', '1h 25m', '2h 50m', '15h 35m', '7h 20m', '13h 55m', '2h 30m', '2h 50m', '3h 15m', '2h 40m', '26h 15m', '2h 50m', '6h 15m', '3h 0m', '4h 40m', '1h 25m', '12h 0m', '13h 10m', '9h 0m', '6h 10m', '3h 25m', '1h 30m', '2h 30m', '3h 15m', '1h 30m', '10h 15m', '8h 45m', '2h 45m', '5h 0m', '2h 45m', '5h 55m', '3h 35m', '3h 0m', '17h 40m', '2h 50m', '9h 10m', '9h 45m', '2h 55m', '26h 55m', '11h 55m', '11h 30m', '20h 55m', '5h 5m', '19h 45m', '17h 55m', '26h 0m', '11h 45m', '12h 55m', '13h 20m', '13h 30m', '7h 35m', '3h 15m', '18h 25m', '24h 15m', '2h 50m', '2h 40m', '2h 20m', '1h 30m', '2h 50m', '1h 30m', '10h 20m', '12h 25m', '8h 40m', '5h 25m', '2h 55m', '20h 55m', '21h 25m', '1h 30m', '24h 40m', '2h 50m', '2h 15m', '23h 30m', '29h 20m', '5h 15m', '7h 5m', '7h 0m', '1h 30m', '7h 5m', '19h 25m', '29h 35m', '17h 5m', '12h 0m', '2h 45m', '8h 40m', '6h 5m', '13h 20m', '2h 25m', '9h 50m', '13h 40m', '18h 0m', '6h 30m', '8h 30m', '10h 40m', '9h 30m', '4h 30m', '2h 30m', '10h 25m', '2h 45m', '12h 35m', '27h 45m', '21h 45m', '29h 20m', '2h 30m', '15h 30m', '23h 0m', '16h 45m', '4h 40m', '7h 30m', '13h 30m', '10h 35m', '17h 5m', '27h 50m', '13h 25m', '13h 0m', '11h 0m', '15h 5m', '14h 55m', '23h 35m', '23h 35m', '13h 20m', '2h 25m', '2h 30m', '8h 20m', '1h 30m', '14h 10m', '2h 20m', '7h 15m', '5h 25m', '9h 0m', '14h 50m', '1h 25m', '3h 0m', '12h 55m', '2h 35m', '6h 15m', '26h 0m', '1h 30m', '14h 5m', '8h 0m', '12h 10m', '10h 30m', '3h 0m', '5h 15m', '38h 0m', '23h 30m', '27h 50m', '2h 45m', '6h 35m', '8h 0m', '16h 45m', '7h 50m', '10h 30m', '2h 50m', '4h 50m', '3h 0m', '26h 35m', '9h 50m', '2h 50m', '1h 30m', '6h 35m', '12h 10m', '9h 50m', '25h 20m', '37h 10m', '11h 40m', '1h 30m', '2h 35m', '7h 5m', '2h 35m', '19h 55m', '1h 25m', '11h 5m', '4h 40m', '13h 30m', '7h 35m', '1h 25m', '1h 30m', '13h 50m', '8h 35m', '3h 15m', '10h 25m', '2h 20m', '23h 30m', '11h 0m', '18h 0m', '2h 15m', '2h 15m', '12h 35m', '14h 20m', '2h 45m', '15h 40m', '2h 45m', '2h 30m', '2h 20m', '9h 15m', '18h 40m', '2h 50m', '25h 25m', '1h 20m', '2h 30m', '2h 50m', '3h 15m', '25h 45m', '2h 35m', '2h 35m', '8h 10m', '23h 40m', '11h 45m', '9h 20m', '14h 35m', '21h 35m', '6h 25m', '5h 35m', '25h 55m', '10h 15m', '1h 20m', '10h 20m', '2h 15m', '3h 0m', '23h 45m', '13h 15m', '3h 15m', '9h 50m', '18h 20m', '29h 20m', '7h 45m', '2h 25m', '7h 35m', '2h 20m', '3h 10m', '6h 25m', '16h 45m', '10h 25m', '13h 0m', '2h 55m', '2h 35m', '2h 50m', '13h 30m', '13h 15m', '13h 30m', '36h 10m', '2h 25m', '2h 25m', '2h 50m', '12h 10m', '8h 25m', '22h 15m', '3h 5m', '2h 35m', '22h 55m', '2h 15m', '26h 20m', '27h 40m', '16h 45m', '2h 50m', '12h 30m', '5h 15m', '2h 50m', '7h 30m', '11h 55m', '13h 5m', '7h 20m', '2h 20m', '18h 0m', '8h 40m', '2h 50m', '20h 10m', '8h 0m', '27h 20m', '2h 20m', '2h 20m', '38h 0m', '7h 35m', '5h 45m', '2h 50m', '2h 45m', '27h 35m', '3h 0m', '14h 25m', '9h 20m', '9h 50m', '2h 20m', '6h 30m', '7h 35m', '2h 55m', '2h 50m', '17h 55m', '1h 20m', '21h 25m', '1h 30m', '1h 30m', '5h 20m', '10h 0m', '12h 10m', '16h 45m', '2h 50m', '10h 40m', '27h 35m', '25h 50m', '16h 10m', '30h 30m', '20h 10m', '2h 50m', '30h 30m', '26h 55m', '3h 15m', '6h 40m', '3h 0m', '8h 0m', '27h 35m', '2h 50m', '25h 40m', '9h 35m', '2h 30m', '2h 20m', '10h 15m', '7h 5m', '1h 30m', '11h 30m', '2h 45m', '13h 15m', '14h 30m', '7h 5m', '12h 45m', '2h 50m', '2h 50m', '1h 30m', '25h 45m', '2h 30m', '27h 40m', '22h 35m', '2h 55m', '3h 5m', '2h 55m', '6h 30m', '14h 20m', '20h 0m', '7h 45m', '18h 45m', '6h 40m', '2h 55m', '14h 20m', '13h 0m', '2h 20m', '16h 55m', '5h 45m', '19h 20m', '3h 5m', '27h 45m', '2h 45m', '2h 20m', '12h 45m', '17h 45m', '3h 0m', '16h 35m', '26h 10m', '7h 35m', '13h 0m', '2h 40m', '3h 0m', '4h 40m', '23h 50m', '8h 10m', '29h 20m', '2h 45m', '2h 50m', '2h 35m', '19h 5m', '9h 30m', '8h 40m', '22h 5m', '26h 0m', '2h 35m', '7h 50m', '10h 45m', '10h 30m', '14h 5m', '13h 20m', '2h 50m', '1h 30m', '19h 40m', '2h 55m', '23h 20m', '2h 40m', '16h 15m', '1h 30m', '9h 15m', '20h 35m', '2h 15m', '2h 25m', '3h 5m', '2h 50m', '5h 40m', '18h 40m', '25h 0m', '13h 15m', '2h 30m', '8h 20m', '7h 0m', '25h 50m', '2h 55m', '9h 10m', '8h 40m', '2h 50m', '21h 45m', '6h 40m', '1h 30m', '7h 20m', '4h 0m', '14h 5m', '12h 15m', '30h 30m', '27h 0m', '16h 10m', '9h 0m', '5h 55m', '1h 25m', '3h 0m', '7h 5m', '2h 50m', '6h 5m', '2h 45m', '15h 20m', '23h 35m', '23h 50m', '13h 50m', '2h 35m', '4h 5m', '7h 40m', '2h 20m', '9h 35m', '9h 35m', '11h 25m', '12h 10m', '2h 55m', '1h 30m', '3h 10m', '12h 25m', '11h 45m', '11h 5m', '9h 45m', '17h 25m', '15h 0m', '6h 20m', '12h 45m', '1h 30m', '25h 45m', '21h 0m', '9h 20m', '22h 15m', '8h 15m', '12h 30m', '8h 30m', '11h 50m', '10h 30m', '12h 10m', '5h 0m', '2h 35m', '17h 25m', '5h 10m', '9h 30m', '10h 40m', '8h 40m', '9h 40m', '2h 15m', '11h 15m', '23h 30m', '8h 40m', '6h 20m', '23h 50m', '12h 55m', '5h 0m', '13h 15m', '2h 30m', '7h 0m', '6h 35m', '18h 10m', '21h 25m', '24h 55m', '2h 50m', '13h 15m', '22h 10m', '2h 45m', '14h 25m', '2h 20m', '2h 30m', '7h 30m', '5h 45m', '21h 25m', '1h 30m', '7h 15m', '12h 30m', '23h 15m', '12h 5m', '10h 55m', '25h 20m', '1h 30m', '2h 55m', '4h 0m', '20h 10m', '13h 0m', '2h 30m', '7h 5m', '19h 0m', '26h 55m', '12h 20m', '10h 50m', '9h 45m', '9h 35m', '18h 45m', '13h 0m', '2h 40m', '2h 30m', '2h 30m', '5h 55m', '8h 30m', '21h 0m', '2h 50m', '3h 15m', '14h 20m', '8h 40m', '21h 55m', '8h 40m', '2h 50m', '11h 45m', '7h 15m', '5h 0m', '6h 40m', '24h 0m', '5h 25m', '27h 0m', '7h 0m', '10h 5m', '3h 0m', '9h 10m', '15h 0m', '2h 35m', '5h 0m', '1h 20m', '1h 30m', '24h 40m', '2h 45m', '18h 45m', '2h 50m', '2h 40m', '12h 0m', '11h 5m', '26h 20m', '21h 25m', '5h 45m', '14h 0m', '1h 30m', '2h 50m', '22h 35m', '2h 55m', '17h 5m', '1h 30m', '14h 35m', '2h 35m', '12h 45m', '3h 0m', '12h 35m', '2h 20m', '17h 50m', '12h 20m', '14h 25m', '29h 20m', '2h 50m', '25h 50m', '22h 55m', '13h 0m', '22h 35m', '7h 20m', '2h 20m', '13h 20m', '8h 40m', '12h 25m', '2h 50m', '2h 45m', '2h 35m', '3h 15m', '30h 55m', '9h 30m', '13h 20m', '15h 20m', '23h 40m', '5h 45m', '8h 20m', '1h 25m', '2h 20m', '20h 55m', '3h 0m', '9h 20m', '1h 25m', '20h 5m', '22h 25m', '22h 30m', '9h 50m', '18h 10m', '2h 20m', '11h 45m', '11h 0m', '1h 25m', '26h 10m', '23h 40m', '15h 20m', '11h 0m', '2h 50m', '5h 25m', '19h 40m', '15h 10m', '1h 30m', '27h 5m', '32h 5m', '13h 30m', '26h 10m', '23h 40m', '6h 55m', '3h 0m', '2h 30m', '15h 25m', '2h 35m', '2h 50m', '6h 30m', '25h 40m', '2h 50m', '2h 35m', '8h 30m', '12h 15m', '7h 35m', '10h 30m', '2h 30m', '9h 30m', '8h 35m', '16h 15m', '3h 15m', '5h 15m', '2h 50m', '2h 50m', '16h 0m', '22h 55m', '6h 55m', '2h 35m', '2h 35m', '9h 15m', '26h 10m', '12h 0m', '21h 40m', '2h 45m', '12h 0m', '27h 20m', '23h 50m', '12h 30m', '9h 10m', '12h 20m', '1h 30m', '5h 30m', '28h 0m', '3h 0m', '1h 30m', '2h 45m', '5h 20m', '26h 30m', '26h 55m', '11h 5m', '2h 30m', '1h 30m', '7h 30m', '29h 5m', '17h 35m', '24h 55m', '29h 20m', '3h 0m', '2h 40m', '5h 25m', '23h 50m', '30h 40m', '2h 45m', '11h 50m', '2h 35m', '20h 25m', '27h 0m', '2h 40m', '1h 30m', '1h 30m', '2h 30m', '2h 35m', '2h 50m', '2h 20m', '2h 45m', '2h 25m', '5h 40m', '27h 40m', '2h 20m', '5h 0m', '2h 35m', '11h 30m', '26h 15m', '16h 45m', '18h 10m', '1h 30m', '13h 25m', '12h 0m', '2h 15m', '15h 10m', '6h 0m', '23h 15m', '7h 15m', '11h 30m', '12h 35m', '10h 0m', '3h 0m', '23h 50m', '2h 40m', '19h 0m', '1h 30m', '2h 50m', '2h 50m', '14h 40m', '2h 45m', '1h 30m', '30h 30m', '6h 0m', '29h 30m', '2h 30m', '15h 10m', '26h 50m', '28h 5m', '10h 10m', '7h 30m', '8h 40m', '34h 30m', '26h 55m', '2h 55m', '13h 15m', '1h 35m', '2h 45m', '2h 40m', '2h 35m', '27h 5m', '20h 35m', '3h 0m', '3h 15m', '4h 30m', '3h 5m', '11h 0m', '27h 5m', '6h 35m', '26h 10m', '23h 55m', '2h 30m', '13h 30m', '6h 30m', '2h 35m', '5h 30m', '12h 10m', '18h 20m', '22h 55m', '2h 45m', '11h 30m', '8h 20m', '4h 45m', '28h 0m', '2h 20m', '3h 0m', '9h 20m', '22h 10m', '2h 45m', '8h 25m', '15h 20m', '2h 45m', '5h 20m', '19h 30m', '3h 0m', '2h 35m', '13h 30m', '26h 0m', '2h 45m', '2h 30m', '25h 45m', '24h 10m', '15h 55m', '5h 40m', '26h 25m', '2h 20m', '9h 50m', '8h 0m', '29h 35m', '37h 25m', '7h 35m', '6h 35m', '9h 30m', '14h 15m', '7h 5m', '8h 0m', '1h 30m', '1h 25m', '13h 15m', '1h 25m', '2h 45m', '18h 10m', '25h 40m', '22h 0m', '5h 10m', '5h 15m', '2h 55m', '24h 0m', '6h 40m', '17h 40m', '26h 35m', '2h 35m', '17h 5m', '3h 15m', '3h 15m', '2h 35m', '12h 15m', '3h 35m', '11h 40m', '7h 5m', '1h 30m', '16h 5m', '13h 20m', '1h 25m', '24h 15m', '2h 55m', '19h 5m', '1h 30m', '26h 10m', '11h 45m', '27h 35m', '3h 0m', '1h 25m', '12h 45m', '24h 0m', '15h 55m', '28h 50m', '14h 0m', '2h 35m', '14h 35m', '2h 30m', '22h 30m', '3h 0m', '27h 0m', '27h 20m', '2h 40m', '11h 45m', '22h 25m', '2h 50m', '2h 40m', '2h 25m', '8h 25m', '3h 5m', '10h 40m', '20h 0m', '14h 50m', '21h 25m', '6h 0m', '4h 30m', '27h 10m', '2h 55m', '4h 50m', '2h 25m', '20h 0m', '2h 35m', '23h 10m', '10h 10m', '1h 30m', '10h 25m', '5h 35m', '9h 0m', '17h 45m', '11h 15m', '6h 15m', '13h 30m', '26h 35m', '9h 0m', '2h 40m', '7h 35m', '14h 45m', '6h 10m', '2h 45m', '7h 40m', '1h 30m', '14h 25m', '11h 30m', '3h 15m', '8h 30m', '2h 15m', '2h 45m', '4h 30m', '3h 40m', '14h 0m', '1h 30m', '9h 25m', '2h 15m', '2h 55m', '13h 20m', '2h 20m', '6h 40m', '11h 45m', '4h 55m', '8h 35m', '16h 5m', '5h 5m', '6h 5m', '6h 25m', '9h 50m', '1h 20m', '19h 25m', '9h 20m', '16h 45m', '8h 5m', '2h 50m', '17h 25m', '2h 15m', '19h 55m', '14h 20m', '6h 15m', '12h 0m', '5h 15m', '22h 55m', '3h 0m', '13h 15m', '26h 0m', '26h 0m', '15h 30m', '3h 0m', '2h 30m', '24h 0m', '20h 55m', '22h 0m', '2h 40m', '9h 35m', '3h 0m', '2h 45m', '8h 0m', '15h 0m', '37h 25m', '13h 20m', '11h 50m', '9h 45m', '2h 20m', '2h 50m', '2h 50m', '33h 15m', '17h 45m', '13h 50m', '4h 30m', '2h 50m', '13h 50m', '2h 25m', '2h 40m', '13h 55m', '9h 10m', '13h 25m', '14h 35m', '2h 55m', '18h 45m', '5h 55m', '26h 30m', '8h 40m', '12h 10m', '2h 40m', '23h 15m', '12h 25m', '3h 0m', '13h 55m', '14h 5m', '3h 0m', '3h 10m', '2h 50m', '4h 35m', '11h 55m', '5h 40m', '11h 45m', '6h 10m', '13h 50m', '11h 25m', '20h 20m', '3h 0m', '3h 10m', '23h 40m', '9h 35m', '13h 45m', '12h 45m', '6h 25m', '13h 50m', '2h 35m', '2h 20m', '2h 45m', '6h 35m', '1h 15m', '3h 0m', '13h 25m', '12h 35m', '24h 30m', '29h 20m', '1h 25m', '9h 30m', '2h 30m', '8h 30m', '2h 50m', '2h 20m', '10h 15m', '2h 30m', '7h 5m', '10h 15m', '3h 15m', '2h 50m', '10h 25m', '10h 30m', '10h 55m', '2h 50m', '11h 40m', '18h 45m', '6h 25m', '1h 30m', '2h 20m', '7h 5m', '4h 25m', '10h 30m', '5h 10m', '2h 50m', '22h 25m', '10h 0m', '38h 0m', '1h 30m', '26h 35m', '12h 10m', '9h 30m', '2h 55m', '24h 40m', '4h 35m', '16h 5m', '2h 15m', '10h 15m', '2h 45m', '8h 0m', '13h 55m', '12h 25m', '18h 25m', '17h 45m', '1h 20m', '2h 55m', '2h 50m', '15h 20m', '14h 5m', '1h 30m', '18h 25m', '2h 50m', '6h 0m', '2h 50m', '12h 25m', '2h 50m', '1h 20m', '1h 30m', '11h 35m', '9h 20m', '27h 5m', '2h 55m', '15h 10m', '23h 15m', '8h 10m', '2h 35m', '12h 10m', '9h 30m', '6h 35m', '7h 5m', '9h 50m', '32h 5m', '14h 55m', '29h 20m', '9h 20m', '25h 0m', '25h 25m', '7h 45m', '2h 30m', '2h 50m', '6h 25m', '28h 10m', '26h 40m', '6h 10m', '23h 15m', '6h 35m', '3h 10m', '15h 25m', '20h 10m', '2h 50m', '25h 35m', '1h 25m', '2h 40m', '11h 5m', '38h 15m', '2h 50m', '9h 50m', '8h 0m', '9h 30m', '5h 50m', '6h 0m', '2h 35m', '5h 0m', '8h 15m', '3h 0m', '9h 0m', '2h 15m', '7h 0m', '2h 35m', '7h 30m', '8h 40m', '13h 20m', '27h 0m', '27h 10m', '1h 30m', '9h 0m', '27h 10m', '3h 5m', '4h 0m', '5h 55m', '2h 15m', '22h 55m', '6h 40m', '5h 30m', '23h 0m', '15h 10m', '7h 30m', '14h 0m', '3h 0m', '18h 45m', '2h 50m', '18h 50m', '17h 5m', '21h 25m', '2h 55m', '12h 15m', '2h 35m', '14h 20m', '1h 30m', '3h 0m', '2h 50m', '2h 45m', '3h 40m', '6h 0m', '1h 30m', '25h 15m', '2h 55m', '4h 25m', '5h 0m', '7h 5m', '26h 55m', '9h 20m', '13h 0m', '6h 0m', '29h 20m', '2h 15m', '24h 45m', '26h 25m', '19h 15m', '22h 55m', '2h 50m', '15h 20m', '16h 0m', '14h 45m', '6h 25m', '22h 55m', '5h 0m', '1h 30m', '2h 15m', '2h 30m', '26h 55m', '5h 45m', '1h 30m', '5h 5m', '2h 50m', '15h 35m', '25h 0m', '2h 50m', '13h 20m', '28h 50m', '7h 20m', '2h 30m', '2h 20m', '9h 30m', '2h 20m', '9h 15m', '2h 40m', '1h 30m', '1h 25m', '13h 20m', '8h 55m', '11h 40m', '27h 0m', '13h 15m', '1h 30m', '12h 30m', '11h 40m', '6h 55m', '7h 50m', '2h 55m', '15h 50m', '14h 35m', '13h 30m', '8h 40m', '22h 45m', '1h 30m', '24h 45m', '15h 55m', '2h 50m', '7h 15m', '5h 50m', '15h 20m', '14h 25m', '21h 25m', '2h 20m', '8h 40m', '38h 15m', '3h 15m', '14h 40m', '4h 55m', '12h 25m', '22h 0m', '15h 40m', '13h 0m', '23h 5m', '2h 20m', '16h 50m', '3h 0m', '3h 0m', '2h 35m', '3h 0m', '2h 35m', '6h 5m', '9h 35m', '5h 30m', '16h 5m', '11h 15m', '2h 40m', '13h 45m', '7h 45m', '2h 50m', '22h 35m', '5h 15m', '1h 30m', '10h 30m', '5h 20m', '37h 20m', '15h 25m', '19h 45m', '14h 55m', '25h 30m', '3h 0m', '15h 20m', '24h 40m', '2h 15m', '21h 35m', '2h 45m', '11h 45m', '8h 20m', '11h 30m', '23h 40m', '15h 35m', '27h 20m', '15h 10m', '8h 40m', '8h 0m', '14h 5m', '2h 55m', '8h 20m', '7h 35m', '13h 20m', '3h 0m', '18h 35m', '21h 10m', '13h 30m', '12h 35m', '15h 45m', '18h 10m', '21h 45m', '22h 5m', '6h 20m', '22h 0m', '15h 30m', '24h 0m', '19h 25m', '4h 55m', '22h 30m', '16h 45m', '20h 25m', '26h 35m', '25h 15m', '2h 55m', '9h 0m', '5h 10m', '2h 55m', '7h 30m', '24h 45m', '2h 50m', '16h 20m', '14h 35m', '14h 20m', '2h 50m', '13h 30m', '2h 50m', '2h 35m', '2h 20m', '2h 35m', '3h 10m', '25h 0m', '14h 30m', '5h 5m', '26h 15m', '8h 10m', '1h 25m', '24h 50m', '28h 0m', '8h 25m', '7h 5m', '5h 0m', '2h 20m', '28h 20m', '14h 10m', '7h 45m', '14h 0m', '25h 0m', '11h 30m', '4h 35m', '2h 45m', '10h 15m', '15h 10m', '12h 10m', '21h 35m', '25h 50m', '6h 30m', '6h 35m', '9h 0m', '2h 55m', '3h 0m', '18h 45m', '6h 5m', '13h 0m', '9h 5m', '2h 20m', '2h 30m', '5h 10m', '7h 5m', '1h 15m', '2h 50m', '7h 5m', '14h 30m', '18h 25m', '13h 30m', '30h 20m', '29h 35m', '6h 35m', '26h 40m', '6h 5m', '14h 5m', '2h 30m', '7h 30m', '16h 5m', '2h 55m', '27h 20m', '20h 15m', '10h 35m', '6h 20m', '4h 0m', '2h 45m', '2h 20m', '2h 55m', '9h 30m', '6h 20m', '2h 55m', '8h 35m', '3h 0m', '13h 50m', '21h 0m', '24h 25m', '23h 0m', '27h 20m', '5h 25m', '2h 25m', '16h 5m', '11h 30m', '24h 10m', '17h 55m', '5h 45m', '2h 55m', '25h 5m', '8h 15m', '2h 20m', '39h 5m', '5h 0m', '2h 50m', '2h 50m', '24h 10m', '2h 50m', '12h 0m', '2h 45m', '23h 30m', '15h 0m', '2h 35m', '21h 50m', '2h 55m', '2h 15m', '22h 15m', '4h 30m', '2h 15m', '21h 35m', '16h 5m', '14h 50m', '16h 55m', '7h 15m', '19h 30m', '2h 30m', '7h 0m', '9h 45m', '23h 45m', '8h 40m', '14h 25m', '7h 15m', '13h 50m', '6h 25m', '3h 0m', '10h 30m', '14h 40m', '2h 45m', '14h 25m', '14h 35m', '9h 10m', '21h 15m', '18h 10m', '2h 35m', '13h 25m', '26h 35m', '8h 20m', '1h 30m', '11h 30m', '3h 15m', '12h 0m', '1h 30m', '11h 5m', '1h 25m', '7h 15m', '2h 50m', '24h 0m', '25h 35m', '1h 35m', '2h 55m', '18h 45m', '6h 50m', '2h 45m', '9h 20m', '12h 30m', '5h 15m', '3h 0m', '15h 20m', '24h 30m', '2h 25m', '13h 20m', '13h 50m', '7h 35m', '13h 20m', '8h 20m', '8h 55m', '23h 50m', '9h 5m', '26h 30m', '1h 30m', '10h 10m', '2h 25m', '22h 35m', '1h 30m', '7h 50m', '2h 30m', '3h 10m', '1h 15m', '1h 30m', '2h 20m', '2h 25m', '25h 45m', '26h 20m', '28h 0m', '2h 55m', '1h 20m', '25h 25m', '27h 5m', '2h 35m', '2h 50m', '5h 30m', '3h 10m', '5h 45m', '9h 45m', '9h 50m', '22h 5m', '8h 25m', '26h 30m', '13h 45m', '7h 45m', '1h 30m', '11h 0m', '7h 50m', '33h 15m', '14h 55m', '6h 0m', '19h 10m', '25h 45m', '9h 35m', '21h 20m', '26h 20m', '24h 35m', '3h 0m', '5h 30m', '2h 25m', '2h 45m', '2h 55m', '21h 15m', '23h 40m', '32h 20m', '16h 5m', '9h 35m', '13h 50m', '10h 25m', '3h 0m', '10h 30m', '9h 50m', '2h 25m', '2h 20m', '12h 45m', '26h 50m', '4h 55m', '10h 30m', '18h 20m', '8h 25m', '7h 15m', '7h 15m', '2h 15m', '10h 45m', '1h 30m', '10h 25m', '11h 45m', '2h 50m', '2h 50m', '13h 30m', '11h 55m', '5h 20m', '13h 15m', '2h 55m', '10h 45m', '2h 35m', '9h 0m', '9h 35m', '2h 50m', '4h 30m', '2h 20m', '2h 20m', '11h 40m', '3h 40m', '2h 20m', '12h 15m', '9h 5m', '23h 15m', '13h 30m', '38h 15m', '1h 30m', '24h 45m', '1h 25m', '18h 20m', '8h 40m', '6h 45m', '5h 30m', '14h 5m', '26h 55m', '1h 30m', '2h 35m', '2h 50m', '28h 5m', '27h 0m', '2h 50m', '9h 45m', '12h 10m', '5h 0m', '2h 15m', '21h 10m', '17h 35m', '1h 25m', '22h 15m', '2h 35m', '14h 55m', '9h 50m', '2h 20m', '1h 30m', '15h 55m', '11h 55m', '7h 15m', '2h 35m', '17h 5m', '7h 5m', '12h 35m', '26h 35m', '1h 30m', '20h 25m', '3h 5m', '19h 40m', '22h 55m', '7h 20m', '14h 30m', '2h 50m', '2h 50m', '5h 0m', '13h 30m', '2h 50m', '20h 35m', '13h 20m', '11h 15m', '22h 40m', '2h 50m', '2h 35m', '9h 50m', '2h 20m', '10h 30m', '8h 55m', '6h 15m', '2h 35m', '2h 20m', '13h 25m', '10h 30m', '2h 50m', '11h 5m', '13h 45m', '25h 40m', '8h 20m', '14h 35m', '2h 55m', '5h 5m', '8h 55m', '2h 50m', '1h 35m', '2h 40m', '2h 20m', '29h 5m', '5h 30m', '17h 25m', '12h 0m', '6h 30m', '2h 45m', '2h 55m', '26h 50m', '24h 40m', '27h 5m', '4h 55m', '20h 50m', '2h 15m', '14h 20m', '2h 40m', '22h 55m', '6h 15m', '3h 15m', '2h 55m', '6h 40m', '11h 0m', '4h 35m', '2h 45m', '28h 0m', '31h 40m', '27h 20m', '2h 45m', '8h 45m', '14h 55m', '2h 15m', '16h 25m', '11h 5m', '5h 0m', '11h 5m', '5h 45m', '14h 45m', '2h 30m', '1h 30m', '1h 30m', '28h 15m', '23h 20m', '7h 35m', '21h 25m', '10h 45m', '2h 35m', '12h 15m', '2h 50m', '25h 50m', '23h 0m', '26h 0m', '10h 55m', '5h 45m', '7h 15m', '12h 15m', '15h 20m', '2h 35m', '11h 55m', '7h 5m', '14h 55m', '10h 50m', '27h 35m', '11h 50m', '5h 30m', '8h 35m', '11h 0m', '2h 50m', '4h 45m', '9h 15m', '13h 25m', '6h 30m', '1h 25m', '7h 45m', '18h 20m', '10h 0m', '20h 10m', '8h 10m', '11h 40m', '10h 50m', '12h 10m', '9h 20m', '2h 45m', '8h 0m', '9h 5m', '2h 30m', '1h 30m', '5h 30m', '23h 5m', '1h 25m', '16h 5m', '3h 0m', '13h 25m', '1h 30m', '13h 20m', '3h 0m', '21h 25m', '5h 10m', '22h 0m', '2h 30m', '24h 40m', '9h 0m', '1h 30m', '2h 50m', '24h 45m', '30h 40m', '12h 5m', '3h 5m', '16h 55m', '2h 50m', '2h 50m', '25h 35m', '22h 0m', '9h 55m', '20h 20m', '28h 20m', '7h 15m', '2h 20m', '22h 25m', '16h 45m', '6h 55m', '5h 10m', '2h 35m', '9h 50m', '27h 10m', '2h 55m', '1h 20m', '3h 0m', '4h 30m', '16h 5m', '10h 15m', '14h 25m', '12h 45m', '4h 40m', '2h 30m', '25h 40m', '28h 50m', '2h 20m', '10h 35m', '12h 15m', '2h 45m', '5h 0m', '2h 45m', '26h 55m', '9h 35m', '17h 25m', '10h 25m', '17h 25m', '2h 45m', '7h 55m', '24h 50m', '13h 55m', '10h 30m', '10h 15m', '13h 20m', '8h 40m', '9h 25m', '3h 10m', '3h 15m', '7h 30m', '3h 0m', '2h 45m', '7h 35m', '2h 30m', '21h 40m', '2h 50m', '26h 10m', '16h 10m', '3h 5m', '1h 30m', '21h 15m', '26h 55m', '26h 20m', '23h 0m', '2h 35m', '22h 45m', '24h 55m', '2h 15m', '8h 5m', '10h 0m', '3h 0m', '23h 10m', '5h 35m', '23h 15m', '1h 30m', '15h 20m', '9h 30m', '8h 25m', '10h 10m', '1h 25m', '27h 5m', '22h 35m', '14h 25m', '4h 55m', '24h 0m', '30h 20m', '23h 10m', '1h 30m', '6h 35m', '12h 0m', '2h 30m', '12h 25m', '1h 15m', '13h 30m', '2h 30m', '13h 10m', '21h 35m', '2h 30m', '5h 45m', '11h 15m', '2h 15m', '9h 30m', '2h 25m', '24h 0m', '1h 20m', '2h 15m', '21h 5m', '2h 50m', '7h 30m', '5h 15m', '8h 30m', '4h 55m', '1h 30m', '3h 0m', '2h 50m', '8h 30m', '23h 15m', '14h 25m', '2h 50m', '19h 0m', '2h 55m', '40h 20m', '2h 35m', '2h 45m', '10h 40m', '9h 20m', '8h 40m', '9h 0m', '31h 55m', '6h 35m', '3h 0m', '2h 45m', '5h 55m', '10h 25m', '13h 20m', '14h 25m', '8h 30m', '2h 20m', '13h 0m', '22h 15m', '2h 50m', '2h 35m', '23h 45m', '23h 40m', '1h 30m', '28h 20m', '13h 35m', '2h 50m', '21h 0m', '12h 35m', '1h 20m', '1h 30m', '14h 0m', '2h 20m', '9h 25m', '26h 0m', '7h 55m', '6h 5m', '15h 10m', '4h 40m', '2h 50m', '14h 30m', '1h 30m', '8h 50m', '2h 35m', '12h 25m', '27h 20m', '2h 35m', '1h 25m', '2h 45m', '27h 0m', '2h 50m', '26h 30m', '16h 45m', '13h 0m', '2h 55m', '14h 25m', '11h 5m', '22h 5m', '1h 15m', '7h 35m', '2h 35m', '7h 5m', '1h 30m', '19h 25m', '2h 35m', '6h 55m', '29h 20m', '2h 45m', '16h 55m', '9h 50m', '18h 45m', '28h 20m', '3h 15m', '16h 25m', '2h 55m', '3h 0m', '11h 45m', '6h 15m', '25h 55m', '2h 15m', '26h 35m', '2h 55m', '23h 45m', '25h 45m', '10h 0m', '12h 35m', '2h 50m', '3h 0m', '9h 45m', '3h 5m', '2h 35m', '2h 55m', '2h 20m', '5h 25m', '26h 35m', '6h 5m', '9h 5m', '2h 50m', '15h 20m', '2h 30m', '3h 0m', '11h 30m', '24h 10m', '2h 35m', '3h 0m', '2h 30m', '2h 55m', '1h 30m', '13h 55m', '4h 5m', '9h 50m', '7h 15m', '7h 15m', '14h 20m', '2h 55m', '20h 35m', '3h 0m', '7h 20m', '7h 55m', '30h 20m', '2h 25m', '4h 55m', '19h 5m', '27h 40m', '14h 25m', '27h 40m', '24h 35m', '26h 55m', '9h 5m', '3h 15m', '47h 40m', '11h 45m', '7h 45m', '1h 20m', '1h 30m', '2h 45m', '1h 25m', '1h 25m', '6h 45m', '2h 50m', '13h 25m', '2h 50m', '2h 55m', '2h 15m', '2h 30m', '5h 20m', '2h 55m', '23h 10m', '13h 50m', '24h 45m', '13h 25m', '2h 50m', '23h 40m', '20h 10m', '2h 45m', '5h 10m', '16h 15m', '22h 45m', '21h 25m', '2h 20m', '10h 15m', '8h 25m', '2h 50m', '2h 25m', '3h 10m', '11h 0m', '7h 40m', '1h 25m', '3h 15m', '13h 20m', '3h 0m', '17h 5m', '16h 50m', '2h 45m', '18h 10m', '8h 35m', '1h 30m', '2h 45m', '14h 30m', '14h 0m', '23h 30m', '8h 30m', '15h 30m', '3h 15m', '2h 55m', '26h 40m', '3h 0m', '1h 20m', '8h 20m', '2h 45m', '2h 45m', '2h 50m', '19h 55m', '2h 35m', '22h 5m', '2h 35m', '10h 20m', '1h 35m', '7h 20m', '13h 0m', '18h 45m', '8h 20m', '11h 15m', '3h 0m', '4h 0m', '1h 25m', '2h 35m', '2h 40m', '2h 25m', '12h 15m', '10h 30m', '6h 15m', '15h 10m', '12h 45m', '24h 30m', '1h 25m', '5h 40m', '2h 45m', '7h 35m', '2h 45m', '25h 45m', '13h 30m', '26h 35m', '5h 30m', '2h 30m', '24h 50m', '9h 35m', '13h 25m', '13h 30m', '30h 40m', '20h 50m', '2h 55m', '13h 30m', '22h 15m', '19h 15m', '18h 55m', '25h 55m', '21h 5m', '2h 50m', '28h 15m', '27h 20m', '5h 45m', '2h 20m', '2h 20m', '20h 55m', '20h 0m', '8h 40m', '26h 35m', '4h 25m', '20h 20m', '1h 30m', '20h 55m', '12h 15m', '9h 15m', '19h 25m', '10h 15m', '6h 40m', '10h 15m', '24h 45m', '7h 15m', '2h 55m', '6h 20m', '1h 35m', '22h 55m', '2h 45m', '23h 0m', '17h 5m', '4h 30m', '13h 30m', '9h 30m', '26h 35m', '2h 55m', '24h 45m', '26h 40m', '8h 10m', '10h 40m', '26h 40m', '5h 25m', '2h 50m', '2h 55m', '11h 25m', '16h 25m', '22h 10m', '1h 30m', '2h 20m', '1h 25m', '13h 20m', '3h 5m', '15h 15m', '2h 55m', '26h 55m', '1h 30m', '2h 35m', '5h 45m', '2h 35m', '2h 35m', '16h 10m', '19h 55m', '26h 20m', '7h 20m', '2h 55m', '22h 15m', '5h 30m', '9h 5m', '26h 45m', '5h 45m', '17h 55m', '7h 15m', '26h 55m', '13h 45m', '5h 30m', '3h 5m', '14h 0m', '38h 0m', '24h 35m', '2h 20m', '26h 50m', '6h 30m', '8h 25m', '8h 25m', '13h 30m', '3h 15m', '26h 20m', '2h 40m', '8h 25m', '7h 40m', '25h 35m', '21h 55m', '2h 40m', '1h 25m', '2h 40m', '13h 20m', '2h 55m', '2h 50m', '2h 55m', '6h 15m', '20h 10m', '17h 5m', '2h 55m', '2h 30m', '24h 45m', '21h 25m', '7h 20m', '11h 15m', '17h 25m', '1h 20m', '19h 55m', '15h 0m', '24h 45m', '1h 20m', '8h 40m', '2h 40m', '2h 30m', '2h 35m', '3h 0m', '2h 40m', '8h 20m']\n"
          ],
          "name": "stdout"
        }
      ]
    },
    {
      "cell_type": "code",
      "metadata": {
        "id": "ss0lfZObk-X_"
      },
      "source": [
        "train_data[\"Duration_hours\"]=duration_hours\r\n",
        "train_data[\"Duration_minutes\"]=duration_minutes"
      ],
      "execution_count": 23,
      "outputs": []
    },
    {
      "cell_type": "code",
      "metadata": {
        "colab": {
          "base_uri": "https://localhost:8080/",
          "height": 602
        },
        "id": "gN-Bd6Sen5vr",
        "outputId": "03b1e7bc-1244-44ef-f915-2729d316210a"
      },
      "source": [
        "train_data.head()"
      ],
      "execution_count": 24,
      "outputs": [
        {
          "output_type": "execute_result",
          "data": {
            "text/html": [
              "<div>\n",
              "<style scoped>\n",
              "    .dataframe tbody tr th:only-of-type {\n",
              "        vertical-align: middle;\n",
              "    }\n",
              "\n",
              "    .dataframe tbody tr th {\n",
              "        vertical-align: top;\n",
              "    }\n",
              "\n",
              "    .dataframe thead th {\n",
              "        text-align: right;\n",
              "    }\n",
              "</style>\n",
              "<table border=\"1\" class=\"dataframe\">\n",
              "  <thead>\n",
              "    <tr style=\"text-align: right;\">\n",
              "      <th></th>\n",
              "      <th>Airline</th>\n",
              "      <th>Source</th>\n",
              "      <th>Destination</th>\n",
              "      <th>Route</th>\n",
              "      <th>Duration</th>\n",
              "      <th>Total_Stops</th>\n",
              "      <th>Additional_Info</th>\n",
              "      <th>Price</th>\n",
              "      <th>Journey-Date</th>\n",
              "      <th>Journey-Month</th>\n",
              "      <th>Dep_hour</th>\n",
              "      <th>Dep_min</th>\n",
              "      <th>Arrival_hour</th>\n",
              "      <th>Arrival_minute</th>\n",
              "      <th>Duration_hours</th>\n",
              "      <th>Duration_minutes</th>\n",
              "    </tr>\n",
              "  </thead>\n",
              "  <tbody>\n",
              "    <tr>\n",
              "      <th>0</th>\n",
              "      <td>IndiGo</td>\n",
              "      <td>Banglore</td>\n",
              "      <td>New Delhi</td>\n",
              "      <td>BLR → DEL</td>\n",
              "      <td>2h 50m</td>\n",
              "      <td>non-stop</td>\n",
              "      <td>No info</td>\n",
              "      <td>3897</td>\n",
              "      <td>24</td>\n",
              "      <td>3</td>\n",
              "      <td>22</td>\n",
              "      <td>20</td>\n",
              "      <td>1</td>\n",
              "      <td>10</td>\n",
              "      <td>2</td>\n",
              "      <td>50</td>\n",
              "    </tr>\n",
              "    <tr>\n",
              "      <th>1</th>\n",
              "      <td>Air India</td>\n",
              "      <td>Kolkata</td>\n",
              "      <td>Banglore</td>\n",
              "      <td>CCU → IXR → BBI → BLR</td>\n",
              "      <td>7h 25m</td>\n",
              "      <td>2 stops</td>\n",
              "      <td>No info</td>\n",
              "      <td>7662</td>\n",
              "      <td>1</td>\n",
              "      <td>5</td>\n",
              "      <td>5</td>\n",
              "      <td>50</td>\n",
              "      <td>13</td>\n",
              "      <td>15</td>\n",
              "      <td>7</td>\n",
              "      <td>25</td>\n",
              "    </tr>\n",
              "    <tr>\n",
              "      <th>2</th>\n",
              "      <td>Jet Airways</td>\n",
              "      <td>Delhi</td>\n",
              "      <td>Cochin</td>\n",
              "      <td>DEL → LKO → BOM → COK</td>\n",
              "      <td>19h</td>\n",
              "      <td>2 stops</td>\n",
              "      <td>No info</td>\n",
              "      <td>13882</td>\n",
              "      <td>9</td>\n",
              "      <td>6</td>\n",
              "      <td>9</td>\n",
              "      <td>25</td>\n",
              "      <td>4</td>\n",
              "      <td>25</td>\n",
              "      <td>19</td>\n",
              "      <td>0</td>\n",
              "    </tr>\n",
              "    <tr>\n",
              "      <th>3</th>\n",
              "      <td>IndiGo</td>\n",
              "      <td>Kolkata</td>\n",
              "      <td>Banglore</td>\n",
              "      <td>CCU → NAG → BLR</td>\n",
              "      <td>5h 25m</td>\n",
              "      <td>1 stop</td>\n",
              "      <td>No info</td>\n",
              "      <td>6218</td>\n",
              "      <td>12</td>\n",
              "      <td>5</td>\n",
              "      <td>18</td>\n",
              "      <td>5</td>\n",
              "      <td>23</td>\n",
              "      <td>30</td>\n",
              "      <td>5</td>\n",
              "      <td>25</td>\n",
              "    </tr>\n",
              "    <tr>\n",
              "      <th>4</th>\n",
              "      <td>IndiGo</td>\n",
              "      <td>Banglore</td>\n",
              "      <td>New Delhi</td>\n",
              "      <td>BLR → NAG → DEL</td>\n",
              "      <td>4h 45m</td>\n",
              "      <td>1 stop</td>\n",
              "      <td>No info</td>\n",
              "      <td>13302</td>\n",
              "      <td>1</td>\n",
              "      <td>3</td>\n",
              "      <td>16</td>\n",
              "      <td>50</td>\n",
              "      <td>21</td>\n",
              "      <td>35</td>\n",
              "      <td>4</td>\n",
              "      <td>45</td>\n",
              "    </tr>\n",
              "  </tbody>\n",
              "</table>\n",
              "</div>"
            ],
            "text/plain": [
              "       Airline    Source Destination                  Route Duration  \\\n",
              "0       IndiGo  Banglore   New Delhi              BLR → DEL   2h 50m   \n",
              "1    Air India   Kolkata    Banglore  CCU → IXR → BBI → BLR   7h 25m   \n",
              "2  Jet Airways     Delhi      Cochin  DEL → LKO → BOM → COK      19h   \n",
              "3       IndiGo   Kolkata    Banglore        CCU → NAG → BLR   5h 25m   \n",
              "4       IndiGo  Banglore   New Delhi        BLR → NAG → DEL   4h 45m   \n",
              "\n",
              "  Total_Stops Additional_Info  Price  Journey-Date  Journey-Month  Dep_hour  \\\n",
              "0    non-stop         No info   3897            24              3        22   \n",
              "1     2 stops         No info   7662             1              5         5   \n",
              "2     2 stops         No info  13882             9              6         9   \n",
              "3      1 stop         No info   6218            12              5        18   \n",
              "4      1 stop         No info  13302             1              3        16   \n",
              "\n",
              "   Dep_min  Arrival_hour  Arrival_minute  Duration_hours  Duration_minutes  \n",
              "0       20             1              10               2                50  \n",
              "1       50            13              15               7                25  \n",
              "2       25             4              25              19                 0  \n",
              "3        5            23              30               5                25  \n",
              "4       50            21              35               4                45  "
            ]
          },
          "metadata": {
            "tags": []
          },
          "execution_count": 24
        }
      ]
    },
    {
      "cell_type": "code",
      "metadata": {
        "id": "tCuU9eObn7bp"
      },
      "source": [
        "train_data.drop(\"Duration\",axis=1,inplace=True)"
      ],
      "execution_count": 25,
      "outputs": []
    },
    {
      "cell_type": "code",
      "metadata": {
        "colab": {
          "base_uri": "https://localhost:8080/",
          "height": 602
        },
        "id": "D0E89PCqoFHo",
        "outputId": "96bbc89a-47bf-4239-9ce2-b95c879f71f9"
      },
      "source": [
        "train_data.head()"
      ],
      "execution_count": 26,
      "outputs": [
        {
          "output_type": "execute_result",
          "data": {
            "text/html": [
              "<div>\n",
              "<style scoped>\n",
              "    .dataframe tbody tr th:only-of-type {\n",
              "        vertical-align: middle;\n",
              "    }\n",
              "\n",
              "    .dataframe tbody tr th {\n",
              "        vertical-align: top;\n",
              "    }\n",
              "\n",
              "    .dataframe thead th {\n",
              "        text-align: right;\n",
              "    }\n",
              "</style>\n",
              "<table border=\"1\" class=\"dataframe\">\n",
              "  <thead>\n",
              "    <tr style=\"text-align: right;\">\n",
              "      <th></th>\n",
              "      <th>Airline</th>\n",
              "      <th>Source</th>\n",
              "      <th>Destination</th>\n",
              "      <th>Route</th>\n",
              "      <th>Total_Stops</th>\n",
              "      <th>Additional_Info</th>\n",
              "      <th>Price</th>\n",
              "      <th>Journey-Date</th>\n",
              "      <th>Journey-Month</th>\n",
              "      <th>Dep_hour</th>\n",
              "      <th>Dep_min</th>\n",
              "      <th>Arrival_hour</th>\n",
              "      <th>Arrival_minute</th>\n",
              "      <th>Duration_hours</th>\n",
              "      <th>Duration_minutes</th>\n",
              "    </tr>\n",
              "  </thead>\n",
              "  <tbody>\n",
              "    <tr>\n",
              "      <th>0</th>\n",
              "      <td>IndiGo</td>\n",
              "      <td>Banglore</td>\n",
              "      <td>New Delhi</td>\n",
              "      <td>BLR → DEL</td>\n",
              "      <td>non-stop</td>\n",
              "      <td>No info</td>\n",
              "      <td>3897</td>\n",
              "      <td>24</td>\n",
              "      <td>3</td>\n",
              "      <td>22</td>\n",
              "      <td>20</td>\n",
              "      <td>1</td>\n",
              "      <td>10</td>\n",
              "      <td>2</td>\n",
              "      <td>50</td>\n",
              "    </tr>\n",
              "    <tr>\n",
              "      <th>1</th>\n",
              "      <td>Air India</td>\n",
              "      <td>Kolkata</td>\n",
              "      <td>Banglore</td>\n",
              "      <td>CCU → IXR → BBI → BLR</td>\n",
              "      <td>2 stops</td>\n",
              "      <td>No info</td>\n",
              "      <td>7662</td>\n",
              "      <td>1</td>\n",
              "      <td>5</td>\n",
              "      <td>5</td>\n",
              "      <td>50</td>\n",
              "      <td>13</td>\n",
              "      <td>15</td>\n",
              "      <td>7</td>\n",
              "      <td>25</td>\n",
              "    </tr>\n",
              "    <tr>\n",
              "      <th>2</th>\n",
              "      <td>Jet Airways</td>\n",
              "      <td>Delhi</td>\n",
              "      <td>Cochin</td>\n",
              "      <td>DEL → LKO → BOM → COK</td>\n",
              "      <td>2 stops</td>\n",
              "      <td>No info</td>\n",
              "      <td>13882</td>\n",
              "      <td>9</td>\n",
              "      <td>6</td>\n",
              "      <td>9</td>\n",
              "      <td>25</td>\n",
              "      <td>4</td>\n",
              "      <td>25</td>\n",
              "      <td>19</td>\n",
              "      <td>0</td>\n",
              "    </tr>\n",
              "    <tr>\n",
              "      <th>3</th>\n",
              "      <td>IndiGo</td>\n",
              "      <td>Kolkata</td>\n",
              "      <td>Banglore</td>\n",
              "      <td>CCU → NAG → BLR</td>\n",
              "      <td>1 stop</td>\n",
              "      <td>No info</td>\n",
              "      <td>6218</td>\n",
              "      <td>12</td>\n",
              "      <td>5</td>\n",
              "      <td>18</td>\n",
              "      <td>5</td>\n",
              "      <td>23</td>\n",
              "      <td>30</td>\n",
              "      <td>5</td>\n",
              "      <td>25</td>\n",
              "    </tr>\n",
              "    <tr>\n",
              "      <th>4</th>\n",
              "      <td>IndiGo</td>\n",
              "      <td>Banglore</td>\n",
              "      <td>New Delhi</td>\n",
              "      <td>BLR → NAG → DEL</td>\n",
              "      <td>1 stop</td>\n",
              "      <td>No info</td>\n",
              "      <td>13302</td>\n",
              "      <td>1</td>\n",
              "      <td>3</td>\n",
              "      <td>16</td>\n",
              "      <td>50</td>\n",
              "      <td>21</td>\n",
              "      <td>35</td>\n",
              "      <td>4</td>\n",
              "      <td>45</td>\n",
              "    </tr>\n",
              "  </tbody>\n",
              "</table>\n",
              "</div>"
            ],
            "text/plain": [
              "       Airline    Source Destination                  Route Total_Stops  \\\n",
              "0       IndiGo  Banglore   New Delhi              BLR → DEL    non-stop   \n",
              "1    Air India   Kolkata    Banglore  CCU → IXR → BBI → BLR     2 stops   \n",
              "2  Jet Airways     Delhi      Cochin  DEL → LKO → BOM → COK     2 stops   \n",
              "3       IndiGo   Kolkata    Banglore        CCU → NAG → BLR      1 stop   \n",
              "4       IndiGo  Banglore   New Delhi        BLR → NAG → DEL      1 stop   \n",
              "\n",
              "  Additional_Info  Price  Journey-Date  Journey-Month  Dep_hour  Dep_min  \\\n",
              "0         No info   3897            24              3        22       20   \n",
              "1         No info   7662             1              5         5       50   \n",
              "2         No info  13882             9              6         9       25   \n",
              "3         No info   6218            12              5        18        5   \n",
              "4         No info  13302             1              3        16       50   \n",
              "\n",
              "   Arrival_hour  Arrival_minute  Duration_hours  Duration_minutes  \n",
              "0             1              10               2                50  \n",
              "1            13              15               7                25  \n",
              "2             4              25              19                 0  \n",
              "3            23              30               5                25  \n",
              "4            21              35               4                45  "
            ]
          },
          "metadata": {
            "tags": []
          },
          "execution_count": 26
        }
      ]
    },
    {
      "cell_type": "code",
      "metadata": {
        "colab": {
          "base_uri": "https://localhost:8080/",
          "height": 167
        },
        "id": "b3m82BYAoLEg",
        "outputId": "8a98b7f8-c42d-4a5c-f9b6-c01e4ea2761a"
      },
      "source": [
        "sns.catplot(x='Airline',y='Price',data=train_data.sort_values('Price',ascending=False),aspect=5,kind=\"boxen\")"
      ],
      "execution_count": 27,
      "outputs": [
        {
          "output_type": "execute_result",
          "data": {
            "text/plain": [
              "<seaborn.axisgrid.FacetGrid at 0x7fc39e3cd9e8>"
            ]
          },
          "metadata": {
            "tags": []
          },
          "execution_count": 27
        },
        {
          "output_type": "display_data",
          "data": {
            "image/png": "[encoded data removed]",
            "text/plain": [
              "<Figure size 1800x360 with 1 Axes>"
            ]
          },
          "metadata": {
            "tags": [],
            "needs_background": "light"
          }
        }
      ]
    },
    {
      "cell_type": "code",
      "metadata": {
        "id": "Ixr7au21qvll"
      },
      "source": [
        "airline_encoded=pd.get_dummies(train_data['Airline'],drop_first=True)"
      ],
      "execution_count": 28,
      "outputs": []
    },
    {
      "cell_type": "code",
      "metadata": {
        "colab": {
          "base_uri": "https://localhost:8080/",
          "height": 266
        },
        "id": "JTKIdWg2sXds",
        "outputId": "3fd412ac-b653-4031-a74f-532e3bf8f094"
      },
      "source": [
        "airline_encoded.head()"
      ],
      "execution_count": 29,
      "outputs": [
        {
          "output_type": "execute_result",
          "data": {
            "text/html": [
              "<div>\n",
              "<style scoped>\n",
              "    .dataframe tbody tr th:only-of-type {\n",
              "        vertical-align: middle;\n",
              "    }\n",
              "\n",
              "    .dataframe tbody tr th {\n",
              "        vertical-align: top;\n",
              "    }\n",
              "\n",
              "    .dataframe thead th {\n",
              "        text-align: right;\n",
              "    }\n",
              "</style>\n",
              "<table border=\"1\" class=\"dataframe\">\n",
              "  <thead>\n",
              "    <tr style=\"text-align: right;\">\n",
              "      <th></th>\n",
              "      <th>Air India</th>\n",
              "      <th>GoAir</th>\n",
              "      <th>IndiGo</th>\n",
              "      <th>Jet Airways</th>\n",
              "      <th>Jet Airways Business</th>\n",
              "      <th>Multiple carriers</th>\n",
              "      <th>Multiple carriers Premium economy</th>\n",
              "      <th>SpiceJet</th>\n",
              "      <th>Trujet</th>\n",
              "      <th>Vistara</th>\n",
              "      <th>Vistara Premium economy</th>\n",
              "    </tr>\n",
              "  </thead>\n",
              "  <tbody>\n",
              "    <tr>\n",
              "      <th>0</th>\n",
              "      <td>0</td>\n",
              "      <td>0</td>\n",
              "      <td>1</td>\n",
              "      <td>0</td>\n",
              "      <td>0</td>\n",
              "      <td>0</td>\n",
              "      <td>0</td>\n",
              "      <td>0</td>\n",
              "      <td>0</td>\n",
              "      <td>0</td>\n",
              "      <td>0</td>\n",
              "    </tr>\n",
              "    <tr>\n",
              "      <th>1</th>\n",
              "      <td>1</td>\n",
              "      <td>0</td>\n",
              "      <td>0</td>\n",
              "      <td>0</td>\n",
              "      <td>0</td>\n",
              "      <td>0</td>\n",
              "      <td>0</td>\n",
              "      <td>0</td>\n",
              "      <td>0</td>\n",
              "      <td>0</td>\n",
              "      <td>0</td>\n",
              "    </tr>\n",
              "    <tr>\n",
              "      <th>2</th>\n",
              "      <td>0</td>\n",
              "      <td>0</td>\n",
              "      <td>0</td>\n",
              "      <td>1</td>\n",
              "      <td>0</td>\n",
              "      <td>0</td>\n",
              "      <td>0</td>\n",
              "      <td>0</td>\n",
              "      <td>0</td>\n",
              "      <td>0</td>\n",
              "      <td>0</td>\n",
              "    </tr>\n",
              "    <tr>\n",
              "      <th>3</th>\n",
              "      <td>0</td>\n",
              "      <td>0</td>\n",
              "      <td>1</td>\n",
              "      <td>0</td>\n",
              "      <td>0</td>\n",
              "      <td>0</td>\n",
              "      <td>0</td>\n",
              "      <td>0</td>\n",
              "      <td>0</td>\n",
              "      <td>0</td>\n",
              "      <td>0</td>\n",
              "    </tr>\n",
              "    <tr>\n",
              "      <th>4</th>\n",
              "      <td>0</td>\n",
              "      <td>0</td>\n",
              "      <td>1</td>\n",
              "      <td>0</td>\n",
              "      <td>0</td>\n",
              "      <td>0</td>\n",
              "      <td>0</td>\n",
              "      <td>0</td>\n",
              "      <td>0</td>\n",
              "      <td>0</td>\n",
              "      <td>0</td>\n",
              "    </tr>\n",
              "  </tbody>\n",
              "</table>\n",
              "</div>"
            ],
            "text/plain": [
              "   Air India  GoAir  IndiGo  Jet Airways  Jet Airways Business  \\\n",
              "0          0      0       1            0                     0   \n",
              "1          1      0       0            0                     0   \n",
              "2          0      0       0            1                     0   \n",
              "3          0      0       1            0                     0   \n",
              "4          0      0       1            0                     0   \n",
              "\n",
              "   Multiple carriers  Multiple carriers Premium economy  SpiceJet  Trujet  \\\n",
              "0                  0                                  0         0       0   \n",
              "1                  0                                  0         0       0   \n",
              "2                  0                                  0         0       0   \n",
              "3                  0                                  0         0       0   \n",
              "4                  0                                  0         0       0   \n",
              "\n",
              "   Vistara  Vistara Premium economy  \n",
              "0        0                        0  \n",
              "1        0                        0  \n",
              "2        0                        0  \n",
              "3        0                        0  \n",
              "4        0                        0  "
            ]
          },
          "metadata": {
            "tags": []
          },
          "execution_count": 29
        }
      ]
    },
    {
      "cell_type": "code",
      "metadata": {
        "id": "v3bFccJnsZZP"
      },
      "source": [
        "source_encoded=pd.get_dummies(train_data['Source'],drop_first=True)"
      ],
      "execution_count": 30,
      "outputs": []
    },
    {
      "cell_type": "code",
      "metadata": {
        "colab": {
          "base_uri": "https://localhost:8080/",
          "height": 195
        },
        "id": "PIGqvlApt9gQ",
        "outputId": "c6901b99-3d1e-401f-e4f5-c7ee4c84272e"
      },
      "source": [
        "source_encoded.head()"
      ],
      "execution_count": 31,
      "outputs": [
        {
          "output_type": "execute_result",
          "data": {
            "text/html": [
              "<div>\n",
              "<style scoped>\n",
              "    .dataframe tbody tr th:only-of-type {\n",
              "        vertical-align: middle;\n",
              "    }\n",
              "\n",
              "    .dataframe tbody tr th {\n",
              "        vertical-align: top;\n",
              "    }\n",
              "\n",
              "    .dataframe thead th {\n",
              "        text-align: right;\n",
              "    }\n",
              "</style>\n",
              "<table border=\"1\" class=\"dataframe\">\n",
              "  <thead>\n",
              "    <tr style=\"text-align: right;\">\n",
              "      <th></th>\n",
              "      <th>Chennai</th>\n",
              "      <th>Delhi</th>\n",
              "      <th>Kolkata</th>\n",
              "      <th>Mumbai</th>\n",
              "    </tr>\n",
              "  </thead>\n",
              "  <tbody>\n",
              "    <tr>\n",
              "      <th>0</th>\n",
              "      <td>0</td>\n",
              "      <td>0</td>\n",
              "      <td>0</td>\n",
              "      <td>0</td>\n",
              "    </tr>\n",
              "    <tr>\n",
              "      <th>1</th>\n",
              "      <td>0</td>\n",
              "      <td>0</td>\n",
              "      <td>1</td>\n",
              "      <td>0</td>\n",
              "    </tr>\n",
              "    <tr>\n",
              "      <th>2</th>\n",
              "      <td>0</td>\n",
              "      <td>1</td>\n",
              "      <td>0</td>\n",
              "      <td>0</td>\n",
              "    </tr>\n",
              "    <tr>\n",
              "      <th>3</th>\n",
              "      <td>0</td>\n",
              "      <td>0</td>\n",
              "      <td>1</td>\n",
              "      <td>0</td>\n",
              "    </tr>\n",
              "    <tr>\n",
              "      <th>4</th>\n",
              "      <td>0</td>\n",
              "      <td>0</td>\n",
              "      <td>0</td>\n",
              "      <td>0</td>\n",
              "    </tr>\n",
              "  </tbody>\n",
              "</table>\n",
              "</div>"
            ],
            "text/plain": [
              "   Chennai  Delhi  Kolkata  Mumbai\n",
              "0        0      0        0       0\n",
              "1        0      0        1       0\n",
              "2        0      1        0       0\n",
              "3        0      0        1       0\n",
              "4        0      0        0       0"
            ]
          },
          "metadata": {
            "tags": []
          },
          "execution_count": 31
        }
      ]
    },
    {
      "cell_type": "code",
      "metadata": {
        "colab": {
          "base_uri": "https://localhost:8080/",
          "height": 195
        },
        "id": "SX-7JUAuuAEl",
        "outputId": "8aaa460a-a9a3-46d1-d903-6bb03f305768"
      },
      "source": [
        "destination_encoded=pd.get_dummies(train_data['Destination'],drop_first=True)\r\n",
        "destination_encoded.head()"
      ],
      "execution_count": 32,
      "outputs": [
        {
          "output_type": "execute_result",
          "data": {
            "text/html": [
              "<div>\n",
              "<style scoped>\n",
              "    .dataframe tbody tr th:only-of-type {\n",
              "        vertical-align: middle;\n",
              "    }\n",
              "\n",
              "    .dataframe tbody tr th {\n",
              "        vertical-align: top;\n",
              "    }\n",
              "\n",
              "    .dataframe thead th {\n",
              "        text-align: right;\n",
              "    }\n",
              "</style>\n",
              "<table border=\"1\" class=\"dataframe\">\n",
              "  <thead>\n",
              "    <tr style=\"text-align: right;\">\n",
              "      <th></th>\n",
              "      <th>Cochin</th>\n",
              "      <th>Delhi</th>\n",
              "      <th>Hyderabad</th>\n",
              "      <th>Kolkata</th>\n",
              "      <th>New Delhi</th>\n",
              "    </tr>\n",
              "  </thead>\n",
              "  <tbody>\n",
              "    <tr>\n",
              "      <th>0</th>\n",
              "      <td>0</td>\n",
              "      <td>0</td>\n",
              "      <td>0</td>\n",
              "      <td>0</td>\n",
              "      <td>1</td>\n",
              "    </tr>\n",
              "    <tr>\n",
              "      <th>1</th>\n",
              "      <td>0</td>\n",
              "      <td>0</td>\n",
              "      <td>0</td>\n",
              "      <td>0</td>\n",
              "      <td>0</td>\n",
              "    </tr>\n",
              "    <tr>\n",
              "      <th>2</th>\n",
              "      <td>1</td>\n",
              "      <td>0</td>\n",
              "      <td>0</td>\n",
              "      <td>0</td>\n",
              "      <td>0</td>\n",
              "    </tr>\n",
              "    <tr>\n",
              "      <th>3</th>\n",
              "      <td>0</td>\n",
              "      <td>0</td>\n",
              "      <td>0</td>\n",
              "      <td>0</td>\n",
              "      <td>0</td>\n",
              "    </tr>\n",
              "    <tr>\n",
              "      <th>4</th>\n",
              "      <td>0</td>\n",
              "      <td>0</td>\n",
              "      <td>0</td>\n",
              "      <td>0</td>\n",
              "      <td>1</td>\n",
              "    </tr>\n",
              "  </tbody>\n",
              "</table>\n",
              "</div>"
            ],
            "text/plain": [
              "   Cochin  Delhi  Hyderabad  Kolkata  New Delhi\n",
              "0       0      0          0        0          1\n",
              "1       0      0          0        0          0\n",
              "2       1      0          0        0          0\n",
              "3       0      0          0        0          0\n",
              "4       0      0          0        0          1"
            ]
          },
          "metadata": {
            "tags": []
          },
          "execution_count": 32
        }
      ]
    },
    {
      "cell_type": "code",
      "metadata": {
        "id": "BU4uK_MnujnC"
      },
      "source": [
        "#route col and total stops coloumn is similar and additional info has no info in many rows\r\n",
        "train_data.drop('Route',axis=1,inplace=True)"
      ],
      "execution_count": 33,
      "outputs": []
    },
    {
      "cell_type": "code",
      "metadata": {
        "colab": {
          "base_uri": "https://localhost:8080/"
        },
        "id": "Z_dL3crdvO4P",
        "outputId": "bc0b3b5a-3d38-4b96-8c5e-2fbce7e0d233"
      },
      "source": [
        "train_data['Total_Stops'].value_counts()"
      ],
      "execution_count": 34,
      "outputs": [
        {
          "output_type": "execute_result",
          "data": {
            "text/plain": [
              "1 stop      5625\n",
              "non-stop    3491\n",
              "2 stops     1520\n",
              "3 stops       45\n",
              "4 stops        1\n",
              "Name: Total_Stops, dtype: int64"
            ]
          },
          "metadata": {
            "tags": []
          },
          "execution_count": 34
        }
      ]
    },
    {
      "cell_type": "code",
      "metadata": {
        "id": "wH2LY7THvWTI"
      },
      "source": [
        "train_data.replace({'non-stop':0,\"1 stop\":1,\"2 stops\":2,\"3 stops\":3,\"4 stops\":4},inplace=True)"
      ],
      "execution_count": 35,
      "outputs": []
    },
    {
      "cell_type": "code",
      "metadata": {
        "colab": {
          "base_uri": "https://localhost:8080/",
          "height": 249
        },
        "id": "8-Fu9QCpwboD",
        "outputId": "82db140b-8ae9-43c5-d2d5-ce0a7e4f387f"
      },
      "source": [
        "train_data.head()"
      ],
      "execution_count": 36,
      "outputs": [
        {
          "output_type": "execute_result",
          "data": {
            "text/html": [
              "<div>\n",
              "<style scoped>\n",
              "    .dataframe tbody tr th:only-of-type {\n",
              "        vertical-align: middle;\n",
              "    }\n",
              "\n",
              "    .dataframe tbody tr th {\n",
              "        vertical-align: top;\n",
              "    }\n",
              "\n",
              "    .dataframe thead th {\n",
              "        text-align: right;\n",
              "    }\n",
              "</style>\n",
              "<table border=\"1\" class=\"dataframe\">\n",
              "  <thead>\n",
              "    <tr style=\"text-align: right;\">\n",
              "      <th></th>\n",
              "      <th>Airline</th>\n",
              "      <th>Source</th>\n",
              "      <th>Destination</th>\n",
              "      <th>Total_Stops</th>\n",
              "      <th>Additional_Info</th>\n",
              "      <th>Price</th>\n",
              "      <th>Journey-Date</th>\n",
              "      <th>Journey-Month</th>\n",
              "      <th>Dep_hour</th>\n",
              "      <th>Dep_min</th>\n",
              "      <th>Arrival_hour</th>\n",
              "      <th>Arrival_minute</th>\n",
              "      <th>Duration_hours</th>\n",
              "      <th>Duration_minutes</th>\n",
              "    </tr>\n",
              "  </thead>\n",
              "  <tbody>\n",
              "    <tr>\n",
              "      <th>0</th>\n",
              "      <td>IndiGo</td>\n",
              "      <td>Banglore</td>\n",
              "      <td>New Delhi</td>\n",
              "      <td>0</td>\n",
              "      <td>No info</td>\n",
              "      <td>3897</td>\n",
              "      <td>24</td>\n",
              "      <td>3</td>\n",
              "      <td>22</td>\n",
              "      <td>20</td>\n",
              "      <td>1</td>\n",
              "      <td>10</td>\n",
              "      <td>2</td>\n",
              "      <td>50</td>\n",
              "    </tr>\n",
              "    <tr>\n",
              "      <th>1</th>\n",
              "      <td>Air India</td>\n",
              "      <td>Kolkata</td>\n",
              "      <td>Banglore</td>\n",
              "      <td>2</td>\n",
              "      <td>No info</td>\n",
              "      <td>7662</td>\n",
              "      <td>1</td>\n",
              "      <td>5</td>\n",
              "      <td>5</td>\n",
              "      <td>50</td>\n",
              "      <td>13</td>\n",
              "      <td>15</td>\n",
              "      <td>7</td>\n",
              "      <td>25</td>\n",
              "    </tr>\n",
              "    <tr>\n",
              "      <th>2</th>\n",
              "      <td>Jet Airways</td>\n",
              "      <td>Delhi</td>\n",
              "      <td>Cochin</td>\n",
              "      <td>2</td>\n",
              "      <td>No info</td>\n",
              "      <td>13882</td>\n",
              "      <td>9</td>\n",
              "      <td>6</td>\n",
              "      <td>9</td>\n",
              "      <td>25</td>\n",
              "      <td>4</td>\n",
              "      <td>25</td>\n",
              "      <td>19</td>\n",
              "      <td>0</td>\n",
              "    </tr>\n",
              "    <tr>\n",
              "      <th>3</th>\n",
              "      <td>IndiGo</td>\n",
              "      <td>Kolkata</td>\n",
              "      <td>Banglore</td>\n",
              "      <td>1</td>\n",
              "      <td>No info</td>\n",
              "      <td>6218</td>\n",
              "      <td>12</td>\n",
              "      <td>5</td>\n",
              "      <td>18</td>\n",
              "      <td>5</td>\n",
              "      <td>23</td>\n",
              "      <td>30</td>\n",
              "      <td>5</td>\n",
              "      <td>25</td>\n",
              "    </tr>\n",
              "    <tr>\n",
              "      <th>4</th>\n",
              "      <td>IndiGo</td>\n",
              "      <td>Banglore</td>\n",
              "      <td>New Delhi</td>\n",
              "      <td>1</td>\n",
              "      <td>No info</td>\n",
              "      <td>13302</td>\n",
              "      <td>1</td>\n",
              "      <td>3</td>\n",
              "      <td>16</td>\n",
              "      <td>50</td>\n",
              "      <td>21</td>\n",
              "      <td>35</td>\n",
              "      <td>4</td>\n",
              "      <td>45</td>\n",
              "    </tr>\n",
              "  </tbody>\n",
              "</table>\n",
              "</div>"
            ],
            "text/plain": [
              "       Airline    Source Destination  Total_Stops Additional_Info  Price  \\\n",
              "0       IndiGo  Banglore   New Delhi            0         No info   3897   \n",
              "1    Air India   Kolkata    Banglore            2         No info   7662   \n",
              "2  Jet Airways     Delhi      Cochin            2         No info  13882   \n",
              "3       IndiGo   Kolkata    Banglore            1         No info   6218   \n",
              "4       IndiGo  Banglore   New Delhi            1         No info  13302   \n",
              "\n",
              "   Journey-Date  Journey-Month  Dep_hour  Dep_min  Arrival_hour  \\\n",
              "0            24              3        22       20             1   \n",
              "1             1              5         5       50            13   \n",
              "2             9              6         9       25             4   \n",
              "3            12              5        18        5            23   \n",
              "4             1              3        16       50            21   \n",
              "\n",
              "   Arrival_minute  Duration_hours  Duration_minutes  \n",
              "0              10               2                50  \n",
              "1              15               7                25  \n",
              "2              25              19                 0  \n",
              "3              30               5                25  \n",
              "4              35               4                45  "
            ]
          },
          "metadata": {
            "tags": []
          },
          "execution_count": 36
        }
      ]
    },
    {
      "cell_type": "code",
      "metadata": {
        "id": "H9julYNTwe9L"
      },
      "source": [
        "train_data.drop('Additional_Info',axis=1,inplace=True)"
      ],
      "execution_count": 37,
      "outputs": []
    },
    {
      "cell_type": "code",
      "metadata": {
        "colab": {
          "base_uri": "https://localhost:8080/",
          "height": 249
        },
        "id": "JOrOZotawqqS",
        "outputId": "495349f7-92a2-4cbb-81f8-21fdf315d1bb"
      },
      "source": [
        "train_data.head()"
      ],
      "execution_count": 38,
      "outputs": [
        {
          "output_type": "execute_result",
          "data": {
            "text/html": [
              "<div>\n",
              "<style scoped>\n",
              "    .dataframe tbody tr th:only-of-type {\n",
              "        vertical-align: middle;\n",
              "    }\n",
              "\n",
              "    .dataframe tbody tr th {\n",
              "        vertical-align: top;\n",
              "    }\n",
              "\n",
              "    .dataframe thead th {\n",
              "        text-align: right;\n",
              "    }\n",
              "</style>\n",
              "<table border=\"1\" class=\"dataframe\">\n",
              "  <thead>\n",
              "    <tr style=\"text-align: right;\">\n",
              "      <th></th>\n",
              "      <th>Airline</th>\n",
              "      <th>Source</th>\n",
              "      <th>Destination</th>\n",
              "      <th>Total_Stops</th>\n",
              "      <th>Price</th>\n",
              "      <th>Journey-Date</th>\n",
              "      <th>Journey-Month</th>\n",
              "      <th>Dep_hour</th>\n",
              "      <th>Dep_min</th>\n",
              "      <th>Arrival_hour</th>\n",
              "      <th>Arrival_minute</th>\n",
              "      <th>Duration_hours</th>\n",
              "      <th>Duration_minutes</th>\n",
              "    </tr>\n",
              "  </thead>\n",
              "  <tbody>\n",
              "    <tr>\n",
              "      <th>0</th>\n",
              "      <td>IndiGo</td>\n",
              "      <td>Banglore</td>\n",
              "      <td>New Delhi</td>\n",
              "      <td>0</td>\n",
              "      <td>3897</td>\n",
              "      <td>24</td>\n",
              "      <td>3</td>\n",
              "      <td>22</td>\n",
              "      <td>20</td>\n",
              "      <td>1</td>\n",
              "      <td>10</td>\n",
              "      <td>2</td>\n",
              "      <td>50</td>\n",
              "    </tr>\n",
              "    <tr>\n",
              "      <th>1</th>\n",
              "      <td>Air India</td>\n",
              "      <td>Kolkata</td>\n",
              "      <td>Banglore</td>\n",
              "      <td>2</td>\n",
              "      <td>7662</td>\n",
              "      <td>1</td>\n",
              "      <td>5</td>\n",
              "      <td>5</td>\n",
              "      <td>50</td>\n",
              "      <td>13</td>\n",
              "      <td>15</td>\n",
              "      <td>7</td>\n",
              "      <td>25</td>\n",
              "    </tr>\n",
              "    <tr>\n",
              "      <th>2</th>\n",
              "      <td>Jet Airways</td>\n",
              "      <td>Delhi</td>\n",
              "      <td>Cochin</td>\n",
              "      <td>2</td>\n",
              "      <td>13882</td>\n",
              "      <td>9</td>\n",
              "      <td>6</td>\n",
              "      <td>9</td>\n",
              "      <td>25</td>\n",
              "      <td>4</td>\n",
              "      <td>25</td>\n",
              "      <td>19</td>\n",
              "      <td>0</td>\n",
              "    </tr>\n",
              "    <tr>\n",
              "      <th>3</th>\n",
              "      <td>IndiGo</td>\n",
              "      <td>Kolkata</td>\n",
              "      <td>Banglore</td>\n",
              "      <td>1</td>\n",
              "      <td>6218</td>\n",
              "      <td>12</td>\n",
              "      <td>5</td>\n",
              "      <td>18</td>\n",
              "      <td>5</td>\n",
              "      <td>23</td>\n",
              "      <td>30</td>\n",
              "      <td>5</td>\n",
              "      <td>25</td>\n",
              "    </tr>\n",
              "    <tr>\n",
              "      <th>4</th>\n",
              "      <td>IndiGo</td>\n",
              "      <td>Banglore</td>\n",
              "      <td>New Delhi</td>\n",
              "      <td>1</td>\n",
              "      <td>13302</td>\n",
              "      <td>1</td>\n",
              "      <td>3</td>\n",
              "      <td>16</td>\n",
              "      <td>50</td>\n",
              "      <td>21</td>\n",
              "      <td>35</td>\n",
              "      <td>4</td>\n",
              "      <td>45</td>\n",
              "    </tr>\n",
              "  </tbody>\n",
              "</table>\n",
              "</div>"
            ],
            "text/plain": [
              "       Airline    Source Destination  Total_Stops  Price  Journey-Date  \\\n",
              "0       IndiGo  Banglore   New Delhi            0   3897            24   \n",
              "1    Air India   Kolkata    Banglore            2   7662             1   \n",
              "2  Jet Airways     Delhi      Cochin            2  13882             9   \n",
              "3       IndiGo   Kolkata    Banglore            1   6218            12   \n",
              "4       IndiGo  Banglore   New Delhi            1  13302             1   \n",
              "\n",
              "   Journey-Month  Dep_hour  Dep_min  Arrival_hour  Arrival_minute  \\\n",
              "0              3        22       20             1              10   \n",
              "1              5         5       50            13              15   \n",
              "2              6         9       25             4              25   \n",
              "3              5        18        5            23              30   \n",
              "4              3        16       50            21              35   \n",
              "\n",
              "   Duration_hours  Duration_minutes  \n",
              "0               2                50  \n",
              "1               7                25  \n",
              "2              19                 0  \n",
              "3               5                25  \n",
              "4               4                45  "
            ]
          },
          "metadata": {
            "tags": []
          },
          "execution_count": 38
        }
      ]
    },
    {
      "cell_type": "code",
      "metadata": {
        "id": "flmXX2E8wsmU"
      },
      "source": [
        "data_train=pd.concat([train_data,airline_encoded,source_encoded,destination_encoded],axis=1)"
      ],
      "execution_count": 39,
      "outputs": []
    },
    {
      "cell_type": "code",
      "metadata": {
        "colab": {
          "base_uri": "https://localhost:8080/",
          "height": 282
        },
        "id": "C1Mq0lWfxFkd",
        "outputId": "04ba5965-109b-4b8a-e7de-7b1c35e14f4e"
      },
      "source": [
        "data_train.head()"
      ],
      "execution_count": 40,
      "outputs": [
        {
          "output_type": "execute_result",
          "data": {
            "text/html": [
              "<div>\n",
              "<style scoped>\n",
              "    .dataframe tbody tr th:only-of-type {\n",
              "        vertical-align: middle;\n",
              "    }\n",
              "\n",
              "    .dataframe tbody tr th {\n",
              "        vertical-align: top;\n",
              "    }\n",
              "\n",
              "    .dataframe thead th {\n",
              "        text-align: right;\n",
              "    }\n",
              "</style>\n",
              "<table border=\"1\" class=\"dataframe\">\n",
              "  <thead>\n",
              "    <tr style=\"text-align: right;\">\n",
              "      <th></th>\n",
              "      <th>Airline</th>\n",
              "      <th>Source</th>\n",
              "      <th>Destination</th>\n",
              "      <th>Total_Stops</th>\n",
              "      <th>Price</th>\n",
              "      <th>Journey-Date</th>\n",
              "      <th>Journey-Month</th>\n",
              "      <th>Dep_hour</th>\n",
              "      <th>Dep_min</th>\n",
              "      <th>Arrival_hour</th>\n",
              "      <th>Arrival_minute</th>\n",
              "      <th>Duration_hours</th>\n",
              "      <th>Duration_minutes</th>\n",
              "      <th>Air India</th>\n",
              "      <th>GoAir</th>\n",
              "      <th>IndiGo</th>\n",
              "      <th>Jet Airways</th>\n",
              "      <th>Jet Airways Business</th>\n",
              "      <th>Multiple carriers</th>\n",
              "      <th>Multiple carriers Premium economy</th>\n",
              "      <th>SpiceJet</th>\n",
              "      <th>Trujet</th>\n",
              "      <th>Vistara</th>\n",
              "      <th>Vistara Premium economy</th>\n",
              "      <th>Chennai</th>\n",
              "      <th>Delhi</th>\n",
              "      <th>Kolkata</th>\n",
              "      <th>Mumbai</th>\n",
              "      <th>Cochin</th>\n",
              "      <th>Delhi</th>\n",
              "      <th>Hyderabad</th>\n",
              "      <th>Kolkata</th>\n",
              "      <th>New Delhi</th>\n",
              "    </tr>\n",
              "  </thead>\n",
              "  <tbody>\n",
              "    <tr>\n",
              "      <th>0</th>\n",
              "      <td>IndiGo</td>\n",
              "      <td>Banglore</td>\n",
              "      <td>New Delhi</td>\n",
              "      <td>0</td>\n",
              "      <td>3897</td>\n",
              "      <td>24</td>\n",
              "      <td>3</td>\n",
              "      <td>22</td>\n",
              "      <td>20</td>\n",
              "      <td>1</td>\n",
              "      <td>10</td>\n",
              "      <td>2</td>\n",
              "      <td>50</td>\n",
              "      <td>0</td>\n",
              "      <td>0</td>\n",
              "      <td>1</td>\n",
              "      <td>0</td>\n",
              "      <td>0</td>\n",
              "      <td>0</td>\n",
              "      <td>0</td>\n",
              "      <td>0</td>\n",
              "      <td>0</td>\n",
              "      <td>0</td>\n",
              "      <td>0</td>\n",
              "      <td>0</td>\n",
              "      <td>0</td>\n",
              "      <td>0</td>\n",
              "      <td>0</td>\n",
              "      <td>0</td>\n",
              "      <td>0</td>\n",
              "      <td>0</td>\n",
              "      <td>0</td>\n",
              "      <td>1</td>\n",
              "    </tr>\n",
              "    <tr>\n",
              "      <th>1</th>\n",
              "      <td>Air India</td>\n",
              "      <td>Kolkata</td>\n",
              "      <td>Banglore</td>\n",
              "      <td>2</td>\n",
              "      <td>7662</td>\n",
              "      <td>1</td>\n",
              "      <td>5</td>\n",
              "      <td>5</td>\n",
              "      <td>50</td>\n",
              "      <td>13</td>\n",
              "      <td>15</td>\n",
              "      <td>7</td>\n",
              "      <td>25</td>\n",
              "      <td>1</td>\n",
              "      <td>0</td>\n",
              "      <td>0</td>\n",
              "      <td>0</td>\n",
              "      <td>0</td>\n",
              "      <td>0</td>\n",
              "      <td>0</td>\n",
              "      <td>0</td>\n",
              "      <td>0</td>\n",
              "      <td>0</td>\n",
              "      <td>0</td>\n",
              "      <td>0</td>\n",
              "      <td>0</td>\n",
              "      <td>1</td>\n",
              "      <td>0</td>\n",
              "      <td>0</td>\n",
              "      <td>0</td>\n",
              "      <td>0</td>\n",
              "      <td>0</td>\n",
              "      <td>0</td>\n",
              "    </tr>\n",
              "    <tr>\n",
              "      <th>2</th>\n",
              "      <td>Jet Airways</td>\n",
              "      <td>Delhi</td>\n",
              "      <td>Cochin</td>\n",
              "      <td>2</td>\n",
              "      <td>13882</td>\n",
              "      <td>9</td>\n",
              "      <td>6</td>\n",
              "      <td>9</td>\n",
              "      <td>25</td>\n",
              "      <td>4</td>\n",
              "      <td>25</td>\n",
              "      <td>19</td>\n",
              "      <td>0</td>\n",
              "      <td>0</td>\n",
              "      <td>0</td>\n",
              "      <td>0</td>\n",
              "      <td>1</td>\n",
              "      <td>0</td>\n",
              "      <td>0</td>\n",
              "      <td>0</td>\n",
              "      <td>0</td>\n",
              "      <td>0</td>\n",
              "      <td>0</td>\n",
              "      <td>0</td>\n",
              "      <td>0</td>\n",
              "      <td>1</td>\n",
              "      <td>0</td>\n",
              "      <td>0</td>\n",
              "      <td>1</td>\n",
              "      <td>0</td>\n",
              "      <td>0</td>\n",
              "      <td>0</td>\n",
              "      <td>0</td>\n",
              "    </tr>\n",
              "    <tr>\n",
              "      <th>3</th>\n",
              "      <td>IndiGo</td>\n",
              "      <td>Kolkata</td>\n",
              "      <td>Banglore</td>\n",
              "      <td>1</td>\n",
              "      <td>6218</td>\n",
              "      <td>12</td>\n",
              "      <td>5</td>\n",
              "      <td>18</td>\n",
              "      <td>5</td>\n",
              "      <td>23</td>\n",
              "      <td>30</td>\n",
              "      <td>5</td>\n",
              "      <td>25</td>\n",
              "      <td>0</td>\n",
              "      <td>0</td>\n",
              "      <td>1</td>\n",
              "      <td>0</td>\n",
              "      <td>0</td>\n",
              "      <td>0</td>\n",
              "      <td>0</td>\n",
              "      <td>0</td>\n",
              "      <td>0</td>\n",
              "      <td>0</td>\n",
              "      <td>0</td>\n",
              "      <td>0</td>\n",
              "      <td>0</td>\n",
              "      <td>1</td>\n",
              "      <td>0</td>\n",
              "      <td>0</td>\n",
              "      <td>0</td>\n",
              "      <td>0</td>\n",
              "      <td>0</td>\n",
              "      <td>0</td>\n",
              "    </tr>\n",
              "    <tr>\n",
              "      <th>4</th>\n",
              "      <td>IndiGo</td>\n",
              "      <td>Banglore</td>\n",
              "      <td>New Delhi</td>\n",
              "      <td>1</td>\n",
              "      <td>13302</td>\n",
              "      <td>1</td>\n",
              "      <td>3</td>\n",
              "      <td>16</td>\n",
              "      <td>50</td>\n",
              "      <td>21</td>\n",
              "      <td>35</td>\n",
              "      <td>4</td>\n",
              "      <td>45</td>\n",
              "      <td>0</td>\n",
              "      <td>0</td>\n",
              "      <td>1</td>\n",
              "      <td>0</td>\n",
              "      <td>0</td>\n",
              "      <td>0</td>\n",
              "      <td>0</td>\n",
              "      <td>0</td>\n",
              "      <td>0</td>\n",
              "      <td>0</td>\n",
              "      <td>0</td>\n",
              "      <td>0</td>\n",
              "      <td>0</td>\n",
              "      <td>0</td>\n",
              "      <td>0</td>\n",
              "      <td>0</td>\n",
              "      <td>0</td>\n",
              "      <td>0</td>\n",
              "      <td>0</td>\n",
              "      <td>1</td>\n",
              "    </tr>\n",
              "  </tbody>\n",
              "</table>\n",
              "</div>"
            ],
            "text/plain": [
              "       Airline    Source Destination  Total_Stops  Price  Journey-Date  \\\n",
              "0       IndiGo  Banglore   New Delhi            0   3897            24   \n",
              "1    Air India   Kolkata    Banglore            2   7662             1   \n",
              "2  Jet Airways     Delhi      Cochin            2  13882             9   \n",
              "3       IndiGo   Kolkata    Banglore            1   6218            12   \n",
              "4       IndiGo  Banglore   New Delhi            1  13302             1   \n",
              "\n",
              "   Journey-Month  Dep_hour  Dep_min  Arrival_hour  Arrival_minute  \\\n",
              "0              3        22       20             1              10   \n",
              "1              5         5       50            13              15   \n",
              "2              6         9       25             4              25   \n",
              "3              5        18        5            23              30   \n",
              "4              3        16       50            21              35   \n",
              "\n",
              "   Duration_hours  Duration_minutes  Air India  GoAir  IndiGo  Jet Airways  \\\n",
              "0               2                50          0      0       1            0   \n",
              "1               7                25          1      0       0            0   \n",
              "2              19                 0          0      0       0            1   \n",
              "3               5                25          0      0       1            0   \n",
              "4               4                45          0      0       1            0   \n",
              "\n",
              "   Jet Airways Business  Multiple carriers  Multiple carriers Premium economy  \\\n",
              "0                     0                  0                                  0   \n",
              "1                     0                  0                                  0   \n",
              "2                     0                  0                                  0   \n",
              "3                     0                  0                                  0   \n",
              "4                     0                  0                                  0   \n",
              "\n",
              "   SpiceJet  Trujet  Vistara  Vistara Premium economy  Chennai  Delhi  \\\n",
              "0         0       0        0                        0        0      0   \n",
              "1         0       0        0                        0        0      0   \n",
              "2         0       0        0                        0        0      1   \n",
              "3         0       0        0                        0        0      0   \n",
              "4         0       0        0                        0        0      0   \n",
              "\n",
              "   Kolkata  Mumbai  Cochin  Delhi  Hyderabad  Kolkata  New Delhi  \n",
              "0        0       0       0      0          0        0          1  \n",
              "1        1       0       0      0          0        0          0  \n",
              "2        0       0       1      0          0        0          0  \n",
              "3        1       0       0      0          0        0          0  \n",
              "4        0       0       0      0          0        0          1  "
            ]
          },
          "metadata": {
            "tags": []
          },
          "execution_count": 40
        }
      ]
    },
    {
      "cell_type": "code",
      "metadata": {
        "id": "eQ8KbP-zxLx8"
      },
      "source": [
        "data_train.drop(['Airline','Source','Destination'],axis=1,inplace=True)"
      ],
      "execution_count": 41,
      "outputs": []
    },
    {
      "cell_type": "code",
      "metadata": {
        "colab": {
          "base_uri": "https://localhost:8080/",
          "height": 266
        },
        "id": "oHAC5DetxX6I",
        "outputId": "6a8f27d4-e4e5-4e6d-9d5c-051c1b700d70"
      },
      "source": [
        "data_train.head()"
      ],
      "execution_count": 42,
      "outputs": [
        {
          "output_type": "execute_result",
          "data": {
            "text/html": [
              "<div>\n",
              "<style scoped>\n",
              "    .dataframe tbody tr th:only-of-type {\n",
              "        vertical-align: middle;\n",
              "    }\n",
              "\n",
              "    .dataframe tbody tr th {\n",
              "        vertical-align: top;\n",
              "    }\n",
              "\n",
              "    .dataframe thead th {\n",
              "        text-align: right;\n",
              "    }\n",
              "</style>\n",
              "<table border=\"1\" class=\"dataframe\">\n",
              "  <thead>\n",
              "    <tr style=\"text-align: right;\">\n",
              "      <th></th>\n",
              "      <th>Total_Stops</th>\n",
              "      <th>Price</th>\n",
              "      <th>Journey-Date</th>\n",
              "      <th>Journey-Month</th>\n",
              "      <th>Dep_hour</th>\n",
              "      <th>Dep_min</th>\n",
              "      <th>Arrival_hour</th>\n",
              "      <th>Arrival_minute</th>\n",
              "      <th>Duration_hours</th>\n",
              "      <th>Duration_minutes</th>\n",
              "      <th>Air India</th>\n",
              "      <th>GoAir</th>\n",
              "      <th>IndiGo</th>\n",
              "      <th>Jet Airways</th>\n",
              "      <th>Jet Airways Business</th>\n",
              "      <th>Multiple carriers</th>\n",
              "      <th>Multiple carriers Premium economy</th>\n",
              "      <th>SpiceJet</th>\n",
              "      <th>Trujet</th>\n",
              "      <th>Vistara</th>\n",
              "      <th>Vistara Premium economy</th>\n",
              "      <th>Chennai</th>\n",
              "      <th>Delhi</th>\n",
              "      <th>Kolkata</th>\n",
              "      <th>Mumbai</th>\n",
              "      <th>Cochin</th>\n",
              "      <th>Delhi</th>\n",
              "      <th>Hyderabad</th>\n",
              "      <th>Kolkata</th>\n",
              "      <th>New Delhi</th>\n",
              "    </tr>\n",
              "  </thead>\n",
              "  <tbody>\n",
              "    <tr>\n",
              "      <th>0</th>\n",
              "      <td>0</td>\n",
              "      <td>3897</td>\n",
              "      <td>24</td>\n",
              "      <td>3</td>\n",
              "      <td>22</td>\n",
              "      <td>20</td>\n",
              "      <td>1</td>\n",
              "      <td>10</td>\n",
              "      <td>2</td>\n",
              "      <td>50</td>\n",
              "      <td>0</td>\n",
              "      <td>0</td>\n",
              "      <td>1</td>\n",
              "      <td>0</td>\n",
              "      <td>0</td>\n",
              "      <td>0</td>\n",
              "      <td>0</td>\n",
              "      <td>0</td>\n",
              "      <td>0</td>\n",
              "      <td>0</td>\n",
              "      <td>0</td>\n",
              "      <td>0</td>\n",
              "      <td>0</td>\n",
              "      <td>0</td>\n",
              "      <td>0</td>\n",
              "      <td>0</td>\n",
              "      <td>0</td>\n",
              "      <td>0</td>\n",
              "      <td>0</td>\n",
              "      <td>1</td>\n",
              "    </tr>\n",
              "    <tr>\n",
              "      <th>1</th>\n",
              "      <td>2</td>\n",
              "      <td>7662</td>\n",
              "      <td>1</td>\n",
              "      <td>5</td>\n",
              "      <td>5</td>\n",
              "      <td>50</td>\n",
              "      <td>13</td>\n",
              "      <td>15</td>\n",
              "      <td>7</td>\n",
              "      <td>25</td>\n",
              "      <td>1</td>\n",
              "      <td>0</td>\n",
              "      <td>0</td>\n",
              "      <td>0</td>\n",
              "      <td>0</td>\n",
              "      <td>0</td>\n",
              "      <td>0</td>\n",
              "      <td>0</td>\n",
              "      <td>0</td>\n",
              "      <td>0</td>\n",
              "      <td>0</td>\n",
              "      <td>0</td>\n",
              "      <td>0</td>\n",
              "      <td>1</td>\n",
              "      <td>0</td>\n",
              "      <td>0</td>\n",
              "      <td>0</td>\n",
              "      <td>0</td>\n",
              "      <td>0</td>\n",
              "      <td>0</td>\n",
              "    </tr>\n",
              "    <tr>\n",
              "      <th>2</th>\n",
              "      <td>2</td>\n",
              "      <td>13882</td>\n",
              "      <td>9</td>\n",
              "      <td>6</td>\n",
              "      <td>9</td>\n",
              "      <td>25</td>\n",
              "      <td>4</td>\n",
              "      <td>25</td>\n",
              "      <td>19</td>\n",
              "      <td>0</td>\n",
              "      <td>0</td>\n",
              "      <td>0</td>\n",
              "      <td>0</td>\n",
              "      <td>1</td>\n",
              "      <td>0</td>\n",
              "      <td>0</td>\n",
              "      <td>0</td>\n",
              "      <td>0</td>\n",
              "      <td>0</td>\n",
              "      <td>0</td>\n",
              "      <td>0</td>\n",
              "      <td>0</td>\n",
              "      <td>1</td>\n",
              "      <td>0</td>\n",
              "      <td>0</td>\n",
              "      <td>1</td>\n",
              "      <td>0</td>\n",
              "      <td>0</td>\n",
              "      <td>0</td>\n",
              "      <td>0</td>\n",
              "    </tr>\n",
              "    <tr>\n",
              "      <th>3</th>\n",
              "      <td>1</td>\n",
              "      <td>6218</td>\n",
              "      <td>12</td>\n",
              "      <td>5</td>\n",
              "      <td>18</td>\n",
              "      <td>5</td>\n",
              "      <td>23</td>\n",
              "      <td>30</td>\n",
              "      <td>5</td>\n",
              "      <td>25</td>\n",
              "      <td>0</td>\n",
              "      <td>0</td>\n",
              "      <td>1</td>\n",
              "      <td>0</td>\n",
              "      <td>0</td>\n",
              "      <td>0</td>\n",
              "      <td>0</td>\n",
              "      <td>0</td>\n",
              "      <td>0</td>\n",
              "      <td>0</td>\n",
              "      <td>0</td>\n",
              "      <td>0</td>\n",
              "      <td>0</td>\n",
              "      <td>1</td>\n",
              "      <td>0</td>\n",
              "      <td>0</td>\n",
              "      <td>0</td>\n",
              "      <td>0</td>\n",
              "      <td>0</td>\n",
              "      <td>0</td>\n",
              "    </tr>\n",
              "    <tr>\n",
              "      <th>4</th>\n",
              "      <td>1</td>\n",
              "      <td>13302</td>\n",
              "      <td>1</td>\n",
              "      <td>3</td>\n",
              "      <td>16</td>\n",
              "      <td>50</td>\n",
              "      <td>21</td>\n",
              "      <td>35</td>\n",
              "      <td>4</td>\n",
              "      <td>45</td>\n",
              "      <td>0</td>\n",
              "      <td>0</td>\n",
              "      <td>1</td>\n",
              "      <td>0</td>\n",
              "      <td>0</td>\n",
              "      <td>0</td>\n",
              "      <td>0</td>\n",
              "      <td>0</td>\n",
              "      <td>0</td>\n",
              "      <td>0</td>\n",
              "      <td>0</td>\n",
              "      <td>0</td>\n",
              "      <td>0</td>\n",
              "      <td>0</td>\n",
              "      <td>0</td>\n",
              "      <td>0</td>\n",
              "      <td>0</td>\n",
              "      <td>0</td>\n",
              "      <td>0</td>\n",
              "      <td>1</td>\n",
              "    </tr>\n",
              "  </tbody>\n",
              "</table>\n",
              "</div>"
            ],
            "text/plain": [
              "   Total_Stops  Price  Journey-Date  Journey-Month  Dep_hour  Dep_min  \\\n",
              "0            0   3897            24              3        22       20   \n",
              "1            2   7662             1              5         5       50   \n",
              "2            2  13882             9              6         9       25   \n",
              "3            1   6218            12              5        18        5   \n",
              "4            1  13302             1              3        16       50   \n",
              "\n",
              "   Arrival_hour  Arrival_minute  Duration_hours  Duration_minutes  Air India  \\\n",
              "0             1              10               2                50          0   \n",
              "1            13              15               7                25          1   \n",
              "2             4              25              19                 0          0   \n",
              "3            23              30               5                25          0   \n",
              "4            21              35               4                45          0   \n",
              "\n",
              "   GoAir  IndiGo  Jet Airways  Jet Airways Business  Multiple carriers  \\\n",
              "0      0       1            0                     0                  0   \n",
              "1      0       0            0                     0                  0   \n",
              "2      0       0            1                     0                  0   \n",
              "3      0       1            0                     0                  0   \n",
              "4      0       1            0                     0                  0   \n",
              "\n",
              "   Multiple carriers Premium economy  SpiceJet  Trujet  Vistara  \\\n",
              "0                                  0         0       0        0   \n",
              "1                                  0         0       0        0   \n",
              "2                                  0         0       0        0   \n",
              "3                                  0         0       0        0   \n",
              "4                                  0         0       0        0   \n",
              "\n",
              "   Vistara Premium economy  Chennai  Delhi  Kolkata  Mumbai  Cochin  Delhi  \\\n",
              "0                        0        0      0        0       0       0      0   \n",
              "1                        0        0      0        1       0       0      0   \n",
              "2                        0        0      1        0       0       1      0   \n",
              "3                        0        0      0        1       0       0      0   \n",
              "4                        0        0      0        0       0       0      0   \n",
              "\n",
              "   Hyderabad  Kolkata  New Delhi  \n",
              "0          0        0          1  \n",
              "1          0        0          0  \n",
              "2          0        0          0  \n",
              "3          0        0          0  \n",
              "4          0        0          1  "
            ]
          },
          "metadata": {
            "tags": []
          },
          "execution_count": 42
        }
      ]
    },
    {
      "cell_type": "code",
      "metadata": {
        "colab": {
          "base_uri": "https://localhost:8080/"
        },
        "id": "bxaOXxPBxgrI",
        "outputId": "318d0994-6e05-489d-88a2-a54b671dca55"
      },
      "source": [
        "data_train.shape"
      ],
      "execution_count": 43,
      "outputs": [
        {
          "output_type": "execute_result",
          "data": {
            "text/plain": [
              "(10682, 30)"
            ]
          },
          "metadata": {
            "tags": []
          },
          "execution_count": 43
        }
      ]
    },
    {
      "cell_type": "code",
      "metadata": {
        "colab": {
          "base_uri": "https://localhost:8080/",
          "height": 518
        },
        "id": "im5viHCAx3Vj",
        "outputId": "90e8070c-227d-43bf-809f-7757a00c6283"
      },
      "source": [
        "test_data=pd.read_excel(\"Test_set.xlsx\")\r\n",
        "test_data.head()"
      ],
      "execution_count": 44,
      "outputs": [
        {
          "output_type": "execute_result",
          "data": {
            "text/html": [
              "<div>\n",
              "<style scoped>\n",
              "    .dataframe tbody tr th:only-of-type {\n",
              "        vertical-align: middle;\n",
              "    }\n",
              "\n",
              "    .dataframe tbody tr th {\n",
              "        vertical-align: top;\n",
              "    }\n",
              "\n",
              "    .dataframe thead th {\n",
              "        text-align: right;\n",
              "    }\n",
              "</style>\n",
              "<table border=\"1\" class=\"dataframe\">\n",
              "  <thead>\n",
              "    <tr style=\"text-align: right;\">\n",
              "      <th></th>\n",
              "      <th>Airline</th>\n",
              "      <th>Date_of_Journey</th>\n",
              "      <th>Source</th>\n",
              "      <th>Destination</th>\n",
              "      <th>Route</th>\n",
              "      <th>Dep_Time</th>\n",
              "      <th>Arrival_Time</th>\n",
              "      <th>Duration</th>\n",
              "      <th>Total_Stops</th>\n",
              "      <th>Additional_Info</th>\n",
              "    </tr>\n",
              "  </thead>\n",
              "  <tbody>\n",
              "    <tr>\n",
              "      <th>0</th>\n",
              "      <td>Jet Airways</td>\n",
              "      <td>6/06/2019</td>\n",
              "      <td>Delhi</td>\n",
              "      <td>Cochin</td>\n",
              "      <td>DEL → BOM → COK</td>\n",
              "      <td>17:30</td>\n",
              "      <td>04:25 07 Jun</td>\n",
              "      <td>10h 55m</td>\n",
              "      <td>1 stop</td>\n",
              "      <td>No info</td>\n",
              "    </tr>\n",
              "    <tr>\n",
              "      <th>1</th>\n",
              "      <td>IndiGo</td>\n",
              "      <td>12/05/2019</td>\n",
              "      <td>Kolkata</td>\n",
              "      <td>Banglore</td>\n",
              "      <td>CCU → MAA → BLR</td>\n",
              "      <td>06:20</td>\n",
              "      <td>10:20</td>\n",
              "      <td>4h</td>\n",
              "      <td>1 stop</td>\n",
              "      <td>No info</td>\n",
              "    </tr>\n",
              "    <tr>\n",
              "      <th>2</th>\n",
              "      <td>Jet Airways</td>\n",
              "      <td>21/05/2019</td>\n",
              "      <td>Delhi</td>\n",
              "      <td>Cochin</td>\n",
              "      <td>DEL → BOM → COK</td>\n",
              "      <td>19:15</td>\n",
              "      <td>19:00 22 May</td>\n",
              "      <td>23h 45m</td>\n",
              "      <td>1 stop</td>\n",
              "      <td>In-flight meal not included</td>\n",
              "    </tr>\n",
              "    <tr>\n",
              "      <th>3</th>\n",
              "      <td>Multiple carriers</td>\n",
              "      <td>21/05/2019</td>\n",
              "      <td>Delhi</td>\n",
              "      <td>Cochin</td>\n",
              "      <td>DEL → BOM → COK</td>\n",
              "      <td>08:00</td>\n",
              "      <td>21:00</td>\n",
              "      <td>13h</td>\n",
              "      <td>1 stop</td>\n",
              "      <td>No info</td>\n",
              "    </tr>\n",
              "    <tr>\n",
              "      <th>4</th>\n",
              "      <td>Air Asia</td>\n",
              "      <td>24/06/2019</td>\n",
              "      <td>Banglore</td>\n",
              "      <td>Delhi</td>\n",
              "      <td>BLR → DEL</td>\n",
              "      <td>23:55</td>\n",
              "      <td>02:45 25 Jun</td>\n",
              "      <td>2h 50m</td>\n",
              "      <td>non-stop</td>\n",
              "      <td>No info</td>\n",
              "    </tr>\n",
              "  </tbody>\n",
              "</table>\n",
              "</div>"
            ],
            "text/plain": [
              "             Airline Date_of_Journey    Source Destination            Route  \\\n",
              "0        Jet Airways       6/06/2019     Delhi      Cochin  DEL → BOM → COK   \n",
              "1             IndiGo      12/05/2019   Kolkata    Banglore  CCU → MAA → BLR   \n",
              "2        Jet Airways      21/05/2019     Delhi      Cochin  DEL → BOM → COK   \n",
              "3  Multiple carriers      21/05/2019     Delhi      Cochin  DEL → BOM → COK   \n",
              "4           Air Asia      24/06/2019  Banglore       Delhi        BLR → DEL   \n",
              "\n",
              "  Dep_Time  Arrival_Time Duration Total_Stops              Additional_Info  \n",
              "0    17:30  04:25 07 Jun  10h 55m      1 stop                      No info  \n",
              "1    06:20         10:20       4h      1 stop                      No info  \n",
              "2    19:15  19:00 22 May  23h 45m      1 stop  In-flight meal not included  \n",
              "3    08:00         21:00      13h      1 stop                      No info  \n",
              "4    23:55  02:45 25 Jun   2h 50m    non-stop                      No info  "
            ]
          },
          "metadata": {
            "tags": []
          },
          "execution_count": 44
        }
      ]
    },
    {
      "cell_type": "code",
      "metadata": {
        "colab": {
          "base_uri": "https://localhost:8080/"
        },
        "id": "tVO1DXtlyGOi",
        "outputId": "58e6b03c-3a63-4ac4-814b-2e04d0a2e7bd"
      },
      "source": [
        "test_data.isnull().sum()"
      ],
      "execution_count": 45,
      "outputs": [
        {
          "output_type": "execute_result",
          "data": {
            "text/plain": [
              "Airline            0\n",
              "Date_of_Journey    0\n",
              "Source             0\n",
              "Destination        0\n",
              "Route              0\n",
              "Dep_Time           0\n",
              "Arrival_Time       0\n",
              "Duration           0\n",
              "Total_Stops        0\n",
              "Additional_Info    0\n",
              "dtype: int64"
            ]
          },
          "metadata": {
            "tags": []
          },
          "execution_count": 45
        }
      ]
    },
    {
      "cell_type": "code",
      "metadata": {
        "colab": {
          "base_uri": "https://localhost:8080/",
          "height": 551
        },
        "id": "F79os1TOyuOV",
        "outputId": "3df77e7c-f7bf-48eb-fcdc-3ebf7a3076bc"
      },
      "source": [
        "test_data['Journey-Date']=pd.to_datetime(test_data['Date_of_Journey'],format=\"%d/%m/%Y\").dt.day\r\n",
        "test_data['Journey-Month']=pd.to_datetime(test_data['Date_of_Journey'],format=\"%d/%m/%Y\").dt.month\r\n",
        "#only one year data taken so no need to extract\r\n",
        "\r\n",
        "test_data.drop('Date_of_Journey',axis=1,inplace=True)\r\n",
        "\r\n",
        "test_data['Dep_hour']=pd.to_datetime(test_data['Dep_Time']).dt.hour\r\n",
        "test_data['Dep_min']=pd.to_datetime(test_data['Dep_Time']).dt.minute\r\n",
        "\r\n",
        "test_data.drop('Dep_Time',axis=1,inplace=True)\r\n",
        "\r\n",
        "test_data['Arrival_hour']=pd.to_datetime(test_data['Arrival_Time']).dt.hour\r\n",
        "test_data['Arrival_minute']=pd.to_datetime(test_data['Arrival_Time']).dt.minute\r\n",
        "\r\n",
        "test_data.drop('Arrival_Time',axis=1,inplace=True)\r\n",
        "\r\n",
        "duration_test=list(test_data['Duration'])\r\n",
        "for i in range(len(duration_test)):\r\n",
        "  if len(duration_test[i].split())!=2:\r\n",
        "    if 'h' in duration_test[i]:\r\n",
        "      duration_test[i]=duration_test[i].strip()+ \" 0m\"\r\n",
        "    else:\r\n",
        "      duration_test[i]=\"0h \" + duration_test[i]\r\n",
        "print(duration_test)\r\n",
        "duration_test_hours=[]\r\n",
        "duration_test_minutes=[]\r\n",
        "\r\n",
        "for i in range(len(duration_test)):\r\n",
        "  duration_test_hours.append(int(duration_test[i].split(sep='h')[0]))\r\n",
        "  duration_test_minutes.append(int(duration_test[i].split(sep='m')[0].split()[-1]))\r\n",
        "\r\n",
        "test_data[\"Duration_hours\"]=duration_test_hours\r\n",
        "test_data[\"Duration_minutes\"]=duration_test_minutes\r\n",
        "\r\n",
        "test_data.drop(\"Duration\",axis=1,inplace=True)\r\n",
        "\r\n",
        "test_data.head()\r\n"
      ],
      "execution_count": 46,
      "outputs": [
        {
          "output_type": "stream",
          "text": [
            "['10h 55m', '4h 0m', '23h 45m', '13h 0m', '2h 50m', '18h 20m', '15h 5m', '5h 15m', '2h 45m', '6h 5m', '28h 55m', '9h 20m', '10h 15m', '4h 40m', '17h 20m', '10h 50m', '9h 15m', '12h 15m', '9h 10m', '9h 20m', '14h 50m', '14h 5m', '11h 35m', '13h 30m', '2h 50m', '12h 25m', '2h 30m', '25h 30m', '19h 25m', '7h 0m', '2h 30m', '11h 40m', '7h 5m', '3h 0m', '1h 25m', '2h 40m', '1h 25m', '6h 5m', '17h 5m', '10h 40m', '2h 30m', '12h 30m', '1h 30m', '23h 40m', '5h 15m', '2h 20m', '23h 35m', '1h 30m', '27h 40m', '13h 30m', '28h 20m', '5h 45m', '26h 25m', '5h 40m', '2h 15m', '2h 55m', '5h 45m', '7h 30m', '5h 20m', '25h 50m', '13h 15m', '26h 20m', '5h 45m', '5h 40m', '2h 40m', '2h 50m', '5h 25m', '8h 45m', '3h 0m', '7h 20m', '1h 30m', '21h 10m', '16h 0m', '7h 50m', '1h 30m', '3h 0m', '2h 50m', '19h 25m', '2h 55m', '14h 5m', '2h 50m', '16h 5m', '5h 55m', '2h 30m', '10h 15m', '13h 50m', '2h 15m', '11h 55m', '2h 30m', '13h 20m', '18h 10m', '28h 10m', '5h 0m', '23h 15m', '1h 15m', '1h 20m', '13h 25m', '6h 15m', '1h 20m', '10h 10m', '4h 35m', '11h 0m', '7h 50m', '12h 20m', '2h 30m', '15h 10m', '1h 30m', '19h 0m', '13h 45m', '12h 20m', '9h 50m', '14h 5m', '2h 35m', '4h 40m', '7h 15m', '23h 0m', '10h 25m', '5h 5m', '22h 45m', '8h 40m', '27h 40m', '11h 30m', '2h 35m', '2h 45m', '5h 15m', '15h 40m', '2h 30m', '2h 35m', '9h 20m', '2h 50m', '8h 40m', '5h 20m', '5h 45m', '2h 30m', '2h 45m', '7h 55m', '19h 25m', '2h 50m', '2h 45m', '12h 50m', '2h 45m', '25h 25m', '10h 20m', '8h 30m', '3h 0m', '12h 45m', '3h 0m', '2h 30m', '12h 10m', '22h 30m', '7h 55m', '7h 45m', '7h 0m', '2h 55m', '2h 30m', '2h 55m', '2h 40m', '2h 50m', '21h 55m', '1h 30m', '3h 0m', '6h 30m', '3h 0m', '2h 35m', '2h 50m', '2h 45m', '26h 20m', '2h 20m', '8h 40m', '2h 25m', '23h 0m', '9h 20m', '2h 55m', '2h 45m', '25h 45m', '2h 30m', '5h 15m', '33h 20m', '15h 40m', '14h 5m', '12h 25m', '1h 30m', '2h 20m', '11h 25m', '10h 15m', '15h 15m', '14h 30m', '8h 0m', '7h 50m', '2h 20m', '13h 0m', '12h 30m', '1h 30m', '10h 40m', '21h 15m', '2h 25m', '26h 50m', '16h 50m', '2h 45m', '9h 5m', '10h 10m', '16h 45m', '22h 30m', '2h 15m', '11h 15m', '2h 40m', '19h 25m', '22h 55m', '11h 35m', '17h 45m', '3h 0m', '23h 10m', '25h 20m', '5h 20m', '7h 45m', '23h 50m', '6h 5m', '14h 25m', '17h 5m', '24h 50m', '2h 50m', '10h 30m', '7h 15m', '2h 20m', '2h 30m', '19h 40m', '2h 35m', '1h 30m', '6h 20m', '16h 45m', '18h 20m', '27h 20m', '1h 25m', '9h 25m', '2h 55m', '5h 10m', '7h 40m', '2h 45m', '6h 35m', '16h 5m', '28h 50m', '13h 0m', '14h 35m', '3h 0m', '10h 25m', '19h 55m', '13h 30m', '2h 40m', '11h 0m', '14h 5m', '23h 0m', '38h 0m', '6h 15m', '4h 45m', '6h 25m', '21h 40m', '9h 5m', '3h 5m', '23h 10m', '4h 55m', '16h 10m', '1h 30m', '3h 0m', '6h 45m', '2h 45m', '2h 50m', '13h 30m', '3h 0m', '7h 5m', '11h 45m', '6h 0m', '22h 25m', '2h 50m', '14h 30m', '6h 25m', '2h 40m', '15h 10m', '19h 10m', '5h 45m', '2h 55m', '10h 25m', '9h 10m', '12h 45m', '24h 0m', '14h 40m', '2h 40m', '2h 55m', '22h 30m', '5h 0m', '15h 40m', '5h 20m', '20h 30m', '23h 40m', '16h 15m', '22h 55m', '8h 15m', '8h 25m', '23h 5m', '19h 30m', '26h 20m', '5h 15m', '2h 50m', '2h 15m', '12h 30m', '25h 10m', '14h 5m', '21h 25m', '1h 30m', '8h 40m', '4h 50m', '2h 50m', '10h 25m', '18h 25m', '9h 50m', '1h 25m', '19h 40m', '6h 20m', '9h 50m', '10h 10m', '4h 5m', '23h 45m', '3h 0m', '15h 5m', '16h 45m', '16h 40m', '2h 25m', '28h 0m', '24h 55m', '10h 25m', '18h 25m', '3h 0m', '2h 50m', '1h 20m', '2h 50m', '5h 5m', '3h 0m', '6h 55m', '28h 10m', '8h 20m', '26h 0m', '2h 55m', '12h 45m', '9h 0m', '1h 20m', '20h 55m', '2h 35m', '23h 20m', '4h 50m', '27h 35m', '8h 25m', '21h 35m', '15h 30m', '12h 20m', '14h 0m', '28h 40m', '14h 45m', '11h 10m', '22h 30m', '6h 15m', '9h 15m', '2h 35m', '4h 35m', '1h 30m', '13h 0m', '16h 5m', '11h 45m', '1h 25m', '12h 25m', '2h 55m', '20h 0m', '2h 55m', '14h 30m', '2h 40m', '2h 35m', '24h 15m', '12h 30m', '12h 0m', '25h 45m', '5h 25m', '8h 40m', '20h 10m', '11h 15m', '14h 0m', '2h 45m', '9h 0m', '14h 30m', '1h 30m', '2h 35m', '2h 30m', '13h 20m', '23h 50m', '12h 0m', '2h 50m', '2h 40m', '27h 45m', '15h 15m', '8h 15m', '2h 55m', '20h 35m', '2h 50m', '11h 5m', '2h 45m', '14h 30m', '2h 30m', '7h 40m', '22h 55m', '2h 35m', '12h 35m', '7h 50m', '12h 15m', '10h 25m', '2h 20m', '25h 0m', '10h 0m', '18h 50m', '2h 50m', '26h 20m', '18h 45m', '13h 0m', '8h 5m', '5h 0m', '4h 25m', '14h 55m', '15h 5m', '22h 5m', '1h 30m', '3h 0m', '2h 40m', '10h 25m', '9h 45m', '25h 55m', '25h 5m', '1h 30m', '2h 25m', '2h 35m', '20h 0m', '4h 10m', '10h 55m', '8h 40m', '8h 40m', '16h 50m', '1h 20m', '9h 35m', '2h 15m', '11h 45m', '9h 20m', '26h 55m', '2h 35m', '11h 50m', '9h 15m', '7h 35m', '17h 5m', '11h 50m', '22h 30m', '5h 35m', '9h 5m', '2h 45m', '5h 45m', '11h 45m', '5h 30m', '35h 35m', '17h 15m', '15h 45m', '12h 45m', '3h 15m', '18h 45m', '20h 55m', '3h 15m', '2h 30m', '16h 25m', '22h 30m', '24h 55m', '2h 20m', '12h 10m', '10h 50m', '10h 25m', '2h 35m', '2h 40m', '27h 35m', '25h 40m', '12h 15m', '11h 30m', '12h 40m', '5h 55m', '16h 0m', '7h 40m', '12h 55m', '10h 35m', '10h 0m', '8h 25m', '5h 10m', '31h 55m', '7h 30m', '8h 40m', '2h 20m', '2h 25m', '23h 10m', '26h 55m', '2h 50m', '9h 50m', '5h 20m', '15h 10m', '8h 0m', '20h 45m', '2h 20m', '21h 25m', '10h 20m', '10h 35m', '2h 30m', '11h 10m', '38h 15m', '6h 0m', '2h 50m', '1h 30m', '10h 20m', '16h 25m', '13h 45m', '6h 20m', '2h 35m', '2h 20m', '3h 5m', '13h 0m', '2h 50m', '6h 0m', '22h 55m', '24h 45m', '1h 35m', '24h 30m', '2h 45m', '1h 30m', '7h 35m', '34h 30m', '6h 20m', '13h 50m', '2h 50m', '17h 20m', '7h 5m', '23h 20m', '2h 45m', '2h 45m', '2h 45m', '2h 25m', '9h 50m', '1h 35m', '21h 55m', '10h 15m', '2h 55m', '12h 15m', '7h 5m', '2h 35m', '1h 25m', '14h 5m', '3h 15m', '5h 30m', '23h 30m', '5h 25m', '1h 35m', '1h 20m', '2h 50m', '2h 55m', '24h 45m', '11h 40m', '7h 35m', '20h 55m', '3h 5m', '23h 30m', '21h 35m', '3h 0m', '10h 15m', '3h 0m', '9h 20m', '10h 35m', '20h 55m', '6h 10m', '13h 20m', '14h 45m', '13h 20m', '22h 5m', '9h 30m', '6h 5m', '2h 40m', '13h 0m', '12h 20m', '12h 20m', '16h 5m', '8h 55m', '6h 30m', '1h 30m', '2h 50m', '2h 50m', '3h 15m', '7h 35m', '1h 25m', '8h 0m', '26h 35m', '14h 30m', '6h 35m', '14h 5m', '8h 40m', '5h 10m', '22h 30m', '11h 15m', '7h 30m', '2h 50m', '2h 15m', '15h 35m', '5h 50m', '5h 30m', '5h 15m', '20h 20m', '23h 55m', '4h 35m', '5h 35m', '12h 10m', '1h 25m', '4h 0m', '2h 50m', '1h 30m', '25h 0m', '14h 30m', '7h 15m', '16h 5m', '6h 0m', '5h 15m', '10h 15m', '12h 0m', '25h 50m', '1h 30m', '22h 10m', '1h 35m', '2h 25m', '5h 15m', '10h 15m', '7h 35m', '20h 15m', '18h 20m', '2h 35m', '10h 15m', '10h 25m', '3h 5m', '14h 5m', '13h 55m', '4h 5m', '4h 5m', '12h 25m', '9h 25m', '2h 15m', '5h 55m', '8h 0m', '2h 45m', '14h 25m', '25h 30m', '6h 35m', '3h 40m', '2h 35m', '9h 50m', '2h 45m', '11h 15m', '7h 15m', '7h 15m', '7h 55m', '2h 45m', '16h 45m', '5h 15m', '33h 15m', '2h 55m', '25h 35m', '2h 20m', '5h 30m', '2h 45m', '12h 50m', '2h 50m', '3h 5m', '26h 25m', '13h 20m', '17h 55m', '3h 0m', '24h 10m', '2h 40m', '18h 20m', '6h 15m', '12h 15m', '3h 40m', '29h 35m', '2h 55m', '14h 5m', '4h 5m', '5h 20m', '12h 40m', '7h 30m', '2h 35m', '19h 25m', '2h 35m', '2h 25m', '6h 35m', '8h 45m', '20h 55m', '27h 5m', '20h 45m', '2h 45m', '8h 55m', '5h 15m', '11h 45m', '15h 45m', '15h 35m', '15h 25m', '23h 50m', '16h 5m', '3h 10m', '13h 35m', '9h 0m', '2h 55m', '19h 25m', '1h 30m', '13h 45m', '2h 30m', '28h 50m', '8h 50m', '5h 45m', '35h 35m', '6h 20m', '6h 40m', '9h 45m', '6h 25m', '20h 0m', '26h 25m', '2h 50m', '10h 0m', '5h 15m', '5h 30m', '2h 50m', '6h 25m', '2h 20m', '2h 25m', '30h 20m', '20h 10m', '6h 25m', '6h 25m', '2h 30m', '2h 20m', '8h 30m', '13h 30m', '8h 30m', '14h 25m', '16h 15m', '6h 20m', '2h 50m', '17h 45m', '15h 55m', '2h 30m', '9h 50m', '10h 25m', '3h 0m', '13h 50m', '3h 5m', '13h 30m', '5h 30m', '16h 25m', '4h 55m', '2h 45m', '2h 50m', '7h 20m', '3h 0m', '2h 45m', '2h 20m', '19h 40m', '16h 25m', '2h 45m', '22h 55m', '1h 20m', '11h 45m', '8h 55m', '13h 20m', '2h 50m', '9h 35m', '2h 45m', '12h 35m', '2h 55m', '21h 55m', '2h 40m', '7h 45m', '10h 15m', '21h 5m', '6h 10m', '26h 40m', '8h 25m', '37h 20m', '3h 40m', '7h 20m', '8h 25m', '21h 10m', '2h 45m', '2h 50m', '29h 20m', '22h 55m', '2h 20m', '14h 30m', '1h 30m', '4h 55m', '2h 55m', '9h 10m', '5h 30m', '27h 5m', '13h 20m', '8h 25m', '22h 30m', '12h 35m', '2h 20m', '6h 25m', '11h 0m', '9h 0m', '8h 30m', '13h 5m', '2h 45m', '11h 45m', '13h 0m', '1h 30m', '12h 10m', '5h 0m', '29h 40m', '10h 40m', '10h 25m', '20h 0m', '10h 5m', '7h 15m', '13h 45m', '2h 25m', '2h 50m', '2h 45m', '13h 25m', '27h 35m', '12h 25m', '21h 35m', '28h 20m', '17h 55m', '8h 50m', '1h 30m', '26h 0m', '10h 20m', '14h 35m', '3h 0m', '2h 20m', '2h 55m', '2h 45m', '25h 45m', '11h 30m', '2h 35m', '3h 0m', '11h 40m', '2h 55m', '4h 30m', '11h 30m', '9h 20m', '2h 50m', '7h 15m', '2h 50m', '26h 20m', '4h 50m', '2h 35m', '2h 50m', '8h 25m', '9h 50m', '18h 20m', '11h 25m', '12h 25m', '8h 45m', '2h 20m', '11h 55m', '26h 20m', '2h 40m', '8h 20m', '5h 35m', '11h 5m', '20h 20m', '2h 25m', '14h 0m', '27h 35m', '33h 15m', '2h 30m', '13h 30m', '6h 30m', '2h 45m', '2h 45m', '2h 55m', '29h 20m', '21h 20m', '2h 45m', '2h 55m', '27h 45m', '13h 10m', '2h 50m', '2h 25m', '8h 5m', '2h 40m', '2h 55m', '22h 30m', '24h 45m', '7h 35m', '2h 45m', '21h 15m', '2h 50m', '16h 0m', '12h 30m', '19h 55m', '13h 20m', '27h 45m', '2h 25m', '2h 35m', '1h 15m', '2h 55m', '23h 30m', '11h 45m', '3h 5m', '2h 35m', '7h 45m', '11h 0m', '9h 45m', '13h 0m', '2h 15m', '5h 55m', '2h 45m', '11h 5m', '2h 30m', '2h 45m', '5h 20m', '24h 50m', '9h 45m', '15h 25m', '4h 30m', '22h 55m', '3h 15m', '5h 40m', '2h 15m', '2h 50m', '7h 15m', '7h 45m', '2h 45m', '17h 35m', '5h 0m', '15h 10m', '8h 25m', '2h 50m', '2h 20m', '9h 0m', '5h 25m', '5h 40m', '2h 50m', '10h 0m', '9h 20m', '3h 0m', '33h 45m', '2h 55m', '10h 30m', '6h 40m', '12h 10m', '2h 40m', '6h 50m', '2h 45m', '5h 0m', '16h 45m', '13h 20m', '5h 10m', '1h 25m', '8h 25m', '2h 35m', '22h 45m', '10h 10m', '2h 45m', '35h 35m', '11h 25m', '2h 45m', '9h 45m', '2h 30m', '1h 20m', '22h 25m', '11h 45m', '1h 30m', '18h 45m', '1h 30m', '13h 20m', '12h 15m', '2h 35m', '9h 30m', '24h 10m', '4h 50m', '15h 15m', '2h 50m', '24h 0m', '26h 10m', '2h 50m', '3h 0m', '15h 55m', '11h 50m', '2h 25m', '9h 20m', '2h 55m', '1h 30m', '8h 30m', '2h 45m', '23h 10m', '2h 50m', '24h 50m', '2h 55m', '5h 55m', '14h 45m', '15h 45m', '9h 45m', '7h 55m', '6h 25m', '2h 35m', '2h 55m', '22h 55m', '14h 35m', '13h 20m', '6h 45m', '22h 10m', '21h 55m', '16h 35m', '2h 50m', '13h 20m', '1h 25m', '2h 55m', '36h 25m', '7h 15m', '4h 35m', '14h 5m', '3h 45m', '1h 25m', '3h 15m', '3h 0m', '2h 15m', '19h 30m', '9h 0m', '11h 45m', '6h 20m', '26h 35m', '14h 0m', '26h 0m', '3h 0m', '20h 10m', '2h 30m', '9h 0m', '8h 30m', '14h 20m', '2h 55m', '2h 30m', '2h 30m', '15h 40m', '10h 35m', '1h 30m', '2h 50m', '1h 30m', '3h 15m', '1h 30m', '7h 50m', '2h 50m', '19h 55m', '12h 50m', '21h 55m', '2h 50m', '3h 10m', '1h 30m', '7h 15m', '14h 5m', '12h 10m', '2h 50m', '3h 0m', '5h 0m', '10h 15m', '2h 50m', '10h 0m', '22h 15m', '7h 45m', '1h 25m', '9h 30m', '16h 50m', '11h 45m', '21h 35m', '1h 25m', '10h 10m', '10h 25m', '3h 0m', '9h 20m', '22h 5m', '3h 0m', '17h 25m', '31h 10m', '5h 20m', '23h 10m', '21h 35m', '17h 25m', '23h 40m', '2h 30m', '6h 50m', '7h 35m', '24h 5m', '3h 0m', '9h 15m', '14h 20m', '2h 30m', '13h 0m', '22h 15m', '2h 45m', '2h 35m', '3h 0m', '5h 45m', '15h 45m', '6h 10m', '22h 25m', '2h 45m', '4h 5m', '5h 5m', '2h 35m', '13h 30m', '15h 30m', '5h 0m', '2h 55m', '23h 40m', '6h 35m', '23h 40m', '33h 15m', '2h 35m', '11h 30m', '1h 30m', '2h 50m', '23h 0m', '2h 20m', '24h 55m', '2h 45m', '2h 15m', '19h 25m', '5h 15m', '3h 15m', '13h 0m', '4h 45m', '12h 35m', '10h 25m', '15h 25m', '4h 50m', '1h 20m', '23h 45m', '13h 55m', '2h 55m', '20h 25m', '1h 20m', '2h 50m', '1h 30m', '1h 30m', '2h 45m', '10h 15m', '2h 35m', '2h 30m', '2h 20m', '24h 45m', '6h 5m', '1h 30m', '12h 10m', '1h 30m', '12h 10m', '2h 50m', '2h 55m', '2h 35m', '21h 25m', '7h 40m', '7h 45m', '3h 0m', '9h 20m', '18h 30m', '1h 15m', '2h 20m', '3h 0m', '2h 45m', '26h 55m', '10h 40m', '26h 15m', '30h 40m', '23h 40m', '2h 20m', '4h 50m', '23h 40m', '10h 30m', '12h 45m', '23h 50m', '3h 0m', '14h 30m', '14h 55m', '26h 15m', '2h 20m', '2h 20m', '1h 25m', '30h 0m', '9h 20m', '2h 40m', '5h 10m', '7h 35m', '3h 0m', '7h 40m', '27h 10m', '2h 30m', '1h 30m', '15h 40m', '13h 20m', '8h 20m', '11h 0m', '7h 45m', '8h 25m', '11h 5m', '24h 45m', '2h 45m', '24h 40m', '2h 55m', '7h 5m', '1h 15m', '27h 5m', '13h 30m', '25h 30m', '15h 30m', '3h 40m', '8h 50m', '15h 20m', '9h 15m', '13h 55m', '2h 30m', '8h 0m', '12h 0m', '13h 30m', '2h 50m', '13h 0m', '11h 0m', '7h 10m', '28h 15m', '5h 50m', '2h 30m', '22h 55m', '10h 30m', '11h 30m', '20h 15m', '15h 25m', '5h 20m', '8h 0m', '2h 40m', '14h 10m', '2h 40m', '26h 20m', '2h 20m', '16h 50m', '11h 15m', '2h 20m', '2h 45m', '9h 30m', '26h 35m', '9h 50m', '8h 0m', '3h 15m', '30h 20m', '6h 35m', '28h 0m', '6h 15m', '2h 15m', '5h 5m', '18h 40m', '23h 30m', '20h 15m', '21h 10m', '3h 0m', '1h 30m', '19h 55m', '12h 10m', '9h 30m', '16h 45m', '13h 20m', '37h 20m', '26h 35m', '8h 0m', '10h 30m', '16h 50m', '8h 0m', '27h 50m', '8h 10m', '39h 5m', '3h 0m', '20h 0m', '8h 15m', '2h 55m', '14h 0m', '13h 30m', '2h 50m', '23h 45m', '6h 35m', '2h 50m', '13h 0m', '1h 30m', '19h 25m', '22h 55m', '7h 30m', '8h 0m', '2h 35m', '7h 30m', '2h 50m', '5h 55m', '1h 30m', '13h 20m', '23h 50m', '16h 15m', '7h 0m', '18h 45m', '5h 15m', '23h 40m', '8h 40m', '13h 20m', '15h 30m', '24h 55m', '12h 45m', '13h 30m', '8h 30m', '2h 50m', '1h 30m', '14h 20m', '22h 10m', '11h 40m', '23h 40m', '2h 45m', '9h 20m', '2h 30m', '2h 30m', '25h 40m', '3h 0m', '10h 30m', '7h 5m', '1h 30m', '2h 35m', '14h 5m', '23h 30m', '10h 0m', '13h 45m', '12h 45m', '28h 40m', '9h 20m', '11h 25m', '16h 20m', '6h 10m', '21h 15m', '27h 10m', '1h 30m', '23h 40m', '28h 15m', '13h 20m', '13h 20m', '12h 30m', '24h 10m', '20h 15m', '7h 35m', '7h 20m', '2h 45m', '14h 50m', '12h 5m', '2h 15m', '13h 15m', '2h 55m', '2h 45m', '25h 25m', '2h 45m', '19h 15m', '1h 30m', '14h 5m', '2h 50m', '1h 30m', '23h 40m', '12h 45m', '23h 50m', '29h 55m', '19h 30m', '1h 30m', '8h 0m', '12h 45m', '11h 30m', '25h 40m', '14h 5m', '25h 45m', '38h 15m', '27h 0m', '30h 45m', '2h 35m', '4h 40m', '16h 50m', '2h 55m', '2h 45m', '9h 30m', '2h 55m', '29h 35m', '2h 30m', '2h 50m', '6h 25m', '4h 50m', '21h 25m', '2h 55m', '7h 20m', '16h 5m', '1h 30m', '8h 40m', '8h 20m', '1h 30m', '2h 35m', '9h 30m', '10h 0m', '3h 0m', '3h 15m', '1h 30m', '6h 0m', '2h 15m', '18h 45m', '2h 50m', '8h 20m', '3h 0m', '6h 25m', '11h 0m', '10h 55m', '2h 35m', '7h 30m', '8h 30m', '9h 30m', '8h 30m', '11h 0m', '2h 35m', '12h 20m', '14h 30m', '10h 50m', '1h 20m', '2h 50m', '2h 50m', '7h 20m', '11h 0m', '24h 0m', '27h 40m', '8h 25m', '6h 30m', '13h 20m', '4h 40m', '2h 55m', '8h 10m', '2h 35m', '2h 35m', '8h 0m', '9h 45m', '2h 55m', '2h 50m', '2h 35m', '2h 50m', '8h 10m', '12h 20m', '6h 20m', '26h 35m', '2h 55m', '2h 15m', '6h 35m', '15h 40m', '29h 5m', '14h 55m', '9h 45m', '21h 15m', '13h 15m', '15h 25m', '15h 25m', '14h 5m', '2h 50m', '2h 45m', '2h 50m', '2h 45m', '12h 0m', '32h 5m', '22h 55m', '14h 50m', '12h 25m', '8h 55m', '13h 30m', '1h 30m', '2h 35m', '2h 55m', '23h 30m', '18h 20m', '26h 35m', '5h 45m', '17h 5m', '13h 25m', '7h 55m', '2h 35m', '2h 30m', '8h 30m', '28h 0m', '15h 55m', '32h 20m', '7h 35m', '9h 0m', '2h 30m', '15h 0m', '1h 30m', '10h 15m', '2h 15m', '17h 25m', '14h 35m', '25h 45m', '22h 25m', '2h 45m', '12h 45m', '21h 15m', '11h 45m', '2h 30m', '12h 30m', '15h 50m', '2h 35m', '7h 35m', '36h 25m', '22h 25m', '14h 25m', '2h 50m', '7h 30m', '9h 30m', '22h 40m', '6h 5m', '4h 25m', '2h 55m', '2h 50m', '2h 20m', '2h 40m', '28h 0m', '11h 30m', '3h 0m', '23h 5m', '3h 0m', '28h 0m', '2h 45m', '2h 55m', '9h 45m', '2h 35m', '5h 20m', '2h 55m', '19h 45m', '21h 40m', '7h 5m', '21h 35m', '3h 0m', '2h 45m', '24h 30m', '4h 30m', '2h 45m', '17h 5m', '8h 40m', '14h 0m', '10h 25m', '7h 50m', '11h 35m', '1h 30m', '9h 0m', '25h 50m', '37h 20m', '17h 15m', '10h 25m', '9h 30m', '5h 30m', '11h 5m', '17h 25m', '6h 35m', '2h 55m', '12h 15m', '20h 55m', '28h 20m', '1h 30m', '7h 15m', '2h 55m', '14h 5m', '18h 10m', '2h 20m', '1h 20m', '27h 35m', '7h 45m', '12h 40m', '5h 15m', '16h 35m', '5h 45m', '30h 30m', '1h 25m', '11h 5m', '18h 45m', '23h 50m', '18h 0m', '28h 5m', '27h 35m', '2h 30m', '1h 30m', '2h 20m', '3h 0m', '2h 55m', '6h 40m', '7h 20m', '2h 50m', '27h 0m', '24h 25m', '13h 10m', '11h 15m', '17h 35m', '2h 35m', '2h 30m', '26h 55m', '18h 50m', '6h 30m', '8h 55m', '5h 20m', '14h 20m', '13h 0m', '10h 50m', '16h 40m', '3h 5m', '7h 45m', '2h 30m', '14h 40m', '1h 25m', '2h 55m', '2h 55m', '5h 15m', '13h 50m', '25h 45m', '2h 55m', '10h 10m', '18h 45m', '1h 30m', '2h 20m', '8h 40m', '3h 0m', '28h 40m', '27h 10m', '21h 25m', '20h 20m', '2h 50m', '11h 30m', '12h 0m', '23h 40m', '15h 25m', '10h 30m', '2h 40m', '26h 40m', '15h 0m', '2h 55m', '3h 0m', '7h 30m', '2h 15m', '22h 5m', '4h 55m', '3h 0m', '28h 40m', '28h 15m', '9h 40m', '2h 50m', '9h 30m', '2h 50m', '3h 0m', '24h 50m', '2h 50m', '2h 25m', '12h 10m', '24h 40m', '24h 35m', '14h 0m', '21h 45m', '1h 30m', '11h 30m', '10h 45m', '3h 0m', '2h 55m', '10h 0m', '6h 35m', '1h 30m', '2h 45m', '17h 40m', '7h 55m', '2h 35m', '9h 30m', '6h 15m', '21h 40m', '20h 20m', '3h 10m', '2h 50m', '2h 30m', '20h 10m', '9h 50m', '27h 20m', '5h 10m', '37h 20m', '4h 0m', '2h 45m', '38h 0m', '23h 20m', '1h 25m', '14h 10m', '1h 30m', '8h 20m', '5h 25m', '1h 30m', '2h 45m', '8h 10m', '2h 30m', '6h 15m', '15h 10m', '2h 50m', '25h 40m', '16h 15m', '1h 30m', '27h 35m', '25h 45m', '13h 30m', '12h 20m', '12h 30m', '10h 15m', '27h 40m', '4h 50m', '2h 55m', '14h 0m', '12h 45m', '1h 30m', '20h 20m', '3h 5m', '2h 20m', '1h 30m', '12h 55m', '6h 30m', '11h 45m', '7h 55m', '6h 0m', '8h 5m', '25h 20m', '7h 5m', '3h 10m', '7h 15m', '1h 35m', '19h 10m', '27h 35m', '5h 0m', '5h 5m', '21h 35m', '30h 20m', '1h 30m', '25h 45m', '8h 30m', '9h 50m', '6h 15m', '23h 5m', '1h 30m', '3h 15m', '16h 30m', '5h 15m', '23h 50m', '13h 15m', '25h 55m', '11h 45m', '19h 55m', '2h 50m', '10h 30m', '18h 25m', '1h 25m', '9h 0m', '27h 55m', '5h 30m', '9h 35m', '12h 35m', '6h 10m', '26h 55m', '3h 0m', '2h 35m', '27h 35m', '1h 30m', '2h 55m', '14h 5m', '8h 10m', '3h 10m', '2h 40m', '2h 35m', '18h 20m', '5h 15m', '10h 25m', '2h 35m', '3h 5m', '1h 30m', '37h 20m', '2h 55m', '16h 20m', '1h 20m', '24h 10m', '2h 30m', '3h 10m', '11h 0m', '6h 30m', '2h 30m', '2h 35m', '29h 35m', '11h 5m', '2h 40m', '5h 45m', '2h 45m', '12h 25m', '18h 45m', '5h 15m', '1h 30m', '2h 55m', '7h 30m', '1h 30m', '13h 0m', '15h 55m', '26h 55m', '25h 45m', '2h 15m', '10h 15m', '7h 35m', '16h 55m', '9h 30m', '27h 35m', '4h 25m', '17h 15m', '9h 0m', '26h 0m', '4h 35m', '2h 40m', '2h 45m', '2h 20m', '7h 45m', '3h 5m', '6h 25m', '17h 25m', '3h 15m', '2h 50m', '2h 50m', '12h 0m', '10h 30m', '9h 50m', '2h 45m', '2h 45m', '13h 50m', '8h 30m', '15h 0m', '2h 20m', '15h 5m', '8h 50m', '5h 45m', '11h 40m', '27h 45m', '2h 45m', '11h 50m', '26h 20m', '11h 35m', '6h 5m', '10h 15m', '22h 45m', '10h 30m', '20h 45m', '23h 30m', '2h 25m', '3h 0m', '2h 30m', '1h 30m', '1h 25m', '11h 0m', '11h 15m', '13h 20m', '23h 50m', '2h 55m', '12h 20m', '2h 45m', '2h 20m', '15h 0m', '13h 20m', '15h 50m', '23h 35m', '2h 50m', '4h 55m', '2h 50m', '2h 55m', '3h 0m', '2h 45m', '18h 20m', '8h 5m', '8h 40m', '9h 20m', '12h 55m', '2h 45m', '1h 30m', '1h 30m', '3h 10m', '1h 30m', '8h 35m', '1h 35m', '15h 55m', '25h 5m', '12h 15m', '24h 0m', '19h 0m', '14h 5m', '26h 35m', '6h 30m', '15h 30m', '21h 35m', '8h 0m', '10h 0m', '2h 25m', '4h 50m', '13h 45m', '19h 40m', '5h 30m', '6h 30m', '2h 50m', '2h 55m', '6h 20m', '1h 30m', '7h 40m', '11h 15m', '2h 20m', '6h 40m', '17h 35m', '2h 50m', '8h 25m', '11h 45m', '36h 25m', '2h 25m', '23h 50m', '20h 0m', '4h 50m', '25h 35m', '6h 25m', '7h 30m', '6h 20m', '14h 55m', '2h 30m', '26h 0m', '6h 35m', '1h 20m', '24h 0m', '9h 35m', '5h 15m', '25h 50m', '2h 55m', '13h 20m', '4h 55m', '1h 30m', '25h 0m', '25h 45m', '11h 0m', '13h 20m', '12h 0m', '38h 15m', '2h 50m', '22h 55m', '1h 25m', '14h 20m', '15h 55m', '17h 5m', '10h 15m', '26h 30m', '11h 15m', '22h 55m', '24h 5m', '12h 10m', '3h 15m', '10h 20m', '3h 0m', '15h 40m', '11h 0m', '4h 40m', '2h 30m', '7h 5m', '3h 5m', '5h 15m', '10h 0m', '14h 20m', '5h 55m', '4h 50m', '6h 40m', '15h 20m', '2h 25m', '18h 20m', '3h 15m', '2h 35m', '5h 0m', '23h 50m', '9h 20m', '7h 15m', '2h 25m', '11h 15m', '2h 50m', '19h 25m', '9h 5m', '8h 20m', '25h 35m', '15h 10m', '3h 0m', '27h 40m', '2h 45m', '17h 5m', '16h 5m', '22h 45m', '2h 30m', '7h 30m', '2h 45m', '22h 30m', '2h 40m', '20h 55m', '30h 25m', '3h 15m', '2h 50m', '2h 50m', '18h 20m', '18h 45m', '15h 10m', '27h 45m', '5h 30m', '7h 35m', '2h 45m', '2h 30m', '2h 45m', '10h 10m', '2h 55m', '2h 50m', '7h 40m', '10h 35m', '5h 30m', '27h 30m', '1h 20m', '2h 20m', '11h 30m', '2h 50m', '4h 5m', '12h 30m', '2h 50m', '14h 30m', '2h 35m', '1h 30m', '1h 25m', '6h 40m', '2h 20m', '2h 45m', '3h 10m', '3h 10m', '2h 55m', '24h 30m', '21h 15m', '16h 5m', '30h 30m', '14h 5m', '7h 15m', '6h 25m', '12h 10m', '3h 0m', '10h 15m', '8h 50m', '2h 25m', '2h 15m', '14h 35m', '13h 20m', '2h 35m', '20h 35m', '2h 45m', '11h 0m', '1h 30m', '28h 50m', '21h 55m', '10h 50m', '1h 30m', '2h 45m', '23h 35m', '13h 30m', '11h 45m', '2h 50m', '1h 30m', '16h 25m', '7h 55m', '5h 45m', '16h 50m', '1h 30m', '2h 55m', '14h 55m', '1h 30m', '12h 45m', '6h 55m', '3h 0m', '17h 35m', '14h 25m', '13h 15m', '30h 0m', '3h 0m', '8h 20m', '24h 50m', '5h 45m', '15h 10m', '2h 30m', '19h 25m', '6h 5m', '1h 30m', '22h 15m', '2h 15m', '13h 50m', '8h 40m', '2h 50m', '27h 35m', '12h 5m', '26h 25m', '26h 5m', '3h 0m', '12h 45m', '1h 30m', '3h 5m', '5h 45m', '2h 30m', '1h 30m', '23h 15m', '6h 25m', '6h 20m', '8h 20m', '6h 35m', '36h 25m', '26h 35m', '24h 40m', '25h 20m', '2h 50m', '27h 45m', '7h 5m', '16h 50m', '2h 30m', '15h 30m', '2h 50m', '22h 55m', '15h 10m', '2h 50m', '2h 55m', '1h 30m', '2h 40m', '23h 35m', '2h 50m', '4h 30m', '2h 15m', '6h 40m', '18h 20m', '2h 50m', '11h 50m', '5h 35m', '20h 0m', '1h 30m', '4h 50m', '2h 50m', '13h 25m', '12h 15m', '2h 20m', '3h 0m', '21h 55m', '7h 35m', '2h 50m', '8h 25m', '2h 45m', '1h 30m', '3h 0m', '10h 5m', '14h 50m', '2h 45m', '7h 20m', '6h 25m', '2h 30m', '11h 0m', '9h 0m', '7h 55m', '12h 0m', '2h 45m', '9h 20m', '22h 55m', '9h 35m', '1h 30m', '8h 0m', '26h 55m', '2h 35m', '12h 30m', '5h 15m', '9h 35m', '7h 30m', '19h 25m', '5h 15m', '8h 10m', '2h 55m', '12h 25m', '27h 10m', '23h 45m', '15h 15m', '10h 0m', '9h 30m', '10h 0m', '6h 20m', '12h 30m', '14h 55m', '2h 25m', '2h 55m', '26h 20m', '25h 45m', '33h 15m', '8h 30m', '1h 25m', '2h 30m', '1h 30m', '11h 25m', '20h 10m', '6h 25m', '5h 30m', '1h 25m', '15h 10m', '2h 50m', '22h 0m', '2h 45m', '7h 15m', '2h 15m', '10h 0m', '25h 0m', '3h 5m', '23h 15m', '3h 10m', '13h 45m', '2h 20m', '2h 50m', '7h 30m', '6h 25m', '11h 30m', '11h 50m', '9h 30m', '2h 35m', '15h 40m', '19h 5m', '5h 45m', '14h 0m', '9h 35m', '9h 10m', '10h 30m', '24h 30m', '2h 55m', '5h 10m', '6h 15m', '10h 0m', '23h 45m', '2h 20m', '13h 15m', '5h 20m', '22h 5m', '12h 30m', '2h 50m', '1h 30m', '21h 25m', '17h 25m', '2h 25m', '16h 0m', '2h 15m', '4h 35m', '15h 20m', '12h 30m', '18h 0m', '5h 15m', '1h 25m', '2h 45m', '6h 40m', '5h 30m', '18h 45m', '2h 45m', '13h 0m', '1h 30m', '1h 30m', '8h 40m', '29h 5m', '2h 15m', '26h 35m', '2h 55m', '3h 40m', '23h 30m', '5h 15m', '13h 30m', '13h 30m', '14h 25m', '11h 5m', '7h 30m', '3h 0m', '9h 30m', '3h 0m', '2h 35m', '2h 40m', '20h 45m', '5h 40m', '8h 10m', '10h 20m', '10h 15m', '1h 30m', '9h 40m', '13h 20m', '20h 55m', '10h 15m', '2h 55m', '30h 30m', '26h 10m', '2h 45m', '7h 20m', '14h 35m', '14h 50m', '12h 10m', '13h 30m', '6h 15m', '5h 50m', '3h 0m', '12h 30m', '2h 50m', '12h 30m', '12h 25m', '24h 40m', '10h 55m', '23h 15m', '1h 30m', '11h 25m', '5h 10m', '26h 55m', '18h 45m', '2h 45m', '2h 15m', '19h 25m', '8h 0m', '11h 20m', '13h 15m', '2h 35m', '26h 20m', '8h 55m', '2h 40m', '26h 0m', '16h 45m', '22h 0m', '2h 35m', '10h 40m', '9h 10m', '12h 25m', '4h 35m', '7h 30m', '3h 0m', '9h 15m', '6h 15m', '3h 0m', '20h 20m', '13h 20m', '13h 20m', '22h 25m', '1h 30m', '4h 45m', '2h 35m', '13h 15m', '7h 35m', '27h 10m', '24h 25m', '16h 55m', '5h 0m', '14h 55m', '3h 0m', '12h 15m', '14h 45m', '2h 35m', '1h 30m', '7h 30m', '40h 40m', '23h 15m', '2h 30m', '10h 30m', '26h 20m', '2h 50m', '22h 45m', '18h 20m', '24h 50m', '2h 20m', '2h 40m', '2h 50m', '2h 50m', '23h 15m', '25h 20m', '18h 0m', '13h 30m', '5h 35m', '12h 0m', '3h 15m', '13h 20m', '2h 55m', '2h 50m', '2h 20m', '2h 45m', '2h 45m', '11h 15m', '26h 5m', '1h 30m', '13h 30m', '12h 10m', '12h 30m', '12h 25m', '9h 45m', '8h 0m', '14h 35m', '8h 25m', '3h 5m', '12h 15m', '1h 20m', '3h 15m', '15h 10m', '25h 30m', '17h 25m', '2h 50m', '26h 30m', '1h 30m', '13h 20m', '9h 20m', '16h 15m', '13h 20m', '8h 35m', '4h 25m', '27h 35m', '1h 30m', '5h 15m', '2h 35m', '13h 15m', '2h 50m', '9h 0m', '8h 20m', '27h 45m', '2h 40m', '17h 5m', '5h 15m', '24h 50m', '7h 35m', '8h 50m', '2h 15m', '22h 5m', '22h 5m', '6h 10m', '10h 25m', '11h 15m', '11h 25m', '2h 50m', '22h 50m', '1h 30m', '8h 25m', '11h 25m', '2h 50m', '15h 55m', '3h 0m', '32h 25m', '2h 50m', '17h 30m', '7h 25m', '1h 20m', '2h 40m', '33h 15m', '27h 0m', '5h 40m', '4h 20m', '3h 0m', '6h 20m', '2h 35m', '11h 0m', '2h 45m', '2h 55m', '15h 25m', '2h 45m', '25h 40m', '11h 5m', '24h 20m', '8h 25m', '11h 55m', '4h 30m', '8h 55m', '2h 40m', '2h 45m', '12h 55m', '9h 15m', '15h 15m', '38h 35m', '9h 55m', '2h 40m', '6h 15m', '22h 5m', '1h 20m', '15h 10m', '5h 5m', '14h 20m', '5h 15m', '2h 55m', '1h 30m', '8h 30m', '3h 5m', '26h 55m', '14h 0m', '7h 35m', '9h 30m', '24h 30m', '5h 30m', '38h 20m', '25h 35m', '30h 40m', '2h 35m', '15h 40m', '2h 55m', '18h 30m', '10h 15m', '2h 50m', '1h 30m', '4h 30m', '9h 45m', '2h 25m', '1h 30m', '4h 55m', '8h 50m', '17h 55m', '21h 15m', '11h 25m', '27h 40m', '2h 40m', '10h 10m', '2h 55m', '9h 20m', '14h 0m', '4h 50m', '5h 15m', '17h 35m', '3h 10m', '18h 25m', '2h 30m', '18h 45m', '16h 15m', '6h 20m', '1h 35m', '26h 55m', '2h 35m', '21h 45m', '19h 55m', '23h 40m', '1h 15m', '9h 0m', '5h 30m', '2h 50m', '21h 15m', '11h 0m', '25h 40m', '2h 15m', '9h 15m', '11h 45m', '14h 55m', '2h 40m', '2h 20m', '24h 45m', '3h 15m', '15h 25m', '2h 20m', '5h 0m', '2h 45m', '2h 35m', '3h 0m', '13h 30m', '2h 15m', '1h 15m', '19h 55m', '2h 50m', '13h 0m', '1h 30m', '12h 30m', '21h 55m', '20h 35m', '15h 10m', '7h 20m', '3h 0m', '2h 50m', '1h 20m', '9h 20m', '5h 0m', '1h 20m', '14h 0m', '2h 35m', '10h 45m', '13h 55m', '20h 10m', '2h 30m', '11h 20m', '15h 5m', '5h 15m', '2h 35m', '12h 10m', '12h 45m', '2h 50m', '2h 35m', '9h 15m', '7h 5m', '13h 55m', '3h 0m', '15h 20m', '2h 45m', '7h 35m', '25h 10m', '10h 15m', '13h 20m', '2h 20m', '2h 55m', '2h 55m', '11h 0m', '12h 15m', '27h 20m', '2h 55m', '13h 30m', '7h 30m', '10h 0m', '8h 35m', '16h 45m', '13h 0m', '2h 35m', '1h 30m', '2h 20m', '13h 50m', '10h 50m', '2h 20m', '2h 50m', '12h 50m', '2h 15m', '3h 15m', '29h 5m', '11h 40m', '6h 40m', '2h 45m', '3h 0m', '20h 15m', '2h 55m', '2h 45m', '2h 45m', '22h 30m', '7h 30m', '2h 40m', '16h 5m', '6h 35m', '1h 30m', '2h 30m', '5h 25m', '7h 20m', '13h 20m', '3h 5m', '12h 45m', '19h 55m', '2h 50m', '11h 30m', '13h 45m', '23h 40m', '11h 30m', '9h 20m', '29h 20m', '16h 10m', '3h 15m', '2h 40m', '27h 5m', '12h 30m', '14h 20m', '6h 5m', '24h 40m', '9h 20m', '12h 10m', '14h 20m', '21h 10m', '7h 5m', '0h 5m', '33h 15m', '1h 30m', '8h 15m', '10h 15m', '1h 30m', '23h 55m', '2h 35m', '6h 35m', '15h 15m', '14h 20m']\n"
          ],
          "name": "stdout"
        },
        {
          "output_type": "execute_result",
          "data": {
            "text/html": [
              "<div>\n",
              "<style scoped>\n",
              "    .dataframe tbody tr th:only-of-type {\n",
              "        vertical-align: middle;\n",
              "    }\n",
              "\n",
              "    .dataframe tbody tr th {\n",
              "        vertical-align: top;\n",
              "    }\n",
              "\n",
              "    .dataframe thead th {\n",
              "        text-align: right;\n",
              "    }\n",
              "</style>\n",
              "<table border=\"1\" class=\"dataframe\">\n",
              "  <thead>\n",
              "    <tr style=\"text-align: right;\">\n",
              "      <th></th>\n",
              "      <th>Airline</th>\n",
              "      <th>Source</th>\n",
              "      <th>Destination</th>\n",
              "      <th>Route</th>\n",
              "      <th>Total_Stops</th>\n",
              "      <th>Additional_Info</th>\n",
              "      <th>Journey-Date</th>\n",
              "      <th>Journey-Month</th>\n",
              "      <th>Dep_hour</th>\n",
              "      <th>Dep_min</th>\n",
              "      <th>Arrival_hour</th>\n",
              "      <th>Arrival_minute</th>\n",
              "      <th>Duration_hours</th>\n",
              "      <th>Duration_minutes</th>\n",
              "    </tr>\n",
              "  </thead>\n",
              "  <tbody>\n",
              "    <tr>\n",
              "      <th>0</th>\n",
              "      <td>Jet Airways</td>\n",
              "      <td>Delhi</td>\n",
              "      <td>Cochin</td>\n",
              "      <td>DEL → BOM → COK</td>\n",
              "      <td>1 stop</td>\n",
              "      <td>No info</td>\n",
              "      <td>6</td>\n",
              "      <td>6</td>\n",
              "      <td>17</td>\n",
              "      <td>30</td>\n",
              "      <td>4</td>\n",
              "      <td>25</td>\n",
              "      <td>10</td>\n",
              "      <td>55</td>\n",
              "    </tr>\n",
              "    <tr>\n",
              "      <th>1</th>\n",
              "      <td>IndiGo</td>\n",
              "      <td>Kolkata</td>\n",
              "      <td>Banglore</td>\n",
              "      <td>CCU → MAA → BLR</td>\n",
              "      <td>1 stop</td>\n",
              "      <td>No info</td>\n",
              "      <td>12</td>\n",
              "      <td>5</td>\n",
              "      <td>6</td>\n",
              "      <td>20</td>\n",
              "      <td>10</td>\n",
              "      <td>20</td>\n",
              "      <td>4</td>\n",
              "      <td>0</td>\n",
              "    </tr>\n",
              "    <tr>\n",
              "      <th>2</th>\n",
              "      <td>Jet Airways</td>\n",
              "      <td>Delhi</td>\n",
              "      <td>Cochin</td>\n",
              "      <td>DEL → BOM → COK</td>\n",
              "      <td>1 stop</td>\n",
              "      <td>In-flight meal not included</td>\n",
              "      <td>21</td>\n",
              "      <td>5</td>\n",
              "      <td>19</td>\n",
              "      <td>15</td>\n",
              "      <td>19</td>\n",
              "      <td>0</td>\n",
              "      <td>23</td>\n",
              "      <td>45</td>\n",
              "    </tr>\n",
              "    <tr>\n",
              "      <th>3</th>\n",
              "      <td>Multiple carriers</td>\n",
              "      <td>Delhi</td>\n",
              "      <td>Cochin</td>\n",
              "      <td>DEL → BOM → COK</td>\n",
              "      <td>1 stop</td>\n",
              "      <td>No info</td>\n",
              "      <td>21</td>\n",
              "      <td>5</td>\n",
              "      <td>8</td>\n",
              "      <td>0</td>\n",
              "      <td>21</td>\n",
              "      <td>0</td>\n",
              "      <td>13</td>\n",
              "      <td>0</td>\n",
              "    </tr>\n",
              "    <tr>\n",
              "      <th>4</th>\n",
              "      <td>Air Asia</td>\n",
              "      <td>Banglore</td>\n",
              "      <td>Delhi</td>\n",
              "      <td>BLR → DEL</td>\n",
              "      <td>non-stop</td>\n",
              "      <td>No info</td>\n",
              "      <td>24</td>\n",
              "      <td>6</td>\n",
              "      <td>23</td>\n",
              "      <td>55</td>\n",
              "      <td>2</td>\n",
              "      <td>45</td>\n",
              "      <td>2</td>\n",
              "      <td>50</td>\n",
              "    </tr>\n",
              "  </tbody>\n",
              "</table>\n",
              "</div>"
            ],
            "text/plain": [
              "             Airline    Source Destination            Route Total_Stops  \\\n",
              "0        Jet Airways     Delhi      Cochin  DEL → BOM → COK      1 stop   \n",
              "1             IndiGo   Kolkata    Banglore  CCU → MAA → BLR      1 stop   \n",
              "2        Jet Airways     Delhi      Cochin  DEL → BOM → COK      1 stop   \n",
              "3  Multiple carriers     Delhi      Cochin  DEL → BOM → COK      1 stop   \n",
              "4           Air Asia  Banglore       Delhi        BLR → DEL    non-stop   \n",
              "\n",
              "               Additional_Info  Journey-Date  Journey-Month  Dep_hour  \\\n",
              "0                      No info             6              6        17   \n",
              "1                      No info            12              5         6   \n",
              "2  In-flight meal not included            21              5        19   \n",
              "3                      No info            21              5         8   \n",
              "4                      No info            24              6        23   \n",
              "\n",
              "   Dep_min  Arrival_hour  Arrival_minute  Duration_hours  Duration_minutes  \n",
              "0       30             4              25              10                55  \n",
              "1       20            10              20               4                 0  \n",
              "2       15            19               0              23                45  \n",
              "3        0            21               0              13                 0  \n",
              "4       55             2              45               2                50  "
            ]
          },
          "metadata": {
            "tags": []
          },
          "execution_count": 46
        }
      ]
    },
    {
      "cell_type": "code",
      "metadata": {
        "id": "-LYp0M9a0Xeg"
      },
      "source": [
        "airline_test_encoded=pd.get_dummies(test_data['Airline'],drop_first=True)\r\n",
        "source_test_encoded=pd.get_dummies(test_data['Source'],drop_first=True)\r\n",
        "destination_test_encoded=pd.get_dummies(test_data['Destination'],drop_first=True)\r\n",
        "\r\n",
        "\r\n",
        "test_data.drop('Route',axis=1,inplace=True)\r\n",
        "test_data.replace({'non-stop':0,\"1 stop\":1,\"2 stops\":2,\"3 stops\":3,\"4 stops\":4},inplace=True)\r\n",
        "test_data.drop('Additional_Info',axis=1,inplace=True)\r\n",
        "\r\n",
        "data_test=pd.concat([test_data,airline_test_encoded,source_test_encoded,destination_test_encoded],axis=1)\r\n",
        "data_test.drop(['Airline','Source','Destination'],axis=1,inplace=True)"
      ],
      "execution_count": 47,
      "outputs": []
    },
    {
      "cell_type": "code",
      "metadata": {
        "colab": {
          "base_uri": "https://localhost:8080/",
          "height": 266
        },
        "id": "rPzIXGq31fk6",
        "outputId": "8871a092-9f6c-440e-de98-c305dbdbbc7e"
      },
      "source": [
        "data_test.head()"
      ],
      "execution_count": 48,
      "outputs": [
        {
          "output_type": "execute_result",
          "data": {
            "text/html": [
              "<div>\n",
              "<style scoped>\n",
              "    .dataframe tbody tr th:only-of-type {\n",
              "        vertical-align: middle;\n",
              "    }\n",
              "\n",
              "    .dataframe tbody tr th {\n",
              "        vertical-align: top;\n",
              "    }\n",
              "\n",
              "    .dataframe thead th {\n",
              "        text-align: right;\n",
              "    }\n",
              "</style>\n",
              "<table border=\"1\" class=\"dataframe\">\n",
              "  <thead>\n",
              "    <tr style=\"text-align: right;\">\n",
              "      <th></th>\n",
              "      <th>Total_Stops</th>\n",
              "      <th>Journey-Date</th>\n",
              "      <th>Journey-Month</th>\n",
              "      <th>Dep_hour</th>\n",
              "      <th>Dep_min</th>\n",
              "      <th>Arrival_hour</th>\n",
              "      <th>Arrival_minute</th>\n",
              "      <th>Duration_hours</th>\n",
              "      <th>Duration_minutes</th>\n",
              "      <th>Air India</th>\n",
              "      <th>GoAir</th>\n",
              "      <th>IndiGo</th>\n",
              "      <th>Jet Airways</th>\n",
              "      <th>Jet Airways Business</th>\n",
              "      <th>Multiple carriers</th>\n",
              "      <th>Multiple carriers Premium economy</th>\n",
              "      <th>SpiceJet</th>\n",
              "      <th>Vistara</th>\n",
              "      <th>Vistara Premium economy</th>\n",
              "      <th>Chennai</th>\n",
              "      <th>Delhi</th>\n",
              "      <th>Kolkata</th>\n",
              "      <th>Mumbai</th>\n",
              "      <th>Cochin</th>\n",
              "      <th>Delhi</th>\n",
              "      <th>Hyderabad</th>\n",
              "      <th>Kolkata</th>\n",
              "      <th>New Delhi</th>\n",
              "    </tr>\n",
              "  </thead>\n",
              "  <tbody>\n",
              "    <tr>\n",
              "      <th>0</th>\n",
              "      <td>1</td>\n",
              "      <td>6</td>\n",
              "      <td>6</td>\n",
              "      <td>17</td>\n",
              "      <td>30</td>\n",
              "      <td>4</td>\n",
              "      <td>25</td>\n",
              "      <td>10</td>\n",
              "      <td>55</td>\n",
              "      <td>0</td>\n",
              "      <td>0</td>\n",
              "      <td>0</td>\n",
              "      <td>1</td>\n",
              "      <td>0</td>\n",
              "      <td>0</td>\n",
              "      <td>0</td>\n",
              "      <td>0</td>\n",
              "      <td>0</td>\n",
              "      <td>0</td>\n",
              "      <td>0</td>\n",
              "      <td>1</td>\n",
              "      <td>0</td>\n",
              "      <td>0</td>\n",
              "      <td>1</td>\n",
              "      <td>0</td>\n",
              "      <td>0</td>\n",
              "      <td>0</td>\n",
              "      <td>0</td>\n",
              "    </tr>\n",
              "    <tr>\n",
              "      <th>1</th>\n",
              "      <td>1</td>\n",
              "      <td>12</td>\n",
              "      <td>5</td>\n",
              "      <td>6</td>\n",
              "      <td>20</td>\n",
              "      <td>10</td>\n",
              "      <td>20</td>\n",
              "      <td>4</td>\n",
              "      <td>0</td>\n",
              "      <td>0</td>\n",
              "      <td>0</td>\n",
              "      <td>1</td>\n",
              "      <td>0</td>\n",
              "      <td>0</td>\n",
              "      <td>0</td>\n",
              "      <td>0</td>\n",
              "      <td>0</td>\n",
              "      <td>0</td>\n",
              "      <td>0</td>\n",
              "      <td>0</td>\n",
              "      <td>0</td>\n",
              "      <td>1</td>\n",
              "      <td>0</td>\n",
              "      <td>0</td>\n",
              "      <td>0</td>\n",
              "      <td>0</td>\n",
              "      <td>0</td>\n",
              "      <td>0</td>\n",
              "    </tr>\n",
              "    <tr>\n",
              "      <th>2</th>\n",
              "      <td>1</td>\n",
              "      <td>21</td>\n",
              "      <td>5</td>\n",
              "      <td>19</td>\n",
              "      <td>15</td>\n",
              "      <td>19</td>\n",
              "      <td>0</td>\n",
              "      <td>23</td>\n",
              "      <td>45</td>\n",
              "      <td>0</td>\n",
              "      <td>0</td>\n",
              "      <td>0</td>\n",
              "      <td>1</td>\n",
              "      <td>0</td>\n",
              "      <td>0</td>\n",
              "      <td>0</td>\n",
              "      <td>0</td>\n",
              "      <td>0</td>\n",
              "      <td>0</td>\n",
              "      <td>0</td>\n",
              "      <td>1</td>\n",
              "      <td>0</td>\n",
              "      <td>0</td>\n",
              "      <td>1</td>\n",
              "      <td>0</td>\n",
              "      <td>0</td>\n",
              "      <td>0</td>\n",
              "      <td>0</td>\n",
              "    </tr>\n",
              "    <tr>\n",
              "      <th>3</th>\n",
              "      <td>1</td>\n",
              "      <td>21</td>\n",
              "      <td>5</td>\n",
              "      <td>8</td>\n",
              "      <td>0</td>\n",
              "      <td>21</td>\n",
              "      <td>0</td>\n",
              "      <td>13</td>\n",
              "      <td>0</td>\n",
              "      <td>0</td>\n",
              "      <td>0</td>\n",
              "      <td>0</td>\n",
              "      <td>0</td>\n",
              "      <td>0</td>\n",
              "      <td>1</td>\n",
              "      <td>0</td>\n",
              "      <td>0</td>\n",
              "      <td>0</td>\n",
              "      <td>0</td>\n",
              "      <td>0</td>\n",
              "      <td>1</td>\n",
              "      <td>0</td>\n",
              "      <td>0</td>\n",
              "      <td>1</td>\n",
              "      <td>0</td>\n",
              "      <td>0</td>\n",
              "      <td>0</td>\n",
              "      <td>0</td>\n",
              "    </tr>\n",
              "    <tr>\n",
              "      <th>4</th>\n",
              "      <td>0</td>\n",
              "      <td>24</td>\n",
              "      <td>6</td>\n",
              "      <td>23</td>\n",
              "      <td>55</td>\n",
              "      <td>2</td>\n",
              "      <td>45</td>\n",
              "      <td>2</td>\n",
              "      <td>50</td>\n",
              "      <td>0</td>\n",
              "      <td>0</td>\n",
              "      <td>0</td>\n",
              "      <td>0</td>\n",
              "      <td>0</td>\n",
              "      <td>0</td>\n",
              "      <td>0</td>\n",
              "      <td>0</td>\n",
              "      <td>0</td>\n",
              "      <td>0</td>\n",
              "      <td>0</td>\n",
              "      <td>0</td>\n",
              "      <td>0</td>\n",
              "      <td>0</td>\n",
              "      <td>0</td>\n",
              "      <td>1</td>\n",
              "      <td>0</td>\n",
              "      <td>0</td>\n",
              "      <td>0</td>\n",
              "    </tr>\n",
              "  </tbody>\n",
              "</table>\n",
              "</div>"
            ],
            "text/plain": [
              "   Total_Stops  Journey-Date  Journey-Month  Dep_hour  Dep_min  Arrival_hour  \\\n",
              "0            1             6              6        17       30             4   \n",
              "1            1            12              5         6       20            10   \n",
              "2            1            21              5        19       15            19   \n",
              "3            1            21              5         8        0            21   \n",
              "4            0            24              6        23       55             2   \n",
              "\n",
              "   Arrival_minute  Duration_hours  Duration_minutes  Air India  GoAir  IndiGo  \\\n",
              "0              25              10                55          0      0       0   \n",
              "1              20               4                 0          0      0       1   \n",
              "2               0              23                45          0      0       0   \n",
              "3               0              13                 0          0      0       0   \n",
              "4              45               2                50          0      0       0   \n",
              "\n",
              "   Jet Airways  Jet Airways Business  Multiple carriers  \\\n",
              "0            1                     0                  0   \n",
              "1            0                     0                  0   \n",
              "2            1                     0                  0   \n",
              "3            0                     0                  1   \n",
              "4            0                     0                  0   \n",
              "\n",
              "   Multiple carriers Premium economy  SpiceJet  Vistara  \\\n",
              "0                                  0         0        0   \n",
              "1                                  0         0        0   \n",
              "2                                  0         0        0   \n",
              "3                                  0         0        0   \n",
              "4                                  0         0        0   \n",
              "\n",
              "   Vistara Premium economy  Chennai  Delhi  Kolkata  Mumbai  Cochin  Delhi  \\\n",
              "0                        0        0      1        0       0       1      0   \n",
              "1                        0        0      0        1       0       0      0   \n",
              "2                        0        0      1        0       0       1      0   \n",
              "3                        0        0      1        0       0       1      0   \n",
              "4                        0        0      0        0       0       0      1   \n",
              "\n",
              "   Hyderabad  Kolkata  New Delhi  \n",
              "0          0        0          0  \n",
              "1          0        0          0  \n",
              "2          0        0          0  \n",
              "3          0        0          0  \n",
              "4          0        0          0  "
            ]
          },
          "metadata": {
            "tags": []
          },
          "execution_count": 48
        }
      ]
    },
    {
      "cell_type": "code",
      "metadata": {
        "colab": {
          "base_uri": "https://localhost:8080/",
          "height": 266
        },
        "id": "HCzBiVYH1hfX",
        "outputId": "4b886a52-47c9-4489-b1df-6c712f9bb515"
      },
      "source": [
        "X=data_train.drop('Price',axis=1)\r\n",
        "Y=data_train['Price']\r\n",
        "X.head()"
      ],
      "execution_count": 49,
      "outputs": [
        {
          "output_type": "execute_result",
          "data": {
            "text/html": [
              "<div>\n",
              "<style scoped>\n",
              "    .dataframe tbody tr th:only-of-type {\n",
              "        vertical-align: middle;\n",
              "    }\n",
              "\n",
              "    .dataframe tbody tr th {\n",
              "        vertical-align: top;\n",
              "    }\n",
              "\n",
              "    .dataframe thead th {\n",
              "        text-align: right;\n",
              "    }\n",
              "</style>\n",
              "<table border=\"1\" class=\"dataframe\">\n",
              "  <thead>\n",
              "    <tr style=\"text-align: right;\">\n",
              "      <th></th>\n",
              "      <th>Total_Stops</th>\n",
              "      <th>Journey-Date</th>\n",
              "      <th>Journey-Month</th>\n",
              "      <th>Dep_hour</th>\n",
              "      <th>Dep_min</th>\n",
              "      <th>Arrival_hour</th>\n",
              "      <th>Arrival_minute</th>\n",
              "      <th>Duration_hours</th>\n",
              "      <th>Duration_minutes</th>\n",
              "      <th>Air India</th>\n",
              "      <th>GoAir</th>\n",
              "      <th>IndiGo</th>\n",
              "      <th>Jet Airways</th>\n",
              "      <th>Jet Airways Business</th>\n",
              "      <th>Multiple carriers</th>\n",
              "      <th>Multiple carriers Premium economy</th>\n",
              "      <th>SpiceJet</th>\n",
              "      <th>Trujet</th>\n",
              "      <th>Vistara</th>\n",
              "      <th>Vistara Premium economy</th>\n",
              "      <th>Chennai</th>\n",
              "      <th>Delhi</th>\n",
              "      <th>Kolkata</th>\n",
              "      <th>Mumbai</th>\n",
              "      <th>Cochin</th>\n",
              "      <th>Delhi</th>\n",
              "      <th>Hyderabad</th>\n",
              "      <th>Kolkata</th>\n",
              "      <th>New Delhi</th>\n",
              "    </tr>\n",
              "  </thead>\n",
              "  <tbody>\n",
              "    <tr>\n",
              "      <th>0</th>\n",
              "      <td>0</td>\n",
              "      <td>24</td>\n",
              "      <td>3</td>\n",
              "      <td>22</td>\n",
              "      <td>20</td>\n",
              "      <td>1</td>\n",
              "      <td>10</td>\n",
              "      <td>2</td>\n",
              "      <td>50</td>\n",
              "      <td>0</td>\n",
              "      <td>0</td>\n",
              "      <td>1</td>\n",
              "      <td>0</td>\n",
              "      <td>0</td>\n",
              "      <td>0</td>\n",
              "      <td>0</td>\n",
              "      <td>0</td>\n",
              "      <td>0</td>\n",
              "      <td>0</td>\n",
              "      <td>0</td>\n",
              "      <td>0</td>\n",
              "      <td>0</td>\n",
              "      <td>0</td>\n",
              "      <td>0</td>\n",
              "      <td>0</td>\n",
              "      <td>0</td>\n",
              "      <td>0</td>\n",
              "      <td>0</td>\n",
              "      <td>1</td>\n",
              "    </tr>\n",
              "    <tr>\n",
              "      <th>1</th>\n",
              "      <td>2</td>\n",
              "      <td>1</td>\n",
              "      <td>5</td>\n",
              "      <td>5</td>\n",
              "      <td>50</td>\n",
              "      <td>13</td>\n",
              "      <td>15</td>\n",
              "      <td>7</td>\n",
              "      <td>25</td>\n",
              "      <td>1</td>\n",
              "      <td>0</td>\n",
              "      <td>0</td>\n",
              "      <td>0</td>\n",
              "      <td>0</td>\n",
              "      <td>0</td>\n",
              "      <td>0</td>\n",
              "      <td>0</td>\n",
              "      <td>0</td>\n",
              "      <td>0</td>\n",
              "      <td>0</td>\n",
              "      <td>0</td>\n",
              "      <td>0</td>\n",
              "      <td>1</td>\n",
              "      <td>0</td>\n",
              "      <td>0</td>\n",
              "      <td>0</td>\n",
              "      <td>0</td>\n",
              "      <td>0</td>\n",
              "      <td>0</td>\n",
              "    </tr>\n",
              "    <tr>\n",
              "      <th>2</th>\n",
              "      <td>2</td>\n",
              "      <td>9</td>\n",
              "      <td>6</td>\n",
              "      <td>9</td>\n",
              "      <td>25</td>\n",
              "      <td>4</td>\n",
              "      <td>25</td>\n",
              "      <td>19</td>\n",
              "      <td>0</td>\n",
              "      <td>0</td>\n",
              "      <td>0</td>\n",
              "      <td>0</td>\n",
              "      <td>1</td>\n",
              "      <td>0</td>\n",
              "      <td>0</td>\n",
              "      <td>0</td>\n",
              "      <td>0</td>\n",
              "      <td>0</td>\n",
              "      <td>0</td>\n",
              "      <td>0</td>\n",
              "      <td>0</td>\n",
              "      <td>1</td>\n",
              "      <td>0</td>\n",
              "      <td>0</td>\n",
              "      <td>1</td>\n",
              "      <td>0</td>\n",
              "      <td>0</td>\n",
              "      <td>0</td>\n",
              "      <td>0</td>\n",
              "    </tr>\n",
              "    <tr>\n",
              "      <th>3</th>\n",
              "      <td>1</td>\n",
              "      <td>12</td>\n",
              "      <td>5</td>\n",
              "      <td>18</td>\n",
              "      <td>5</td>\n",
              "      <td>23</td>\n",
              "      <td>30</td>\n",
              "      <td>5</td>\n",
              "      <td>25</td>\n",
              "      <td>0</td>\n",
              "      <td>0</td>\n",
              "      <td>1</td>\n",
              "      <td>0</td>\n",
              "      <td>0</td>\n",
              "      <td>0</td>\n",
              "      <td>0</td>\n",
              "      <td>0</td>\n",
              "      <td>0</td>\n",
              "      <td>0</td>\n",
              "      <td>0</td>\n",
              "      <td>0</td>\n",
              "      <td>0</td>\n",
              "      <td>1</td>\n",
              "      <td>0</td>\n",
              "      <td>0</td>\n",
              "      <td>0</td>\n",
              "      <td>0</td>\n",
              "      <td>0</td>\n",
              "      <td>0</td>\n",
              "    </tr>\n",
              "    <tr>\n",
              "      <th>4</th>\n",
              "      <td>1</td>\n",
              "      <td>1</td>\n",
              "      <td>3</td>\n",
              "      <td>16</td>\n",
              "      <td>50</td>\n",
              "      <td>21</td>\n",
              "      <td>35</td>\n",
              "      <td>4</td>\n",
              "      <td>45</td>\n",
              "      <td>0</td>\n",
              "      <td>0</td>\n",
              "      <td>1</td>\n",
              "      <td>0</td>\n",
              "      <td>0</td>\n",
              "      <td>0</td>\n",
              "      <td>0</td>\n",
              "      <td>0</td>\n",
              "      <td>0</td>\n",
              "      <td>0</td>\n",
              "      <td>0</td>\n",
              "      <td>0</td>\n",
              "      <td>0</td>\n",
              "      <td>0</td>\n",
              "      <td>0</td>\n",
              "      <td>0</td>\n",
              "      <td>0</td>\n",
              "      <td>0</td>\n",
              "      <td>0</td>\n",
              "      <td>1</td>\n",
              "    </tr>\n",
              "  </tbody>\n",
              "</table>\n",
              "</div>"
            ],
            "text/plain": [
              "   Total_Stops  Journey-Date  Journey-Month  Dep_hour  Dep_min  Arrival_hour  \\\n",
              "0            0            24              3        22       20             1   \n",
              "1            2             1              5         5       50            13   \n",
              "2            2             9              6         9       25             4   \n",
              "3            1            12              5        18        5            23   \n",
              "4            1             1              3        16       50            21   \n",
              "\n",
              "   Arrival_minute  Duration_hours  Duration_minutes  Air India  GoAir  IndiGo  \\\n",
              "0              10               2                50          0      0       1   \n",
              "1              15               7                25          1      0       0   \n",
              "2              25              19                 0          0      0       0   \n",
              "3              30               5                25          0      0       1   \n",
              "4              35               4                45          0      0       1   \n",
              "\n",
              "   Jet Airways  Jet Airways Business  Multiple carriers  \\\n",
              "0            0                     0                  0   \n",
              "1            0                     0                  0   \n",
              "2            1                     0                  0   \n",
              "3            0                     0                  0   \n",
              "4            0                     0                  0   \n",
              "\n",
              "   Multiple carriers Premium economy  SpiceJet  Trujet  Vistara  \\\n",
              "0                                  0         0       0        0   \n",
              "1                                  0         0       0        0   \n",
              "2                                  0         0       0        0   \n",
              "3                                  0         0       0        0   \n",
              "4                                  0         0       0        0   \n",
              "\n",
              "   Vistara Premium economy  Chennai  Delhi  Kolkata  Mumbai  Cochin  Delhi  \\\n",
              "0                        0        0      0        0       0       0      0   \n",
              "1                        0        0      0        1       0       0      0   \n",
              "2                        0        0      1        0       0       1      0   \n",
              "3                        0        0      0        1       0       0      0   \n",
              "4                        0        0      0        0       0       0      0   \n",
              "\n",
              "   Hyderabad  Kolkata  New Delhi  \n",
              "0          0        0          1  \n",
              "1          0        0          0  \n",
              "2          0        0          0  \n",
              "3          0        0          0  \n",
              "4          0        0          1  "
            ]
          },
          "metadata": {
            "tags": []
          },
          "execution_count": 49
        }
      ]
    },
    {
      "cell_type": "code",
      "metadata": {
        "colab": {
          "base_uri": "https://localhost:8080/"
        },
        "id": "YkQA9VaQ3ls-",
        "outputId": "19261c0c-9877-45c2-c449-4bd21422aabe"
      },
      "source": [
        "Y.head()"
      ],
      "execution_count": 50,
      "outputs": [
        {
          "output_type": "execute_result",
          "data": {
            "text/plain": [
              "0     3897\n",
              "1     7662\n",
              "2    13882\n",
              "3     6218\n",
              "4    13302\n",
              "Name: Price, dtype: int64"
            ]
          },
          "metadata": {
            "tags": []
          },
          "execution_count": 50
        }
      ]
    },
    {
      "cell_type": "code",
      "metadata": {
        "colab": {
          "base_uri": "https://localhost:8080/",
          "height": 767
        },
        "id": "-sN8phxv3rT-",
        "outputId": "68e54406-e802-479f-8abb-f66eebfa7faa"
      },
      "source": [
        "plt.figure(figsize=(18,18))\r\n",
        "sns.heatmap(train_data.corr(),annot=True)\r\n",
        "plt.show()"
      ],
      "execution_count": 51,
      "outputs": [
        {
          "output_type": "display_data",
          "data": {
            "image/png": "[encoded data removed]",
            "text/plain": [
              "<Figure size 1296x1296 with 2 Axes>"
            ]
          },
          "metadata": {
            "tags": [],
            "needs_background": "light"
          }
        }
      ]
    },
    {
      "cell_type": "code",
      "metadata": {
        "colab": {
          "base_uri": "https://localhost:8080/"
        },
        "id": "Z5YODYni34qD",
        "outputId": "08cf4f46-a714-4aab-90ee-f19cf3793509"
      },
      "source": [
        "from sklearn.ensemble import ExtraTreesRegressor\r\n",
        "selection=ExtraTreesRegressor()\r\n",
        "selection.fit(X,Y)"
      ],
      "execution_count": 52,
      "outputs": [
        {
          "output_type": "execute_result",
          "data": {
            "text/plain": [
              "ExtraTreesRegressor(bootstrap=False, ccp_alpha=0.0, criterion='mse',\n",
              "                    max_depth=None, max_features='auto', max_leaf_nodes=None,\n",
              "                    max_samples=None, min_impurity_decrease=0.0,\n",
              "                    min_impurity_split=None, min_samples_leaf=1,\n",
              "                    min_samples_split=2, min_weight_fraction_leaf=0.0,\n",
              "                    n_estimators=100, n_jobs=None, oob_score=False,\n",
              "                    random_state=None, verbose=0, warm_start=False)"
            ]
          },
          "metadata": {
            "tags": []
          },
          "execution_count": 52
        }
      ]
    },
    {
      "cell_type": "code",
      "metadata": {
        "colab": {
          "base_uri": "https://localhost:8080/",
          "height": 370
        },
        "id": "oAi2uqAR6C8C",
        "outputId": "79d03572-1f61-4e20-985a-91c7731044f8"
      },
      "source": [
        " plt.figure(figsize=(12,8))\r\n",
        " s=pd.Series(selection.feature_importances_,index=X.columns)\r\n",
        "s.plot(kind='barh')\r\n",
        "plt.show()"
      ],
      "execution_count": 53,
      "outputs": [
        {
          "output_type": "display_data",
          "data": {
            "image/png": "[encoded data removed]",
            "text/plain": [
              "<Figure size 864x576 with 1 Axes>"
            ]
          },
          "metadata": {
            "tags": [],
            "needs_background": "light"
          }
        }
      ]
    },
    {
      "cell_type": "code",
      "metadata": {
        "id": "GQMkMf0f7FV4"
      },
      "source": [
        "from sklearn.model_selection import train_test_split\r\n",
        "X_train,X_test,y_train,y_test= train_test_split(X,Y,test_size=0.2,random_state=42)\r\n"
      ],
      "execution_count": 54,
      "outputs": []
    },
    {
      "cell_type": "code",
      "metadata": {
        "colab": {
          "base_uri": "https://localhost:8080/"
        },
        "id": "Wbyt91-W76dE",
        "outputId": "cacb29c8-0fc2-470f-cc27-73be4773e924"
      },
      "source": [
        "from sklearn.ensemble import RandomForestRegressor\r\n",
        "reg_rf=RandomForestRegressor()\r\n",
        "reg_rf.fit(X_train,y_train)"
      ],
      "execution_count": 55,
      "outputs": [
        {
          "output_type": "execute_result",
          "data": {
            "text/plain": [
              "RandomForestRegressor(bootstrap=True, ccp_alpha=0.0, criterion='mse',\n",
              "                      max_depth=None, max_features='auto', max_leaf_nodes=None,\n",
              "                      max_samples=None, min_impurity_decrease=0.0,\n",
              "                      min_impurity_split=None, min_samples_leaf=1,\n",
              "                      min_samples_split=2, min_weight_fraction_leaf=0.0,\n",
              "                      n_estimators=100, n_jobs=None, oob_score=False,\n",
              "                      random_state=None, verbose=0, warm_start=False)"
            ]
          },
          "metadata": {
            "tags": []
          },
          "execution_count": 55
        }
      ]
    },
    {
      "cell_type": "code",
      "metadata": {
        "id": "TO8X54Zv9MLb"
      },
      "source": [
        "y_pred=reg_rf.predict(X_test)"
      ],
      "execution_count": 56,
      "outputs": []
    },
    {
      "cell_type": "code",
      "metadata": {
        "colab": {
          "base_uri": "https://localhost:8080/"
        },
        "id": "IgGBiacE9XwJ",
        "outputId": "9248cb5d-af3d-45ff-ff3a-12789411c8d6"
      },
      "source": [
        "reg_rf.score(X_train,y_train)"
      ],
      "execution_count": 57,
      "outputs": [
        {
          "output_type": "execute_result",
          "data": {
            "text/plain": [
              "0.9532320741921679"
            ]
          },
          "metadata": {
            "tags": []
          },
          "execution_count": 57
        }
      ]
    },
    {
      "cell_type": "code",
      "metadata": {
        "colab": {
          "base_uri": "https://localhost:8080/"
        },
        "id": "0IL21l6Z9jUu",
        "outputId": "1ac53284-fe00-4237-caf5-354f7ddf115b"
      },
      "source": [
        "reg_rf.score(X_test,y_test)"
      ],
      "execution_count": 58,
      "outputs": [
        {
          "output_type": "execute_result",
          "data": {
            "text/plain": [
              "0.7976548898339006"
            ]
          },
          "metadata": {
            "tags": []
          },
          "execution_count": 58
        }
      ]
    },
    {
      "cell_type": "code",
      "metadata": {
        "colab": {
          "base_uri": "https://localhost:8080/",
          "height": 333
        },
        "id": "-Lf_05Na9n99",
        "outputId": "284d5395-3538-41dc-8313-a78d15b10287"
      },
      "source": [
        "sns.distplot(y_test-y_pred)\r\n",
        "plt.show()"
      ],
      "execution_count": 59,
      "outputs": [
        {
          "output_type": "stream",
          "text": [
            "/usr/local/lib/python3.6/dist-packages/seaborn/distributions.py:2557: FutureWarning: `distplot` is a deprecated function and will be removed in a future version. Please adapt your code to use either `displot` (a figure-level function with similar flexibility) or `histplot` (an axes-level function for histograms).\n",
            "  warnings.warn(msg, FutureWarning)\n"
          ],
          "name": "stderr"
        },
        {
          "output_type": "display_data",
          "data": {
            "image/png": "[encoded data removed]",
            "text/plain": [
              "<Figure size 432x288 with 1 Axes>"
            ]
          },
          "metadata": {
            "tags": [],
            "needs_background": "light"
          }
        }
      ]
    },
    {
      "cell_type": "code",
      "metadata": {
        "colab": {
          "base_uri": "https://localhost:8080/"
        },
        "id": "_S0hqYBv97LE",
        "outputId": "66e8ff97-4468-4e14-82ff-93b26304a890"
      },
      "source": [
        "from sklearn import metrics\r\n",
        "metrics.mean_squared_error(y_test,y_pred)"
      ],
      "execution_count": 60,
      "outputs": [
        {
          "output_type": "execute_result",
          "data": {
            "text/plain": [
              "4362976.662320157"
            ]
          },
          "metadata": {
            "tags": []
          },
          "execution_count": 60
        }
      ]
    },
    {
      "cell_type": "code",
      "metadata": {
        "id": "kQgbpYPH-P1E"
      },
      "source": [
        "from sklearn.model_selection import RandomizedSearchCV"
      ],
      "execution_count": 61,
      "outputs": []
    },
    {
      "cell_type": "code",
      "metadata": {
        "id": "KZWBumG15ohi"
      },
      "source": [
        "max_features=['auto','sqrt']\r\n",
        "n_estimators=[int(x) for x in np.linspace(start=100,stop=1200,num=12)]\r\n",
        "max_depth=[int(x) for x in np.linspace(5,30,5)]\r\n",
        "min_samples_split=[2,5,10,15,50,100]\r\n",
        "min_samples_leaf=[1,2,5,10]"
      ],
      "execution_count": 63,
      "outputs": []
    },
    {
      "cell_type": "code",
      "metadata": {
        "id": "QHWfEaYl6d9y"
      },
      "source": [
        "random_grid={'n_estimators':n_estimators,\r\n",
        "              'max_features':max_features,\r\n",
        "              'max_depth':max_depth,\r\n",
        "              'min_samples_split':min_samples_split,\r\n",
        "              'min_samples_leaf':min_samples_leaf}"
      ],
      "execution_count": 66,
      "outputs": []
    },
    {
      "cell_type": "code",
      "metadata": {
        "id": "4_wCzLdK69jS"
      },
      "source": [
        "rf_random=RandomizedSearchCV(estimator=reg_rf,param_distributions=random_grid,n_iter=10,cv=5,verbose=2,scoring='neg_mean_squared_error',random_state=42,n_jobs=1)"
      ],
      "execution_count": 70,
      "outputs": []
    },
    {
      "cell_type": "code",
      "metadata": {
        "colab": {
          "base_uri": "https://localhost:8080/"
        },
        "id": "5jsa-QpP7yf0",
        "outputId": "8a1b3da7-9e82-4783-f1c7-e376820368d3"
      },
      "source": [
        "rf_random.fit(X_train,y_train)"
      ],
      "execution_count": 71,
      "outputs": [
        {
          "output_type": "stream",
          "text": [
            "Fitting 5 folds for each of 10 candidates, totalling 50 fits\n",
            "[CV] n_estimators=900, min_samples_split=100, min_samples_leaf=10, max_features=auto, max_depth=11 \n"
          ],
          "name": "stdout"
        },
        {
          "output_type": "stream",
          "text": [
            "[Parallel(n_jobs=1)]: Using backend SequentialBackend with 1 concurrent workers.\n"
          ],
          "name": "stderr"
        },
        {
          "output_type": "stream",
          "text": [
            "[CV]  n_estimators=900, min_samples_split=100, min_samples_leaf=10, max_features=auto, max_depth=11, total=  13.0s\n",
            "[CV] n_estimators=900, min_samples_split=100, min_samples_leaf=10, max_features=auto, max_depth=11 \n"
          ],
          "name": "stdout"
        },
        {
          "output_type": "stream",
          "text": [
            "[Parallel(n_jobs=1)]: Done   1 out of   1 | elapsed:   13.0s remaining:    0.0s\n"
          ],
          "name": "stderr"
        },
        {
          "output_type": "stream",
          "text": [
            "[CV]  n_estimators=900, min_samples_split=100, min_samples_leaf=10, max_features=auto, max_depth=11, total=  12.4s\n",
            "[CV] n_estimators=900, min_samples_split=100, min_samples_leaf=10, max_features=auto, max_depth=11 \n",
            "[CV]  n_estimators=900, min_samples_split=100, min_samples_leaf=10, max_features=auto, max_depth=11, total=  12.4s\n",
            "[CV] n_estimators=900, min_samples_split=100, min_samples_leaf=10, max_features=auto, max_depth=11 \n",
            "[CV]  n_estimators=900, min_samples_split=100, min_samples_leaf=10, max_features=auto, max_depth=11, total=  12.5s\n",
            "[CV] n_estimators=900, min_samples_split=100, min_samples_leaf=10, max_features=auto, max_depth=11 \n",
            "[CV]  n_estimators=900, min_samples_split=100, min_samples_leaf=10, max_features=auto, max_depth=11, total=  12.2s\n",
            "[CV] n_estimators=1100, min_samples_split=100, min_samples_leaf=2, max_features=auto, max_depth=17 \n",
            "[CV]  n_estimators=1100, min_samples_split=100, min_samples_leaf=2, max_features=auto, max_depth=17, total=  16.8s\n",
            "[CV] n_estimators=1100, min_samples_split=100, min_samples_leaf=2, max_features=auto, max_depth=17 \n",
            "[CV]  n_estimators=1100, min_samples_split=100, min_samples_leaf=2, max_features=auto, max_depth=17, total=  16.2s\n",
            "[CV] n_estimators=1100, min_samples_split=100, min_samples_leaf=2, max_features=auto, max_depth=17 \n",
            "[CV]  n_estimators=1100, min_samples_split=100, min_samples_leaf=2, max_features=auto, max_depth=17, total=  15.9s\n",
            "[CV] n_estimators=1100, min_samples_split=100, min_samples_leaf=2, max_features=auto, max_depth=17 \n",
            "[CV]  n_estimators=1100, min_samples_split=100, min_samples_leaf=2, max_features=auto, max_depth=17, total=  16.1s\n",
            "[CV] n_estimators=1100, min_samples_split=100, min_samples_leaf=2, max_features=auto, max_depth=17 \n",
            "[CV]  n_estimators=1100, min_samples_split=100, min_samples_leaf=2, max_features=auto, max_depth=17, total=  16.3s\n",
            "[CV] n_estimators=300, min_samples_split=50, min_samples_leaf=10, max_features=sqrt, max_depth=11 \n",
            "[CV]  n_estimators=300, min_samples_split=50, min_samples_leaf=10, max_features=sqrt, max_depth=11, total=   1.5s\n",
            "[CV] n_estimators=300, min_samples_split=50, min_samples_leaf=10, max_features=sqrt, max_depth=11 \n",
            "[CV]  n_estimators=300, min_samples_split=50, min_samples_leaf=10, max_features=sqrt, max_depth=11, total=   1.5s\n",
            "[CV] n_estimators=300, min_samples_split=50, min_samples_leaf=10, max_features=sqrt, max_depth=11 \n",
            "[CV]  n_estimators=300, min_samples_split=50, min_samples_leaf=10, max_features=sqrt, max_depth=11, total=   1.4s\n",
            "[CV] n_estimators=300, min_samples_split=50, min_samples_leaf=10, max_features=sqrt, max_depth=11 \n",
            "[CV]  n_estimators=300, min_samples_split=50, min_samples_leaf=10, max_features=sqrt, max_depth=11, total=   1.5s\n",
            "[CV] n_estimators=300, min_samples_split=50, min_samples_leaf=10, max_features=sqrt, max_depth=11 \n",
            "[CV]  n_estimators=300, min_samples_split=50, min_samples_leaf=10, max_features=sqrt, max_depth=11, total=   1.4s\n",
            "[CV] n_estimators=400, min_samples_split=5, min_samples_leaf=10, max_features=sqrt, max_depth=11 \n",
            "[CV]  n_estimators=400, min_samples_split=5, min_samples_leaf=10, max_features=sqrt, max_depth=11, total=   2.0s\n",
            "[CV] n_estimators=400, min_samples_split=5, min_samples_leaf=10, max_features=sqrt, max_depth=11 \n",
            "[CV]  n_estimators=400, min_samples_split=5, min_samples_leaf=10, max_features=sqrt, max_depth=11, total=   2.1s\n",
            "[CV] n_estimators=400, min_samples_split=5, min_samples_leaf=10, max_features=sqrt, max_depth=11 \n",
            "[CV]  n_estimators=400, min_samples_split=5, min_samples_leaf=10, max_features=sqrt, max_depth=11, total=   2.0s\n",
            "[CV] n_estimators=400, min_samples_split=5, min_samples_leaf=10, max_features=sqrt, max_depth=11 \n",
            "[CV]  n_estimators=400, min_samples_split=5, min_samples_leaf=10, max_features=sqrt, max_depth=11, total=   2.1s\n",
            "[CV] n_estimators=400, min_samples_split=5, min_samples_leaf=10, max_features=sqrt, max_depth=11 \n",
            "[CV]  n_estimators=400, min_samples_split=5, min_samples_leaf=10, max_features=sqrt, max_depth=11, total=   2.1s\n",
            "[CV] n_estimators=700, min_samples_split=50, min_samples_leaf=5, max_features=sqrt, max_depth=17 \n",
            "[CV]  n_estimators=700, min_samples_split=50, min_samples_leaf=5, max_features=sqrt, max_depth=17, total=   3.7s\n",
            "[CV] n_estimators=700, min_samples_split=50, min_samples_leaf=5, max_features=sqrt, max_depth=17 \n",
            "[CV]  n_estimators=700, min_samples_split=50, min_samples_leaf=5, max_features=sqrt, max_depth=17, total=   3.7s\n",
            "[CV] n_estimators=700, min_samples_split=50, min_samples_leaf=5, max_features=sqrt, max_depth=17 \n",
            "[CV]  n_estimators=700, min_samples_split=50, min_samples_leaf=5, max_features=sqrt, max_depth=17, total=   3.7s\n",
            "[CV] n_estimators=700, min_samples_split=50, min_samples_leaf=5, max_features=sqrt, max_depth=17 \n",
            "[CV]  n_estimators=700, min_samples_split=50, min_samples_leaf=5, max_features=sqrt, max_depth=17, total=   3.8s\n",
            "[CV] n_estimators=700, min_samples_split=50, min_samples_leaf=5, max_features=sqrt, max_depth=17 \n",
            "[CV]  n_estimators=700, min_samples_split=50, min_samples_leaf=5, max_features=sqrt, max_depth=17, total=   3.8s\n",
            "[CV] n_estimators=1000, min_samples_split=2, min_samples_leaf=5, max_features=sqrt, max_depth=23 \n",
            "[CV]  n_estimators=1000, min_samples_split=2, min_samples_leaf=5, max_features=sqrt, max_depth=23, total=   6.4s\n",
            "[CV] n_estimators=1000, min_samples_split=2, min_samples_leaf=5, max_features=sqrt, max_depth=23 \n",
            "[CV]  n_estimators=1000, min_samples_split=2, min_samples_leaf=5, max_features=sqrt, max_depth=23, total=   6.5s\n",
            "[CV] n_estimators=1000, min_samples_split=2, min_samples_leaf=5, max_features=sqrt, max_depth=23 \n",
            "[CV]  n_estimators=1000, min_samples_split=2, min_samples_leaf=5, max_features=sqrt, max_depth=23, total=   6.4s\n",
            "[CV] n_estimators=1000, min_samples_split=2, min_samples_leaf=5, max_features=sqrt, max_depth=23 \n",
            "[CV]  n_estimators=1000, min_samples_split=2, min_samples_leaf=5, max_features=sqrt, max_depth=23, total=   6.4s\n",
            "[CV] n_estimators=1000, min_samples_split=2, min_samples_leaf=5, max_features=sqrt, max_depth=23 \n",
            "[CV]  n_estimators=1000, min_samples_split=2, min_samples_leaf=5, max_features=sqrt, max_depth=23, total=   6.4s\n",
            "[CV] n_estimators=1100, min_samples_split=10, min_samples_leaf=5, max_features=sqrt, max_depth=5 \n",
            "[CV]  n_estimators=1100, min_samples_split=10, min_samples_leaf=5, max_features=sqrt, max_depth=5, total=   3.9s\n",
            "[CV] n_estimators=1100, min_samples_split=10, min_samples_leaf=5, max_features=sqrt, max_depth=5 \n",
            "[CV]  n_estimators=1100, min_samples_split=10, min_samples_leaf=5, max_features=sqrt, max_depth=5, total=   3.9s\n",
            "[CV] n_estimators=1100, min_samples_split=10, min_samples_leaf=5, max_features=sqrt, max_depth=5 \n",
            "[CV]  n_estimators=1100, min_samples_split=10, min_samples_leaf=5, max_features=sqrt, max_depth=5, total=   3.8s\n",
            "[CV] n_estimators=1100, min_samples_split=10, min_samples_leaf=5, max_features=sqrt, max_depth=5 \n",
            "[CV]  n_estimators=1100, min_samples_split=10, min_samples_leaf=5, max_features=sqrt, max_depth=5, total=   3.8s\n",
            "[CV] n_estimators=1100, min_samples_split=10, min_samples_leaf=5, max_features=sqrt, max_depth=5 \n",
            "[CV]  n_estimators=1100, min_samples_split=10, min_samples_leaf=5, max_features=sqrt, max_depth=5, total=   3.8s\n",
            "[CV] n_estimators=300, min_samples_split=5, min_samples_leaf=2, max_features=auto, max_depth=17 \n",
            "[CV]  n_estimators=300, min_samples_split=5, min_samples_leaf=2, max_features=auto, max_depth=17, total=   7.0s\n",
            "[CV] n_estimators=300, min_samples_split=5, min_samples_leaf=2, max_features=auto, max_depth=17 \n",
            "[CV]  n_estimators=300, min_samples_split=5, min_samples_leaf=2, max_features=auto, max_depth=17, total=   7.0s\n",
            "[CV] n_estimators=300, min_samples_split=5, min_samples_leaf=2, max_features=auto, max_depth=17 \n",
            "[CV]  n_estimators=300, min_samples_split=5, min_samples_leaf=2, max_features=auto, max_depth=17, total=   6.9s\n",
            "[CV] n_estimators=300, min_samples_split=5, min_samples_leaf=2, max_features=auto, max_depth=17 \n",
            "[CV]  n_estimators=300, min_samples_split=5, min_samples_leaf=2, max_features=auto, max_depth=17, total=   6.8s\n",
            "[CV] n_estimators=300, min_samples_split=5, min_samples_leaf=2, max_features=auto, max_depth=17 \n",
            "[CV]  n_estimators=300, min_samples_split=5, min_samples_leaf=2, max_features=auto, max_depth=17, total=   6.8s\n",
            "[CV] n_estimators=700, min_samples_split=15, min_samples_leaf=1, max_features=sqrt, max_depth=5 \n",
            "[CV]  n_estimators=700, min_samples_split=15, min_samples_leaf=1, max_features=sqrt, max_depth=5, total=   2.4s\n",
            "[CV] n_estimators=700, min_samples_split=15, min_samples_leaf=1, max_features=sqrt, max_depth=5 \n",
            "[CV]  n_estimators=700, min_samples_split=15, min_samples_leaf=1, max_features=sqrt, max_depth=5, total=   2.5s\n",
            "[CV] n_estimators=700, min_samples_split=15, min_samples_leaf=1, max_features=sqrt, max_depth=5 \n",
            "[CV]  n_estimators=700, min_samples_split=15, min_samples_leaf=1, max_features=sqrt, max_depth=5, total=   2.5s\n",
            "[CV] n_estimators=700, min_samples_split=15, min_samples_leaf=1, max_features=sqrt, max_depth=5 \n",
            "[CV]  n_estimators=700, min_samples_split=15, min_samples_leaf=1, max_features=sqrt, max_depth=5, total=   2.5s\n",
            "[CV] n_estimators=700, min_samples_split=15, min_samples_leaf=1, max_features=sqrt, max_depth=5 \n",
            "[CV]  n_estimators=700, min_samples_split=15, min_samples_leaf=1, max_features=sqrt, max_depth=5, total=   2.5s\n",
            "[CV] n_estimators=700, min_samples_split=15, min_samples_leaf=1, max_features=sqrt, max_depth=17 \n",
            "[CV]  n_estimators=700, min_samples_split=15, min_samples_leaf=1, max_features=sqrt, max_depth=17, total=   4.7s\n",
            "[CV] n_estimators=700, min_samples_split=15, min_samples_leaf=1, max_features=sqrt, max_depth=17 \n",
            "[CV]  n_estimators=700, min_samples_split=15, min_samples_leaf=1, max_features=sqrt, max_depth=17, total=   4.6s\n",
            "[CV] n_estimators=700, min_samples_split=15, min_samples_leaf=1, max_features=sqrt, max_depth=17 \n",
            "[CV]  n_estimators=700, min_samples_split=15, min_samples_leaf=1, max_features=sqrt, max_depth=17, total=   4.6s\n",
            "[CV] n_estimators=700, min_samples_split=15, min_samples_leaf=1, max_features=sqrt, max_depth=17 \n",
            "[CV]  n_estimators=700, min_samples_split=15, min_samples_leaf=1, max_features=sqrt, max_depth=17, total=   4.7s\n",
            "[CV] n_estimators=700, min_samples_split=15, min_samples_leaf=1, max_features=sqrt, max_depth=17 \n",
            "[CV]  n_estimators=700, min_samples_split=15, min_samples_leaf=1, max_features=sqrt, max_depth=17, total=   4.6s\n"
          ],
          "name": "stdout"
        },
        {
          "output_type": "stream",
          "text": [
            "[Parallel(n_jobs=1)]: Done  50 out of  50 | elapsed:  5.0min finished\n"
          ],
          "name": "stderr"
        },
        {
          "output_type": "execute_result",
          "data": {
            "text/plain": [
              "RandomizedSearchCV(cv=5, error_score=nan,\n",
              "                   estimator=RandomForestRegressor(bootstrap=True,\n",
              "                                                   ccp_alpha=0.0,\n",
              "                                                   criterion='mse',\n",
              "                                                   max_depth=None,\n",
              "                                                   max_features='auto',\n",
              "                                                   max_leaf_nodes=None,\n",
              "                                                   max_samples=None,\n",
              "                                                   min_impurity_decrease=0.0,\n",
              "                                                   min_impurity_split=None,\n",
              "                                                   min_samples_leaf=1,\n",
              "                                                   min_samples_split=2,\n",
              "                                                   min_weight_fraction_leaf=0.0,\n",
              "                                                   n_estimators=100,\n",
              "                                                   n_jobs=None, oob_score=Fals...\n",
              "                   iid='deprecated', n_iter=10, n_jobs=1,\n",
              "                   param_distributions={'max_depth': [5, 11, 17, 23, 30],\n",
              "                                        'max_features': ['auto', 'sqrt'],\n",
              "                                        'min_samples_leaf': [1, 2, 5, 10],\n",
              "                                        'min_samples_split': [2, 5, 10, 15, 50,\n",
              "                                                              100],\n",
              "                                        'n_estimators': [100, 200, 300, 400,\n",
              "                                                         500, 600, 700, 800,\n",
              "                                                         900, 1000, 1100,\n",
              "                                                         1200]},\n",
              "                   pre_dispatch='2*n_jobs', random_state=42, refit=True,\n",
              "                   return_train_score=False, scoring='neg_mean_squared_error',\n",
              "                   verbose=2)"
            ]
          },
          "metadata": {
            "tags": []
          },
          "execution_count": 71
        }
      ]
    },
    {
      "cell_type": "code",
      "metadata": {
        "colab": {
          "base_uri": "https://localhost:8080/"
        },
        "id": "O3i5kZ6a8Z40",
        "outputId": "0f104beb-1a63-4f19-8788-e0305a59d017"
      },
      "source": [
        "rf_random.best_params_"
      ],
      "execution_count": 72,
      "outputs": [
        {
          "output_type": "execute_result",
          "data": {
            "text/plain": [
              "{'max_depth': 17,\n",
              " 'max_features': 'auto',\n",
              " 'min_samples_leaf': 2,\n",
              " 'min_samples_split': 5,\n",
              " 'n_estimators': 300}"
            ]
          },
          "metadata": {
            "tags": []
          },
          "execution_count": 72
        }
      ]
    },
    {
      "cell_type": "code",
      "metadata": {
        "id": "0-MnBY129waG"
      },
      "source": [
        "new_pred=rf_random.predict(X_test)"
      ],
      "execution_count": 73,
      "outputs": []
    },
    {
      "cell_type": "code",
      "metadata": {
        "colab": {
          "base_uri": "https://localhost:8080/"
        },
        "id": "7onaRGv7-eT9",
        "outputId": "226f72a0-b731-4756-871b-106d2ef6161b"
      },
      "source": [
        "from sklearn import metrics\r\n",
        "metrics.mean_squared_error(y_test,new_pred)"
      ],
      "execution_count": 75,
      "outputs": [
        {
          "output_type": "execute_result",
          "data": {
            "text/plain": [
              "3985948.163123067"
            ]
          },
          "metadata": {
            "tags": []
          },
          "execution_count": 75
        }
      ]
    },
    {
      "cell_type": "code",
      "metadata": {
        "colab": {
          "base_uri": "https://localhost:8080/"
        },
        "id": "BZAvkM22_K5x",
        "outputId": "f8e99bd1-5041-490a-fa93-1101c3163f4a"
      },
      "source": [
        "from sklearn import metrics\r\n",
        "metrics.r2_score(y_test,new_pred)"
      ],
      "execution_count": 77,
      "outputs": [
        {
          "output_type": "execute_result",
          "data": {
            "text/plain": [
              "0.8151406292981187"
            ]
          },
          "metadata": {
            "tags": []
          },
          "execution_count": 77
        }
      ]
    },
    {
      "cell_type": "code",
      "metadata": {
        "id": "3wwJH730_jx1"
      },
      "source": [
        "import pickle\r\n",
        "filename='Flight_Fare.pkl'\r\n",
        "pickle.dump(rf_random, open(filename, 'wb'))"
      ],
      "execution_count": 79,
      "outputs": []
    },
    {
      "cell_type": "code",
      "metadata": {
        "id": "brtcpPCJFpyQ"
      },
      "source": [
        ""
      ],
      "execution_count": null,
      "outputs": []
    }
  ]
}